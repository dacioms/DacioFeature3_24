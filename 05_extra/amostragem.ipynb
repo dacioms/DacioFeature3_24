{
 "cells": [
  {
   "cell_type": "markdown",
   "metadata": {},
   "source": [
    "### 7. Técnicas de Amostragem e Balanceamento de Dados\n",
    "\n",
    "#### 7.1. Explicar a importância da amostragem e balanceamento de dados\n",
    "A amostragem e o balanceamento de dados são fundamentais em machine learning para garantir que os modelos aprendam de forma eficaz e generalizem bem. Dados desbalanceados podem levar a modelos enviesados, que favorecem as classes majoritárias, resultando em baixa performance para as classes minoritárias.\n",
    "\n",
    "#### 7.2. Técnicas de Amostragem\n",
    "A amostragem pode ser feita de várias maneiras para preparar os dados para o treinamento do modelo.\n",
    "\n",
    "##### 7.2.1. Amostragem Aleatória\n",
    "A amostragem aleatória simples seleciona amostras aleatoriamente do conjunto de dados original. Pode ser feita com ou sem reposição."
   ]
  },
  {
   "cell_type": "code",
   "execution_count": null,
   "metadata": {},
   "outputs": [
    {
     "name": "stdout",
     "output_type": "stream",
     "text": [
      "     feature1  feature2  label\n",
      "521 -0.554129 -1.059449      0\n",
      "737  1.245377  1.015120      0\n",
      "740 -1.057840 -1.578459      0\n",
      "660 -0.763906 -0.291600      1\n",
      "411 -1.432203 -1.752419      1\n"
     ]
    }
   ],
   "source": [
    "import pandas as pd\n",
    "import numpy as np\n",
    "\n",
    "# Exemplo de dados\n",
    "data = pd.DataFrame({\n",
    "    'feature1': np.random.randn(1000),\n",
    "    'feature2': np.random.randn(1000),\n",
    "    'label': np.random.randint(0, 2, 1000)\n",
    "})\n",
    "\n",
    "# Amostragem aleatória\n",
    "sampled_data = data.sample(n=200, random_state=42)\n",
    "print(sampled_data.head())"
   ]
  },
  {
   "cell_type": "markdown",
   "metadata": {},
   "source": [
    "##### 7.2.2. Amostragem Estratificada\n",
    "A amostragem estratificada garante que a proporção de classes na amostra seja a mesma que no conjunto de dados original."
   ]
  },
  {
   "cell_type": "code",
   "execution_count": null,
   "metadata": {},
   "outputs": [
    {
     "name": "stdout",
     "output_type": "stream",
     "text": [
      "label\n",
      "0    0.5075\n",
      "1    0.4925\n",
      "Name: proportion, dtype: float64\n",
      "label\n",
      "0    0.51\n",
      "1    0.49\n",
      "Name: proportion, dtype: float64\n"
     ]
    }
   ],
   "source": [
    "from sklearn.model_selection import train_test_split\n",
    "\n",
    "# Exemplo de dados\n",
    "data = pd.DataFrame({\n",
    "    'feature1': np.random.randn(1000),\n",
    "    'feature2': np.random.randn(1000),\n",
    "    'label': np.random.randint(0, 2, 1000)\n",
    "})\n",
    "\n",
    "# Amostragem estratificada\n",
    "X = data[['feature1', 'feature2']]\n",
    "y = data['label']\n",
    "X_train, X_test, y_train, y_test = train_test_split(X, y, test_size=0.2, stratify=y, random_state=42)\n",
    "\n",
    "print(y_train.value_counts(normalize=True))\n",
    "print(y_test.value_counts(normalize=True))"
   ]
  },
  {
   "cell_type": "markdown",
   "metadata": {},
   "source": [
    "#### 7.3. Técnicas de Balanceamento de Dados\n",
    "Balancear os dados é essencial para evitar que modelos de machine learning sejam enviesados para a classe majoritária.\n",
    "\n",
    "##### 7.3.1. Oversampling\n",
    "A técnica de oversampling aumenta o número de instâncias da classe minoritária, replicando os exemplos existentes ou gerando novos exemplos sintéticos."
   ]
  },
  {
   "cell_type": "code",
   "execution_count": null,
   "metadata": {},
   "outputs": [
    {
     "name": "stdout",
     "output_type": "stream",
     "text": [
      "label\n",
      "0.0    900\n",
      "1.0    900\n",
      "Name: count, dtype: int64\n"
     ]
    }
   ],
   "source": [
    "from imblearn.over_sampling import RandomOverSampler\n",
    "\n",
    "# Exemplo de dados\n",
    "data = pd.DataFrame({\n",
    "    'feature1': np.random.randn(1000),\n",
    "    'feature2': np.random.randn(1000),\n",
    "    'label': np.concatenate([np.zeros(900), np.ones(100)])\n",
    "})\n",
    "\n",
    "# Aplicar Oversampling\n",
    "X = data[['feature1', 'feature2']]\n",
    "y = data['label']\n",
    "ros = RandomOverSampler(random_state=42)\n",
    "X_resampled, y_resampled = ros.fit_resample(X, y)\n",
    "\n",
    "print(pd.Series(y_resampled).value_counts())"
   ]
  },
  {
   "cell_type": "markdown",
   "metadata": {},
   "source": [
    "##### 7.3.2. SMOTE (Synthetic Minority Over-sampling Technique)\n",
    "SMOTE cria exemplos sintéticos da classe minoritária combinando exemplos existentes."
   ]
  },
  {
   "cell_type": "code",
   "execution_count": null,
   "metadata": {},
   "outputs": [
    {
     "name": "stdout",
     "output_type": "stream",
     "text": [
      "label\n",
      "0.0    900\n",
      "1.0    900\n",
      "Name: count, dtype: int64\n"
     ]
    }
   ],
   "source": [
    "from imblearn.over_sampling import SMOTE\n",
    "\n",
    "# Exemplo de dados\n",
    "data = pd.DataFrame({\n",
    "    'feature1': np.random.randn(1000),\n",
    "    'feature2': np.random.randn(1000),\n",
    "    'label': np.concatenate([np.zeros(900), np.ones(100)])\n",
    "})\n",
    "\n",
    "# Aplicar SMOTE\n",
    "X = data[['feature1', 'feature2']]\n",
    "y = data['label']\n",
    "smote = SMOTE(random_state=42)\n",
    "X_resampled, y_resampled = smote.fit_resample(X, y)\n",
    "\n",
    "print(pd.Series(y_resampled).value_counts())"
   ]
  },
  {
   "cell_type": "markdown",
   "metadata": {},
   "source": [
    "##### 7.3.3. Undersampling\n",
    "A técnica de undersampling reduz o número de instâncias da classe majoritária para equilibrar as classes."
   ]
  },
  {
   "cell_type": "code",
   "execution_count": null,
   "metadata": {},
   "outputs": [
    {
     "name": "stdout",
     "output_type": "stream",
     "text": [
      "label\n",
      "0.0    100\n",
      "1.0    100\n",
      "Name: count, dtype: int64\n"
     ]
    }
   ],
   "source": [
    "from imblearn.under_sampling import RandomUnderSampler\n",
    "\n",
    "# Exemplo de dados\n",
    "data = pd.DataFrame({\n",
    "    'feature1': np.random.randn(1000),\n",
    "    'feature2': np.random.randn(1000),\n",
    "    'label': np.concatenate([np.zeros(900), np.ones(100)])\n",
    "})\n",
    "\n",
    "# Aplicar Undersampling\n",
    "X = data[['feature1', 'feature2']]\n",
    "y = data['label']\n",
    "rus = RandomUnderSampler(random_state=42)\n",
    "X_resampled, y_resampled = rus.fit_resample(X, y)\n",
    "\n",
    "print(pd.Series(y_resampled).value_counts())"
   ]
  }
 ],
 "metadata": {
  "language_info": {
   "name": "python"
  }
 },
 "nbformat": 4,
 "nbformat_minor": 2
}
