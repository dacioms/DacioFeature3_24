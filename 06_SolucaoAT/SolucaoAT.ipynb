{
 "cells": [
  {
   "cell_type": "markdown",
   "metadata": {},
   "source": [
    "# Clusterização\n",
    "\n",
    "- Desenvolver modelos usando K-Médias\t\n",
    "    - 1.1\tExplicar qual o objetivo da tarefa de clusterização\n",
    "    - 1.2\tUtilizar o algoritmo de K-Médias em diferentes bases de dados\n",
    "    - 1.3\tIdentificar casos em que o algoritmo de K-médias falha\n",
    "    - 1.4\tUtilizar o algoritmo de K-Médias para a aplicação de quantização vetorial\n",
    "    - 1.5\tComparar os resultados de K-Médias com PCA \n",
    "- Desenvolver modelos usando Clusterização Hierárquica\t\n",
    "    - 2.1\tExplicar os diferentes métodos de linkage que definem a similiridade de clusters: ward, average, single and complete\n",
    "    - 2.2\tUtilizar o algoritmo de clusterização hierárquica em diferentes datasets\n",
    "    - 2.3\tRevisar os modelos obtidos utilizando dendrogramas\n",
    "    - 2.4\tDeterminar o número de clusters obtidos em um modelo de clusterização hierárquica baseado na distância relativa entre os agrupamentos encontrados\n",
    "- Desenvolver modelos usando DBScan\t\n",
    "    - 3.2\tUtilizar o algoritmo de clusterização baseado em densidade DBSCAN em dados sintéticos\n",
    "    - 3.1\tDefinir o número pontos mínimos e da distância eps para determinação do clusters com o algoritmo de DBSCAN\n",
    "    - 3.3\tUtilizar o algoritmo de clusterização baseado em densidade DBSCAN em dados reais\n",
    "    - 3.4\tAvaliar diferentes algoritmos de clusterização baseados nas métricas ARI (adjusted rand index) e NMI (normalized mutual information)\n",
    "    - 3.5\tAvaliar diferentes algoritmos de clusterização baseados no coeficiente de Silhueta\n",
    "    - 3.6\tComparar modelos usando algoritmos de K-Médias, clusterização hierárquiva e DBScan em imagens\n",
    "- Desenvolver modelos para extrair tópicos de textos\t\n",
    "    - 4.1\tUtilizar o algoritmo de K-Médias para agrupar textos do dataset 20 newsgroups\n",
    "    - 4.2\tExplicar a tarefa de modelagem de tópicos através da definição de documentos, palavras e tópicos\n",
    "    - 4.3\tUtilizar o algoritmo de NMF (Non-Negative Matrix Factoration) para definir os tópicos de um dataset textual\n",
    "    - 4.4\tUtilizar o algoritmo de LDA (Latent Dirichlet Allocation) para definir os tópicos de um dataset textual\n",
    "    - 4.5\tRepresentar dados de alta-dimensionalidade em duas dimensões utilizando a técnica não linear de t-SNE"
   ]
  }
 ],
 "metadata": {
  "language_info": {
   "name": "python"
  }
 },
 "nbformat": 4,
 "nbformat_minor": 2
}
