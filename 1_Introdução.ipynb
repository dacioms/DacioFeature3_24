{
 "cells": [
  {
   "cell_type": "markdown",
   "metadata": {},
   "source": [
    "# github --> dacioms/DacioFeature3_24"
   ]
  },
  {
   "cell_type": "code",
   "execution_count": 10,
   "metadata": {
    "vscode": {
     "languageId": "shellscript"
    }
   },
   "outputs": [
    {
     "name": "stdout",
     "output_type": "stream",
     "text": [
      "Requirement already satisfied: numpy in c:\\users\\dacio.souza\\documents\\featureenginnering\\daciofeature3_24\\venv\\lib\\site-packages (from -r requirements.txt (line 1)) (2.0.1)\n",
      "Requirement already satisfied: scikit-learn in c:\\users\\dacio.souza\\documents\\featureenginnering\\daciofeature3_24\\venv\\lib\\site-packages (from -r requirements.txt (line 2)) (1.5.1)\n",
      "Requirement already satisfied: pandas in c:\\users\\dacio.souza\\documents\\featureenginnering\\daciofeature3_24\\venv\\lib\\site-packages (from -r requirements.txt (line 3)) (2.2.2)\n",
      "Requirement already satisfied: matplotlib in c:\\users\\dacio.souza\\documents\\featureenginnering\\daciofeature3_24\\venv\\lib\\site-packages (from -r requirements.txt (line 4)) (3.9.1)\n",
      "Requirement already satisfied: nltk in c:\\users\\dacio.souza\\documents\\featureenginnering\\daciofeature3_24\\venv\\lib\\site-packages (from -r requirements.txt (line 5)) (3.8.1)\n",
      "Requirement already satisfied: statsmodels in c:\\users\\dacio.souza\\documents\\featureenginnering\\daciofeature3_24\\venv\\lib\\site-packages (from -r requirements.txt (line 6)) (0.14.2)\n",
      "Requirement already satisfied: scipy>=1.6.0 in c:\\users\\dacio.souza\\documents\\featureenginnering\\daciofeature3_24\\venv\\lib\\site-packages (from scikit-learn->-r requirements.txt (line 2)) (1.14.0)\n",
      "Requirement already satisfied: joblib>=1.2.0 in c:\\users\\dacio.souza\\documents\\featureenginnering\\daciofeature3_24\\venv\\lib\\site-packages (from scikit-learn->-r requirements.txt (line 2)) (1.4.2)\n",
      "Requirement already satisfied: threadpoolctl>=3.1.0 in c:\\users\\dacio.souza\\documents\\featureenginnering\\daciofeature3_24\\venv\\lib\\site-packages (from scikit-learn->-r requirements.txt (line 2)) (3.5.0)\n",
      "Requirement already satisfied: python-dateutil>=2.8.2 in c:\\users\\dacio.souza\\documents\\featureenginnering\\daciofeature3_24\\venv\\lib\\site-packages (from pandas->-r requirements.txt (line 3)) (2.9.0.post0)\n",
      "Requirement already satisfied: pytz>=2020.1 in c:\\users\\dacio.souza\\documents\\featureenginnering\\daciofeature3_24\\venv\\lib\\site-packages (from pandas->-r requirements.txt (line 3)) (2024.1)\n",
      "Requirement already satisfied: tzdata>=2022.7 in c:\\users\\dacio.souza\\documents\\featureenginnering\\daciofeature3_24\\venv\\lib\\site-packages (from pandas->-r requirements.txt (line 3)) (2024.1)\n",
      "Requirement already satisfied: contourpy>=1.0.1 in c:\\users\\dacio.souza\\documents\\featureenginnering\\daciofeature3_24\\venv\\lib\\site-packages (from matplotlib->-r requirements.txt (line 4)) (1.2.1)\n",
      "Requirement already satisfied: cycler>=0.10 in c:\\users\\dacio.souza\\documents\\featureenginnering\\daciofeature3_24\\venv\\lib\\site-packages (from matplotlib->-r requirements.txt (line 4)) (0.12.1)\n",
      "Requirement already satisfied: fonttools>=4.22.0 in c:\\users\\dacio.souza\\documents\\featureenginnering\\daciofeature3_24\\venv\\lib\\site-packages (from matplotlib->-r requirements.txt (line 4)) (4.53.1)\n",
      "Requirement already satisfied: kiwisolver>=1.3.1 in c:\\users\\dacio.souza\\documents\\featureenginnering\\daciofeature3_24\\venv\\lib\\site-packages (from matplotlib->-r requirements.txt (line 4)) (1.4.5)\n",
      "Requirement already satisfied: packaging>=20.0 in c:\\users\\dacio.souza\\documents\\featureenginnering\\daciofeature3_24\\venv\\lib\\site-packages (from matplotlib->-r requirements.txt (line 4)) (24.1)\n",
      "Requirement already satisfied: pillow>=8 in c:\\users\\dacio.souza\\documents\\featureenginnering\\daciofeature3_24\\venv\\lib\\site-packages (from matplotlib->-r requirements.txt (line 4)) (10.4.0)\n",
      "Requirement already satisfied: pyparsing>=2.3.1 in c:\\users\\dacio.souza\\documents\\featureenginnering\\daciofeature3_24\\venv\\lib\\site-packages (from matplotlib->-r requirements.txt (line 4)) (3.1.2)\n",
      "Requirement already satisfied: click in c:\\users\\dacio.souza\\documents\\featureenginnering\\daciofeature3_24\\venv\\lib\\site-packages (from nltk->-r requirements.txt (line 5)) (8.1.7)\n",
      "Requirement already satisfied: regex>=2021.8.3 in c:\\users\\dacio.souza\\documents\\featureenginnering\\daciofeature3_24\\venv\\lib\\site-packages (from nltk->-r requirements.txt (line 5)) (2024.7.24)\n",
      "Requirement already satisfied: tqdm in c:\\users\\dacio.souza\\documents\\featureenginnering\\daciofeature3_24\\venv\\lib\\site-packages (from nltk->-r requirements.txt (line 5)) (4.66.4)\n",
      "Requirement already satisfied: patsy>=0.5.6 in c:\\users\\dacio.souza\\documents\\featureenginnering\\daciofeature3_24\\venv\\lib\\site-packages (from statsmodels->-r requirements.txt (line 6)) (0.5.6)\n",
      "Requirement already satisfied: six in c:\\users\\dacio.souza\\documents\\featureenginnering\\daciofeature3_24\\venv\\lib\\site-packages (from patsy>=0.5.6->statsmodels->-r requirements.txt (line 6)) (1.16.0)\n",
      "Requirement already satisfied: colorama in c:\\users\\dacio.souza\\documents\\featureenginnering\\daciofeature3_24\\venv\\lib\\site-packages (from click->nltk->-r requirements.txt (line 5)) (0.4.6)\n"
     ]
    }
   ],
   "source": [
    "!pip install -r requirements.txt"
   ]
  },
  {
   "cell_type": "markdown",
   "metadata": {},
   "source": [
    "### Módulo A: Introdução ao Aprendizado de Máquina    \n",
    "### Módulo A: Introdução ao Aprendizado de Máquina\n",
    "\n",
    "#### A.1 Definição e Conceitos Básicos\n",
    "\n",
    "**A.1.1 O que é Aprendizado de Máquina?**\n",
    "\n",
    "O aprendizado de máquina é um subcampo da inteligência artificial (IA) que se concentra no desenvolvimento de algoritmos que permitem aos computadores aprender a partir de dados e tomar decisões ou fazer previsões. Ao contrário dos sistemas tradicionais de programação, onde o comportamento é explicitamente codificado, os sistemas de aprendizado de máquina identificam padrões em dados e ajustam seu comportamento com base nesses padrões.\n",
    "\n",
    "**A.1.2 Tipos de Aprendizado de Máquina**\n",
    "\n",
    "- **Aprendizado Supervisionado:** Envolve o treinamento de um modelo usando um conjunto de dados rotulados. Cada exemplo de treinamento é composto por uma entrada e uma saída desejada. O objetivo é aprender uma função que mapeia entradas para saídas. Exemplos incluem regressão linear, regressão logística, máquinas de vetores de suporte (SVM) e redes neurais.\n",
    "  \n",
    "- **Aprendizado Não Supervisionado:** O modelo é treinado em dados não rotulados e deve encontrar estruturas ocultas nesses dados. Exemplos comuns incluem algoritmos de clusterização como K-means e métodos de redução de dimensionalidade como a análise de componentes principais (PCA).\n",
    "  \n",
    "- **Aprendizado por Reforço:** O algoritmo aprende interagindo com um ambiente e recebe recompensas ou punições com base nas ações realizadas. O objetivo é maximizar a recompensa acumulada ao longo do tempo. É amplamente utilizado em robótica, jogos e sistemas de controle.\n",
    "\n",
    "**A.1.3 Aplicações do Aprendizado de Máquina**\n",
    "\n",
    "- **Saúde:** Diagnóstico de doenças, análise de imagens médicas, previsão de epidemias.\n",
    "- **Finanças:** Previsão de preços de ações, detecção de fraudes, análise de crédito.\n",
    "- **Tecnologia:** Reconhecimento de fala, tradução automática, sistemas de recomendação.\n",
    "- **Outras Áreas:** Automóveis autônomos, casas inteligentes, segurança cibernética.\n"
   ]
  },
  {
   "cell_type": "markdown",
   "metadata": {},
   "source": [
    "\n",
    "#### A.2 Fundamentos Matemáticos\n",
    "\n",
    "**A.2.1 Álgebra Linear para Aprendizado de Máquina**\n",
    "\n",
    "- **Vetores e Matrizes:** São os blocos de construção fundamentais para manipulação de dados em aprendizado de máquina. Operações com vetores e matrizes incluem adição, subtração, multiplicação (elemento a elemento e produto de matrizes) e transposição.\n",
    "    "
   ]
  },
  {
   "cell_type": "markdown",
   "metadata": {},
   "source": [
    "- **Decomposição Matricial:** Técnicas como a Decomposição em Valores Singulares (SVD) e a Análise de Componentes Principais (PCA) são usadas para simplificar dados e reduzir a dimensionalidade.\n",
    "\n",
    "**A.2.2 Estatística e Probabilidade**\n",
    "\n",
    "- **Distribuições de Probabilidade:** Conhecer diferentes distribuições de probabilidade, como normal, binomial e Poisson, é crucial para modelar dados e fazer inferências.\n",
    "  \n",
    "- **Inferência Estatística:** Envolve o uso de amostras de dados para fazer generalizações sobre uma população. Inclui testes de hipóteses e construção de intervalos de confiança.\n",
    "  \n",
    "- **Métodos Bayesianos:** Utilizam o Teorema de Bayes para atualizar a probabilidade de uma hipótese com base em novas evidências.\n",
    "\n",
    "**A.2.3 Cálculo e Otimização**\n",
    "\n",
    "- **Derivadas e Gradientes:** São usados para encontrar máximos e mínimos de funções. O Gradiente Descendente é um método iterativo usado para minimizar funções de custo em aprendizado de máquina.\n",
    "    "
   ]
  },
  {
   "cell_type": "code",
   "execution_count": 2,
   "metadata": {},
   "outputs": [
    {
     "data": {
      "image/png": "[encoded data removed]",
      "text/plain": [
       "<Figure size 640x480 with 1 Axes>"
      ]
     },
     "metadata": {},
     "output_type": "display_data"
    }
   ],
   "source": [
    "import numpy as np\n",
    "import matplotlib.pyplot as plt\n",
    "from sklearn.linear_model import LinearRegression\n",
    "\n",
    "# Dados de exemplo\n",
    "X = np.array([1, 2, 3, 4, 5, 2,0,4,7,9,1,2,8,3,]).reshape(-1, 1)\n",
    "y = np.array([1, 3, 2, 5, 4,7,5,6,8,7,3,0,7,6])\n",
    "\n",
    "# Criação do modelo de regressão linear\n",
    "model = LinearRegression()\n",
    "model.fit(X, y)\n",
    "\n",
    "# Previsões\n",
    "y_pred = model.predict(X)\n",
    "\n",
    "# Visualização\n",
    "plt.scatter(X, y, color='blue')\n",
    "plt.plot(X, y_pred, color='red')\n",
    "plt.title('Regressão Linear')\n",
    "plt.xlabel('X')\n",
    "plt.ylabel('y')\n",
    "plt.show()"
   ]
  },
  {
   "cell_type": "markdown",
   "metadata": {},
   "source": [
    "#### A.3 Ambiente de Desenvolvimento\n",
    "\n",
    "**A.3.1 Instalação do Python e Jupyter Notebook**\n",
    "\n",
    "- **Python:** Baixe e instale a versão mais recente do Python a partir do site oficial. O Python é uma linguagem de programação amplamente usada devido à sua simplicidade e vasta coleção de bibliotecas.\n",
    "  \n",
    "- **Jupyter Notebook:** Instale o Jupyter Notebook usando o gerenciador de pacotes `pip`.\n",
    "\n",
    "  - **Instalação:** \n",
    "    "
   ]
  },
  {
   "cell_type": "code",
   "execution_count": 12,
   "metadata": {
    "vscode": {
     "languageId": "shellscript"
    }
   },
   "outputs": [],
   "source": [
    "\n",
    "# pip install notebook\n",
    "# jupyter notebook\n",
    "    "
   ]
  },
  {
   "cell_type": "markdown",
   "metadata": {},
   "source": [
    "**A.3.2 Bibliotecas Essenciais**\n",
    "\n",
    "- **NumPy:** Biblioteca para operações matemáticas e manipulação de arrays.\n",
    "- **Pandas:** Utilizada para manipulação e análise de dados.\n",
    "- **Matplotlib e Seaborn:** Bibliotecas de visualização de dados.\n",
    "- **Scikit-Learn:** Biblioteca que fornece ferramentas para modelagem de aprendizado de máquina.\n",
    "\n",
    "**A.3.3 Configuração do Ambiente de Desenvolvimento**\n",
    "\n",
    "- **Instalação de Pacotes:** Use `pip` para instalar as bibliotecas necessárias.\n",
    "\n",
    "  - **Exemplo:** \n",
    "    "
   ]
  },
  {
   "cell_type": "code",
   "execution_count": 13,
   "metadata": {
    "vscode": {
     "languageId": "shellscript"
    }
   },
   "outputs": [],
   "source": [
    "\n",
    "#pip install numpy pandas matplotlib seaborn scikit-learn\n",
    "    "
   ]
  },
  {
   "cell_type": "markdown",
   "metadata": {},
   "source": [
    "- **Configuração de Ambientes Virtuais:** Utilize `virtualenv` para criar ambientes de desenvolvimento isolados, garantindo que as dependências do projeto não entrem em conflito.\n",
    "\n",
    "  - **Exemplo:** \n",
    "    "
   ]
  },
  {
   "cell_type": "code",
   "execution_count": 14,
   "metadata": {
    "vscode": {
     "languageId": "shellscript"
    }
   },
   "outputs": [
    {
     "ename": "SyntaxError",
     "evalue": "invalid syntax (350883644.py, line 1)",
     "output_type": "error",
     "traceback": [
      "\u001b[1;36m  Cell \u001b[1;32mIn[14], line 1\u001b[1;36m\u001b[0m\n\u001b[1;33m    Set-ExecutionPolicy Unrestricted\u001b[0m\n\u001b[1;37m                        ^\u001b[0m\n\u001b[1;31mSyntaxError\u001b[0m\u001b[1;31m:\u001b[0m invalid syntax\n"
     ]
    }
   ],
   "source": [
    "# Set-ExecutionPolicy Unrestricted"
   ]
  },
  {
   "cell_type": "code",
   "execution_count": null,
   "metadata": {
    "vscode": {
     "languageId": "shellscript"
    }
   },
   "outputs": [],
   "source": [
    "# python -m venv venv"
   ]
  },
  {
   "cell_type": "code",
   "execution_count": null,
   "metadata": {
    "vscode": {
     "languageId": "shellscript"
    }
   },
   "outputs": [],
   "source": [
    "\n",
    "# pip install virtualenv\n",
    "# virtualenv myenv\n",
    "# #no unix source myenv/bin/activate  \n",
    "# #no windows myenv\\Scripts/Activate \n",
    "# myenv\\Scripts/Activate "
   ]
  },
  {
   "cell_type": "markdown",
   "metadata": {},
   "source": [
    "### Módulo B: Técnicas de Aprendizado de Máquina Supervisionado\n",
    "\n",
    "#### B.1 Regressão\n",
    "\n",
    "**B.1.1 Regressão Linear**\n",
    "\n",
    "- **Conceito:** A regressão linear é uma técnica de aprendizado supervisionado usada para prever o valor de uma variável contínua (variável dependente) com base em uma ou mais variáveis independentes.\n",
    "  \n",
    "- **Equação da Regressão Linear:** A fórmula geral para uma regressão linear simples é \\( y = mx + b \\), onde:\n",
    "  - \\( y \\) é a variável dependente.\n",
    "  - \\( x \\) é a variável independente.\n",
    "  - \\( m \\) é o coeficiente angular (slope).\n",
    "  - \\( b \\) é o intercepto (intercept).\n",
    "  \n",
    "- **Exemplo Prático em Python:**"
   ]
  },
  {
   "cell_type": "code",
   "execution_count": 3,
   "metadata": {},
   "outputs": [
    {
     "data": {
      "image/png": "[encoded data removed]",
      "text/plain": [
       "<Figure size 640x480 with 1 Axes>"
      ]
     },
     "metadata": {},
     "output_type": "display_data"
    }
   ],
   "source": [
    "import numpy as np\n",
    "import matplotlib.pyplot as plt\n",
    "from sklearn.linear_model import LinearRegression\n",
    "\n",
    "# Dados de exemplo\n",
    "X = np.array([1, 2, 3, 4, 5]).reshape(-1, 1)\n",
    "y = np.array([1, 3, 2, 5, 4])\n",
    "\n",
    "# Criação do modelo de regressão linear\n",
    "model = LinearRegression()\n",
    "model.fit(X, y)\n",
    "\n",
    "# Previsões\n",
    "y_pred = model.predict(X)\n",
    "\n",
    "# Visualização\n",
    "plt.scatter(X, y, color='blue')\n",
    "plt.plot(X, y_pred, color='red')\n",
    "plt.title('Regressão Linear')\n",
    "plt.xlabel('X')\n",
    "plt.ylabel('y')\n",
    "plt.show()"
   ]
  },
  {
   "cell_type": "markdown",
   "metadata": {},
   "source": [
    "**B.1.2 Regressão Logística**\n",
    "\n",
    "- **Conceito:** A regressão logística é usada para modelar a probabilidade de uma variável dependente binária (com dois possíveis resultados, como 0 e 1) em função de uma ou mais variáveis independentes.\n",
    "\n",
    "- **Equação da Regressão Logística:** A fórmula geral é \\( P(y=1|x) = \f\n",
    "rac{1\\}{1 + e^{-(b_0 + b_1x_1 + ... + b_nx_n)}} \\), onde:\n",
    "  - \\( P(y=1|x) \\) é a probabilidade de \\( y \\) ser 1 dado \\( x \\).\n",
    "  - \\( b_0, b_1, ..., b_n \\) são os coeficientes do modelo.\n",
    "  \n",
    "- **Exemplo Prático em Python:**"
   ]
  },
  {
   "cell_type": "code",
   "execution_count": 14,
   "metadata": {},
   "outputs": [
    {
     "ename": "ValueError",
     "evalue": "Unknown label type: continuous. Maybe you are trying to fit a classifier, which expects discrete classes on a regression target with continuous values.",
     "output_type": "error",
     "traceback": [
      "\u001b[1;31m---------------------------------------------------------------------------\u001b[0m",
      "\u001b[1;31mValueError\u001b[0m                                Traceback (most recent call last)",
      "Cell \u001b[1;32mIn[14], line 16\u001b[0m\n\u001b[0;32m     14\u001b[0m \u001b[38;5;66;03m# Criação do modelo de regressão logística\u001b[39;00m\n\u001b[0;32m     15\u001b[0m model \u001b[38;5;241m=\u001b[39m LogisticRegression()\n\u001b[1;32m---> 16\u001b[0m \u001b[43mmodel\u001b[49m\u001b[38;5;241;43m.\u001b[39;49m\u001b[43mfit\u001b[49m\u001b[43m(\u001b[49m\u001b[43mX\u001b[49m\u001b[43m,\u001b[49m\u001b[43m \u001b[49m\u001b[43my\u001b[49m\u001b[43m)\u001b[49m\n\u001b[0;32m     18\u001b[0m \u001b[38;5;66;03m# Previsões\u001b[39;00m\n\u001b[0;32m     19\u001b[0m y_pred \u001b[38;5;241m=\u001b[39m model\u001b[38;5;241m.\u001b[39mpredict(X)\n",
      "File \u001b[1;32mc:\\Users\\dacio.souza\\Documents\\featureEnginnering\\DacioFeature3_24\\venv\\Lib\\site-packages\\sklearn\\base.py:1473\u001b[0m, in \u001b[0;36m_fit_context.<locals>.decorator.<locals>.wrapper\u001b[1;34m(estimator, *args, **kwargs)\u001b[0m\n\u001b[0;32m   1466\u001b[0m     estimator\u001b[38;5;241m.\u001b[39m_validate_params()\n\u001b[0;32m   1468\u001b[0m \u001b[38;5;28;01mwith\u001b[39;00m config_context(\n\u001b[0;32m   1469\u001b[0m     skip_parameter_validation\u001b[38;5;241m=\u001b[39m(\n\u001b[0;32m   1470\u001b[0m         prefer_skip_nested_validation \u001b[38;5;129;01mor\u001b[39;00m global_skip_validation\n\u001b[0;32m   1471\u001b[0m     )\n\u001b[0;32m   1472\u001b[0m ):\n\u001b[1;32m-> 1473\u001b[0m     \u001b[38;5;28;01mreturn\u001b[39;00m \u001b[43mfit_method\u001b[49m\u001b[43m(\u001b[49m\u001b[43mestimator\u001b[49m\u001b[43m,\u001b[49m\u001b[43m \u001b[49m\u001b[38;5;241;43m*\u001b[39;49m\u001b[43margs\u001b[49m\u001b[43m,\u001b[49m\u001b[43m \u001b[49m\u001b[38;5;241;43m*\u001b[39;49m\u001b[38;5;241;43m*\u001b[39;49m\u001b[43mkwargs\u001b[49m\u001b[43m)\u001b[49m\n",
      "File \u001b[1;32mc:\\Users\\dacio.souza\\Documents\\featureEnginnering\\DacioFeature3_24\\venv\\Lib\\site-packages\\sklearn\\linear_model\\_logistic.py:1231\u001b[0m, in \u001b[0;36mLogisticRegression.fit\u001b[1;34m(self, X, y, sample_weight)\u001b[0m\n\u001b[0;32m   1221\u001b[0m     _dtype \u001b[38;5;241m=\u001b[39m [np\u001b[38;5;241m.\u001b[39mfloat64, np\u001b[38;5;241m.\u001b[39mfloat32]\n\u001b[0;32m   1223\u001b[0m X, y \u001b[38;5;241m=\u001b[39m \u001b[38;5;28mself\u001b[39m\u001b[38;5;241m.\u001b[39m_validate_data(\n\u001b[0;32m   1224\u001b[0m     X,\n\u001b[0;32m   1225\u001b[0m     y,\n\u001b[1;32m   (...)\u001b[0m\n\u001b[0;32m   1229\u001b[0m     accept_large_sparse\u001b[38;5;241m=\u001b[39msolver \u001b[38;5;129;01mnot\u001b[39;00m \u001b[38;5;129;01min\u001b[39;00m [\u001b[38;5;124m\"\u001b[39m\u001b[38;5;124mliblinear\u001b[39m\u001b[38;5;124m\"\u001b[39m, \u001b[38;5;124m\"\u001b[39m\u001b[38;5;124msag\u001b[39m\u001b[38;5;124m\"\u001b[39m, \u001b[38;5;124m\"\u001b[39m\u001b[38;5;124msaga\u001b[39m\u001b[38;5;124m\"\u001b[39m],\n\u001b[0;32m   1230\u001b[0m )\n\u001b[1;32m-> 1231\u001b[0m \u001b[43mcheck_classification_targets\u001b[49m\u001b[43m(\u001b[49m\u001b[43my\u001b[49m\u001b[43m)\u001b[49m\n\u001b[0;32m   1232\u001b[0m \u001b[38;5;28mself\u001b[39m\u001b[38;5;241m.\u001b[39mclasses_ \u001b[38;5;241m=\u001b[39m np\u001b[38;5;241m.\u001b[39munique(y)\n\u001b[0;32m   1234\u001b[0m \u001b[38;5;66;03m# TODO(1.7) remove multi_class\u001b[39;00m\n",
      "File \u001b[1;32mc:\\Users\\dacio.souza\\Documents\\featureEnginnering\\DacioFeature3_24\\venv\\Lib\\site-packages\\sklearn\\utils\\multiclass.py:219\u001b[0m, in \u001b[0;36mcheck_classification_targets\u001b[1;34m(y)\u001b[0m\n\u001b[0;32m    211\u001b[0m y_type \u001b[38;5;241m=\u001b[39m type_of_target(y, input_name\u001b[38;5;241m=\u001b[39m\u001b[38;5;124m\"\u001b[39m\u001b[38;5;124my\u001b[39m\u001b[38;5;124m\"\u001b[39m)\n\u001b[0;32m    212\u001b[0m \u001b[38;5;28;01mif\u001b[39;00m y_type \u001b[38;5;129;01mnot\u001b[39;00m \u001b[38;5;129;01min\u001b[39;00m [\n\u001b[0;32m    213\u001b[0m     \u001b[38;5;124m\"\u001b[39m\u001b[38;5;124mbinary\u001b[39m\u001b[38;5;124m\"\u001b[39m,\n\u001b[0;32m    214\u001b[0m     \u001b[38;5;124m\"\u001b[39m\u001b[38;5;124mmulticlass\u001b[39m\u001b[38;5;124m\"\u001b[39m,\n\u001b[1;32m   (...)\u001b[0m\n\u001b[0;32m    217\u001b[0m     \u001b[38;5;124m\"\u001b[39m\u001b[38;5;124mmultilabel-sequences\u001b[39m\u001b[38;5;124m\"\u001b[39m,\n\u001b[0;32m    218\u001b[0m ]:\n\u001b[1;32m--> 219\u001b[0m     \u001b[38;5;28;01mraise\u001b[39;00m \u001b[38;5;167;01mValueError\u001b[39;00m(\n\u001b[0;32m    220\u001b[0m         \u001b[38;5;124mf\u001b[39m\u001b[38;5;124m\"\u001b[39m\u001b[38;5;124mUnknown label type: \u001b[39m\u001b[38;5;132;01m{\u001b[39;00my_type\u001b[38;5;132;01m}\u001b[39;00m\u001b[38;5;124m. Maybe you are trying to fit a \u001b[39m\u001b[38;5;124m\"\u001b[39m\n\u001b[0;32m    221\u001b[0m         \u001b[38;5;124m\"\u001b[39m\u001b[38;5;124mclassifier, which expects discrete classes on a \u001b[39m\u001b[38;5;124m\"\u001b[39m\n\u001b[0;32m    222\u001b[0m         \u001b[38;5;124m\"\u001b[39m\u001b[38;5;124mregression target with continuous values.\u001b[39m\u001b[38;5;124m\"\u001b[39m\n\u001b[0;32m    223\u001b[0m     )\n",
      "\u001b[1;31mValueError\u001b[0m: Unknown label type: continuous. Maybe you are trying to fit a classifier, which expects discrete classes on a regression target with continuous values."
     ]
    }
   ],
   "source": [
    "import numpy as np\n",
    "import matplotlib.pyplot as plt\n",
    "from sklearn.linear_model import LogisticRegression\n",
    "\n",
    "# Dados de exemplo\n",
    "# X = np.array([1, 2, 3, 4, 5]).reshape(-1, 1)\n",
    "# y = np.array([0, 0, 0, 1, 1])\n",
    "# X = np.array([1, 2, 3, 4, 5]).reshape(-1, 1)\n",
    "# y = np.array([1, 3, 2, 5, 4])\n",
    "\n",
    "X = np.array([1.0, 2.0, 3.0, 4.0, 5.0]).reshape(-1, 1)\n",
    "y = np.array([(1/2),(1/4),(1/8),(1/16),(1/32)])\n",
    "\n",
    "# Criação do modelo de regressão logística\n",
    "model = LogisticRegression()\n",
    "model.fit(X, y)\n",
    "\n",
    "# Previsões\n",
    "y_pred = model.predict(X)\n",
    "\n",
    "# Visualização\n",
    "plt.scatter(X, y, color='blue')\n",
    "plt.plot(X, model.predict_proba(X)[:, 1], color='red')\n",
    "plt.title('Regressão Logística')\n",
    "plt.xlabel('X')\n",
    "plt.ylabel('Probabilidade')\n",
    "plt.show()"
   ]
  },
  {
   "cell_type": "markdown",
   "metadata": {},
   "source": [
    "**B.1.3 Implementação em Python**\n",
    "\n",
    "- **Utilização do Scikit-Learn:** Scikit-Learn é uma biblioteca poderosa e fácil de usar para realizar regressão linear e logística, entre outras tarefas de aprendizado de máquina.\n",
    "  \n",
    "- **Instalação do Scikit-Learn:**"
   ]
  },
  {
   "cell_type": "code",
   "execution_count": 17,
   "metadata": {
    "vscode": {
     "languageId": "shellscript"
    }
   },
   "outputs": [],
   "source": [
    "#pip install scikit-learn"
   ]
  },
  {
   "cell_type": "markdown",
   "metadata": {},
   "source": [
    "- **Exemplo Completo de Regressão Linear:**"
   ]
  },
  {
   "cell_type": "code",
   "execution_count": 18,
   "metadata": {},
   "outputs": [
    {
     "name": "stdout",
     "output_type": "stream",
     "text": [
      "Mean Squared Error: 1.3061224489795922\n"
     ]
    }
   ],
   "source": [
    "import numpy as np\n",
    "import pandas as pd\n",
    "from sklearn.model_selection import train_test_split\n",
    "from sklearn.linear_model import LinearRegression\n",
    "from sklearn.metrics import mean_squared_error\n",
    "\n",
    "# Dados de exemplo\n",
    "df = pd.DataFrame({\n",
    "    'X': [1, 2, 3, 4, 5],\n",
    "    'y': [1, 3, 2, 5, 4]\n",
    "})\n",
    "\n",
    "# Separação em conjuntos de treinamento e teste\n",
    "X = df[['X']]\n",
    "y = df['y']\n",
    "X_train, X_test, y_train, y_test = train_test_split(X, y, test_size=0.2, random_state=42)\n",
    "\n",
    "# Criação e treinamento do modelo\n",
    "model = LinearRegression()\n",
    "model.fit(X_train, y_train)\n",
    "\n",
    "# Previsões\n",
    "y_pred = model.predict(X_test)\n",
    "\n",
    "# Avaliação do modelo\n",
    "mse = mean_squared_error(y_test, y_pred)\n",
    "print(f'Mean Squared Error: {mse}')"
   ]
  },
  {
   "cell_type": "markdown",
   "metadata": {},
   "source": [
    "#### B.2 Classificação\n",
    "\n",
    "**B.2.1 Conceitos de Classificação**\n",
    "\n",
    "- **Classificação:** É uma tarefa de aprendizado supervisionado onde o objetivo é atribuir uma etiqueta ou classe a uma nova observação com base em um conjunto de dados de treinamento rotulado.\n",
    "\n",
    "**B.2.2 K-Nearest Neighbors (KNN)**\n",
    "\n",
    "- **Conceito:** KNN é um algoritmo simples que classifica uma nova observação com base nas \\( K \\) observações mais próximas no espaço de características.\n",
    "\n",
    "- **Implementação em Python:**"
   ]
  },
  {
   "cell_type": "code",
   "execution_count": 19,
   "metadata": {},
   "outputs": [
    {
     "name": "stdout",
     "output_type": "stream",
     "text": [
      "Acurácia: 0.0\n"
     ]
    }
   ],
   "source": [
    "import numpy as np\n",
    "from sklearn.model_selection import train_test_split\n",
    "from sklearn.neighbors import KNeighborsClassifier\n",
    "from sklearn.metrics import accuracy_score\n",
    "\n",
    "# Dados de exemplo\n",
    "X = np.array([[1, 2], [2, 3], [3, 4], [4, 5], [5, 6]])\n",
    "y = np.array([0, 0, 1, 1, 1])\n",
    "\n",
    "# Separação em conjuntos de treinamento e teste\n",
    "X_train, X_test, y_train, y_test = train_test_split(X, y, test_size=0.2, random_state=42)\n",
    "\n",
    "# Criação e treinamento do modelo KNN\n",
    "model = KNeighborsClassifier(n_neighbors=3)\n",
    "model.fit(X_train, y_train)\n",
    "\n",
    "# Previsões\n",
    "y_pred = model.predict(X_test)\n",
    "\n",
    "# Avaliação do modelo\n",
    "accuracy = accuracy_score(y_test, y_pred)\n",
    "print(f'Acurácia: {accuracy}')"
   ]
  }
 ],
 "metadata": {
  "kernelspec": {
   "display_name": "venv",
   "language": "python",
   "name": "python3"
  },
  "language_info": {
   "codemirror_mode": {
    "name": "ipython",
    "version": 3
   },
   "file_extension": ".py",
   "mimetype": "text/x-python",
   "name": "python",
   "nbconvert_exporter": "python",
   "pygments_lexer": "ipython3",
   "version": "3.12.1"
  }
 },
 "nbformat": 4,
 "nbformat_minor": 2
}
