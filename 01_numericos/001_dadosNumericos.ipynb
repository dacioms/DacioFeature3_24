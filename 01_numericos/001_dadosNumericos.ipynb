{
 "cells": [
  {
   "cell_type": "code",
   "execution_count": null,
   "id": "b3b2adbd",
   "metadata": {
    "execution": {
     "iopub.execute_input": "2024-08-05T10:42:13.857438Z",
     "iopub.status.busy": "2024-08-05T10:42:13.857438Z",
     "iopub.status.idle": "2024-08-05T10:42:19.147063Z",
     "shell.execute_reply": "2024-08-05T10:42:19.147063Z"
    },
    "slideshow": {
     "slide_type": "slide"
    }
   },
   "outputs": [],
   "source": [
    "# !pip install -r requirements.txt"
   ]
  },
  {
   "cell_type": "markdown",
   "id": "61a5070e",
   "metadata": {},
   "source": [
    "# A. Manipular dados numéricos para algoritmos de Machine Learning\n",
    "\n"
   ]
  },
  {
   "cell_type": "markdown",
   "id": "1d47aa86",
   "metadata": {
    "slideshow": {
     "slide_type": "fragment"
    }
   },
   "source": [
    "## A.1 O que é uma feature e a sua relação com os modelos de machine learning\n",
    "\n",
    "Uma feature, ou característica, é uma propriedade individual medível ou observável de um fenômeno sendo observado. No contexto de machine learning, uma feature é uma entrada para o modelo que contribui para a tomada de decisão ou para a previsão. Em termos mais práticos, as features podem ser vistas como colunas em uma tabela de dados, onde cada coluna representa um tipo específico de informação (como altura, peso, idade, etc.) que pode ser usada para prever um resultado (como o risco de uma doença, a classificação de um documento, etc.).\n",
    "\n",
    "Features podem ser quantitativas (numéricas) ou qualitativas (categóricas). A escolha e a qualidade das features são cruciais, pois impactam diretamente a capacidade do modelo de aprender padrões e realizar previsões precisas. A engenharia de features, que envolve a criação, transformação e seleção de features, é uma etapa essencial no desenvolvimento de modelos eficazes.\n",
    "\n",
    "## A.2 Escalares, vetores e espaços\n",
    "\n",
    "1. **Escalares**: Um escalar é um único valor numérico que pode ser um número real ou complexo. Ele representa uma quantidade unidimensional. Em machine learning, um escalar pode representar uma única medida ou valor, como a temperatura em um dado dia. Em álgebra linear, é frequentemente usado para multiplicar vetores e matrizes, alterando seu tamanho mas não sua direção.\n",
    "\n",
    "2. **Vetores**: Um vetor é uma quantidade que possui tanto magnitude quanto direção. Em machine learning, um vetor é uma sequência de números (escalares) dispostos em uma determinada ordem e frequentemente usados para representar uma amostra de dados, onde cada elemento do vetor é uma feature. Por exemplo, um vetor pode representar as características (features) de um paciente, como [idade, peso, pressão arterial]. E ainda um vetor em um espaço tridimensional pode ser representado como $[x, y, z]$ .\n",
    "\n",
    "3. **Espaços**: Em matemática, um espaço é um conjunto de vetores. Um espaço, especificamente um espaço vetorial, é um conjunto de vetores que podem ser adicionados uns aos outros e multiplicados por escalares para formar novos vetores dentro do mesmo espaço. Em machine learning, um espaço de features é o conjunto de todas as possíveis combinações de valores das features. Um vetor em um espaço de features representa uma amostra de dados, e a dimensionalidade do espaço corresponde ao número de features. Em machine learning, o espaço vetorial das features é onde as operações de modelagem acontecem. Este espaço pode ser de alta dimensão dependendo do número de features usadas.\n"
   ]
  },
  {
   "cell_type": "markdown",
   "id": "e576d131",
   "metadata": {},
   "source": [
    "## Binning, discretização ou Agrupamento\n"
   ]
  },
  {
   "cell_type": "markdown",
   "id": "614527db",
   "metadata": {},
   "source": [
    "\n",
    "### A.3 Discretização de variáveis contínuas por meio de quantização com bins fixos\n",
    "\n",
    "A discretização de variáveis contínuas é o processo de converter variáveis contínuas em variáveis discretas dividindo o intervalo contínuo em partes distintas chamadas \"bins\". Isso pode ser feito de várias maneiras, uma das quais é utilizando bins de largura fixa.\n",
    "\n",
    "**Exemplo em Python usando `pd.cut`:**"
   ]
  },
  {
   "cell_type": "code",
   "execution_count": 34,
   "id": "56e6cd3c",
   "metadata": {},
   "outputs": [
    {
     "name": "stdout",
     "output_type": "stream",
     "text": [
      "['Bin 7', 'Bin 4', 'Bin 2', 'Bin 7', 'Bin 9', ..., 'Bin 7', 'Bin 7', 'Bin 1', 'Bin 6', 'Bin 6']\n",
      "Length: 100\n",
      "Categories (10, object): ['Bin 1' < 'Bin 2' < 'Bin 3' < 'Bin 4' ... 'Bin 7' < 'Bin 8' < 'Bin 9' < 'Bin 10']\n"
     ]
    }
   ],
   "source": [
    "import numpy as np\n",
    "import pandas as pd\n",
    "\n",
    "# Dados de exemplo\n",
    "dados = np.random.rand(100) * 100  # 100 valores aleatórios entre 0 e 100\n",
    "\n",
    "# Discretização com bins de largura fixa\n",
    "bins = np.linspace(0, 100, 11)  # 10 bins de largura 10\n",
    "labels = [f'Bin {i}' for i in range(1, len(bins))]\n",
    "dados_discretizados = pd.cut(dados, bins=bins, labels=labels)\n",
    "\n",
    "print(dados_discretizados)"
   ]
  },
  {
   "cell_type": "code",
   "execution_count": 35,
   "id": "d002f7b2",
   "metadata": {},
   "outputs": [
    {
     "data": {
      "image/png": "[encoded data removed]",
      "text/plain": [
       "<Figure size 640x480 with 1 Axes>"
      ]
     },
     "metadata": {},
     "output_type": "display_data"
    }
   ],
   "source": [
    "import matplotlib.pyplot as plt\n",
    "\n",
    "bins =np.linspace(0,10,11)\n",
    "plt.hist(dados_discretizados, bins=bins, edgecolor='k')\n",
    "plt.scatter(np.linspace(1,10,100), dados, alpha=0.5, c='red', edgecolors='k')\n",
    "plt.show()"
   ]
  },
  {
   "cell_type": "markdown",
   "id": "4e31c8ea",
   "metadata": {},
   "source": [
    "**Exemplo em Python usando `np.digitize`:**"
   ]
  },
  {
   "cell_type": "code",
   "execution_count": 35,
   "id": "7626a8ab",
   "metadata": {
    "execution": {
     "iopub.execute_input": "2024-08-05T10:42:19.151061Z",
     "iopub.status.busy": "2024-08-05T10:42:19.151061Z",
     "iopub.status.idle": "2024-08-05T10:42:21.420942Z",
     "shell.execute_reply": "2024-08-05T10:42:21.420942Z"
    },
    "slideshow": {
     "slide_type": "slide"
    }
   },
   "outputs": [
    {
     "name": "stdout",
     "output_type": "stream",
     "text": [
      "[6 4 5 7 1 6 5 6 8 3]\n"
     ]
    }
   ],
   "source": [
    "import numpy as np\n",
    "import pandas as pd\n",
    "\n",
    "# Dados contínuos de exemplo\n",
    "dados = np.random.randn(1000)\n",
    "\n",
    "# Discretização em 10 bins fixos\n",
    "bins = np.linspace(np.min(dados), np.max(dados), 11)\n",
    "dados_discretizados = np.digitize(dados, bins)\n",
    "\n",
    "# Exibir os primeiros 10 dados discretizados\n",
    "print(dados_discretizados[:10])"
   ]
  },
  {
   "cell_type": "code",
   "execution_count": 10,
   "id": "401a1c18",
   "metadata": {},
   "outputs": [
    {
     "name": "stdout",
     "output_type": "stream",
     "text": [
      "        Data  Digitized\n",
      "0   0.919052         14\n",
      "1  -0.726624          8\n",
      "2  -1.162090          7\n",
      "3   0.594868         12\n",
      "4   0.636628         13\n",
      "5  -0.396675          9\n",
      "6   0.467916         12\n",
      "7  -0.616939          8\n",
      "8  -0.119856         10\n",
      "9  -1.721784          5\n",
      "10 -1.196313          7\n",
      "11 -0.562479          9\n",
      "12 -1.028785          7\n",
      "13  0.622541         13\n",
      "14 -0.504349          9\n",
      "15 -0.569871          9\n",
      "16  0.964153         14\n",
      "17 -0.872785          8\n",
      "18  0.082293         11\n",
      "19  1.916528         17\n",
      "20  1.506173         16\n",
      "21  0.581682         12\n",
      "22 -1.000842          7\n",
      "23 -0.320716          9\n",
      "24  0.411699         12\n",
      "25  0.068944         11\n",
      "26 -0.450129          9\n",
      "27 -0.385028          9\n",
      "28 -0.670549          8\n",
      "29  0.644110         13\n",
      "30  1.104224         14\n",
      "31 -0.103621         10\n",
      "32 -1.042038          7\n",
      "33 -0.564744          9\n",
      "34 -0.419079          9\n",
      "35 -0.488802          9\n",
      "36  1.247562         15\n",
      "37 -0.936889          7\n",
      "38 -0.491801          9\n",
      "39  0.119390         11\n"
     ]
    }
   ],
   "source": [
    "import numpy as np\n",
    "import pandas as pd\n",
    "\n",
    "# Gerar dados contínuos de exemplo\n",
    "data = np.random.randn(1000)\n",
    "# Discretizar os dados em bins fixos\n",
    "bins = np.linspace(-3, 3, 21)\n",
    "\n",
    "digitized = np.digitize(data, bins)\n",
    "\n",
    "df = pd.DataFrame({'Data': data, 'Digitized': digitized})\n",
    "print(df.head(40))"
   ]
  },
  {
   "cell_type": "markdown",
   "id": "169cba82",
   "metadata": {
    "slideshow": {
     "slide_type": "fragment"
    }
   },
   "source": [
    "### A.4 Discretização de variáveis contínuas por meio de quantização com bins variáveis\n",
    "\n",
    "A discretização com bins variáveis, ou \"quantiles\", divide os dados em intervalos de tal forma que cada bin contém aproximadamente o mesmo número de pontos de dados.\n",
    "\n",
    "**Exemplo em Python:**"
   ]
  },
  {
   "cell_type": "code",
   "execution_count": 36,
   "id": "d7a6d717",
   "metadata": {
    "execution": {
     "iopub.execute_input": "2024-08-05T10:42:21.425943Z",
     "iopub.status.busy": "2024-08-05T10:42:21.424947Z",
     "iopub.status.idle": "2024-08-05T10:42:21.466730Z",
     "shell.execute_reply": "2024-08-05T10:42:21.466730Z"
    },
    "slideshow": {
     "slide_type": "slide"
    }
   },
   "outputs": [
    {
     "name": "stdout",
     "output_type": "stream",
     "text": [
      "[9 0 3 0 4 9 7 1 2 3]\n"
     ]
    }
   ],
   "source": [
    "import numpy as np\n",
    "import pandas as pd\n",
    "\n",
    "# Dados contínuos de exemplo\n",
    "dados = np.random.randn(1000)\n",
    "\n",
    "# Discretização em 10 bins variáveis\n",
    "dados_discretizados, bins = pd.qcut(dados, q=10, retbins=True, labels=False)\n",
    "\n",
    "# Exibir os primeiros 10 dados discretizados\n",
    "print(dados_discretizados[:10])"
   ]
  },
  {
   "cell_type": "code",
   "execution_count": null,
   "id": "8d797ca7",
   "metadata": {},
   "outputs": [
    {
     "name": "stdout",
     "output_type": "stream",
     "text": [
      "       Data  Digitized\n",
      "0  0.585861          3\n",
      "1  1.348231          4\n",
      "2 -0.906309          1\n",
      "3 -1.374753          1\n",
      "4  0.424342          3\n"
     ]
    }
   ],
   "source": [
    "import numpy as np\n",
    "import pandas as pd\n",
    "\n",
    "# Gerar dados contínuos de exemplo\n",
    "data = np.random.randn(1000)\n",
    "# Discretizar os dados em bins variáveis (quantis)\n",
    "bins = np.percentile(data, [0, 25, 50, 75, 100])\n",
    "digitized = np.digitize(data, bins)\n",
    "\n",
    "df = pd.DataFrame({'Data': data, 'Digitized': digitized})\n",
    "print(df.head())"
   ]
  },
  {
   "cell_type": "markdown",
   "id": "9c9124dd",
   "metadata": {
    "slideshow": {
     "slide_type": "fragment"
    }
   },
   "source": [
    "### A.5 Utilizar a FunctionTransformer do sklearn em uma variável\n",
    "\n",
    "A `FunctionTransformer` permite aplicar qualquer função de transformação aos dados, aplicando uma função customizada. Pode ser útil para aplicar transformações que não estão diretamente disponíveis nas outras classes de transformação do scikit-learn.\n",
    "\n",
    "**Exemplo em Python:**"
   ]
  },
  {
   "cell_type": "code",
   "execution_count": null,
   "id": "2c4055d3",
   "metadata": {},
   "outputs": [
    {
     "name": "stdout",
     "output_type": "stream",
     "text": [
      "[[ 1  4]\n",
      " [ 9 16]\n",
      " [25 36]]\n"
     ]
    }
   ],
   "source": [
    "import numpy as np\n",
    "from sklearn.preprocessing import FunctionTransformer\n",
    "\n",
    "# Dados de exemplo\n",
    "dados = np.array([[1, 2], [3, 4], [5, 6]])\n",
    "\n",
    "# Função customizada: quadrado dos valores\n",
    "transformer = FunctionTransformer(np.square)\n",
    "dados_transformados = transformer.transform(dados)\n",
    "\n",
    "print(dados_transformados)"
   ]
  },
  {
   "cell_type": "code",
   "execution_count": 37,
   "id": "384efd7e",
   "metadata": {
    "execution": {
     "iopub.execute_input": "2024-08-05T10:42:21.470725Z",
     "iopub.status.busy": "2024-08-05T10:42:21.469723Z",
     "iopub.status.idle": "2024-08-05T10:42:25.927320Z",
     "shell.execute_reply": "2024-08-05T10:42:25.926321Z"
    },
    "slideshow": {
     "slide_type": "slide"
    }
   },
   "outputs": [
    {
     "name": "stdout",
     "output_type": "stream",
     "text": [
      "[[0.         0.69314718]\n",
      " [1.09861229 1.38629436]\n",
      " [1.60943791 1.79175947]]\n"
     ]
    }
   ],
   "source": [
    "from sklearn.preprocessing import FunctionTransformer\n",
    "\n",
    "# Dados de exemplo\n",
    "dados = np.array([[0, 1], [2, 3], [4, 5]])\n",
    "\n",
    "# Função de transformação: logaritmo natural\n",
    "transformer = FunctionTransformer(np.log1p, validate=True)\n",
    "dados_transformados = transformer.transform(dados)\n",
    "\n",
    "# Exibir os dados transformados\n",
    "print(dados_transformados)"
   ]
  },
  {
   "cell_type": "markdown",
   "id": "a1cade97",
   "metadata": {},
   "source": [
    "\n",
    "#### A.5.1. Transformações Logarítmicas\n",
    "Transformações logarítmicas podem ajudar a lidar com distribuições altamente assimétricas e reduzir a variabilidade dos dados.\n",
    "\n",
    "Comprime o intervalo de números grandes e expande o intervalo de números pequenos."
   ]
  },
  {
   "cell_type": "code",
   "execution_count": null,
   "id": "04da42e1",
   "metadata": {},
   "outputs": [
    {
     "name": "stdout",
     "output_type": "stream",
     "text": [
      "   feature  log_feature\n",
      "0        1     0.693147\n",
      "1       10     2.397895\n",
      "2      100     4.615121\n",
      "3     1000     6.908755\n",
      "4    10000     9.210440\n"
     ]
    }
   ],
   "source": [
    "import numpy as np\n",
    "import pandas as pd\n",
    "\n",
    "# Exemplo de dados com distribuição assimétrica\n",
    "data = pd.DataFrame({'feature': [1, 10, 100, 1000, 10000]})\n",
    "\n",
    "# Aplicar transformação logarítmica\n",
    "data['log_feature'] = np.log1p(data['feature'])\n",
    "\n",
    "print(data)"
   ]
  },
  {
   "cell_type": "markdown",
   "id": "99a4083d",
   "metadata": {},
   "source": [
    "#### A.5.2. Transformações de Raiz Quadrada\n",
    "A transformação de raiz quadrada pode estabilizar variâncias em conjuntos de dados com distribuições assimétricas."
   ]
  },
  {
   "cell_type": "code",
   "execution_count": null,
   "id": "0ec92fd9",
   "metadata": {},
   "outputs": [
    {
     "name": "stdout",
     "output_type": "stream",
     "text": [
      "   feature  sqrt_feature\n",
      "0        1      1.000000\n",
      "1       10      3.162278\n",
      "2      100     10.000000\n",
      "3     1000     31.622777\n",
      "4    10000    100.000000\n"
     ]
    }
   ],
   "source": [
    "import numpy as np\n",
    "import pandas as pd\n",
    "\n",
    "# Exemplo de dados\n",
    "data = pd.DataFrame({'feature': [1, 10, 100, 1000, 10000]})\n",
    "\n",
    "# Aplicar transformação de raiz quadrada\n",
    "data['sqrt_feature'] = np.sqrt(data['feature'])\n",
    "\n",
    "print(data)"
   ]
  },
  {
   "cell_type": "markdown",
   "id": "4671bb13",
   "metadata": {},
   "source": [
    "### A.6. Utilizar a PowerTransformer do sklearn em uma variável\n",
    "\n",
    "A `PowerTransformer` aplica uma transformação de potência (Box-Cox ou Yeo-Johnson) para estabilizar a variância e tornar os dados mais gaussianos.\n",
    "\n",
    "**Exemplo em Python:**"
   ]
  },
  {
   "cell_type": "code",
   "execution_count": null,
   "id": "63fab609",
   "metadata": {},
   "outputs": [
    {
     "name": "stdout",
     "output_type": "stream",
     "text": [
      "[[-1.02693441]\n",
      " [ 0.37888406]\n",
      " [-0.64599735]\n",
      " [-0.96359036]\n",
      " [ 0.67860112]\n",
      " [-1.05379402]\n",
      " [-0.79307006]\n",
      " [-0.55396466]\n",
      " [-0.35281005]\n",
      " [-1.68541661]\n",
      " [ 1.29062762]\n",
      " [-1.26860522]\n",
      " [ 0.74600449]\n",
      " [-1.80954146]\n",
      " [ 1.4816037 ]\n",
      " [ 0.18633441]\n",
      " [-0.41323715]\n",
      " [-0.09164059]\n",
      " [ 0.42524267]\n",
      " [ 0.54998104]\n",
      " [ 0.74223127]\n",
      " [ 1.49743481]\n",
      " [-1.4287893 ]\n",
      " [ 0.49663459]\n",
      " [-0.2205635 ]\n",
      " [ 1.44124431]\n",
      " [-0.12763698]\n",
      " [ 1.0505485 ]\n",
      " [ 0.88843743]\n",
      " [-0.57974605]\n",
      " [-2.11571562]\n",
      " [-1.18681118]\n",
      " [-0.96414228]\n",
      " [ 0.79313986]\n",
      " [ 0.8632204 ]\n",
      " [ 0.9244199 ]\n",
      " [-0.96101203]\n",
      " [ 0.71495988]\n",
      " [-0.20104715]\n",
      " [-0.5488158 ]\n",
      " [-0.34738251]\n",
      " [-0.96822851]\n",
      " [ 1.36863448]\n",
      " [-1.17118311]\n",
      " [ 1.39102445]\n",
      " [-1.95649876]\n",
      " [ 0.72986378]\n",
      " [ 1.26289645]\n",
      " [ 0.62491932]\n",
      " [-0.97880458]\n",
      " [ 0.5047095 ]\n",
      " [ 1.42467179]\n",
      " [ 0.72206158]\n",
      " [-1.41599623]\n",
      " [-0.24749114]\n",
      " [ 1.25867409]\n",
      " [-1.04390295]\n",
      " [-1.44476772]\n",
      " [-1.81092933]\n",
      " [ 1.02606603]\n",
      " [-1.02222391]\n",
      " [ 0.15608939]\n",
      " [ 0.29198206]\n",
      " [-0.84363885]\n",
      " [ 0.84819734]\n",
      " [-0.69607395]\n",
      " [ 0.41307363]\n",
      " [-0.54338773]\n",
      " [ 1.2922986 ]\n",
      " [-0.77345206]\n",
      " [ 0.27691522]\n",
      " [ 1.36075695]\n",
      " [-1.91241446]\n",
      " [ 0.8979406 ]\n",
      " [ 0.35662818]\n",
      " [ 1.12017112]\n",
      " [ 0.33216422]\n",
      " [ 1.10204921]\n",
      " [ 1.11788757]\n",
      " [ 0.81901168]\n",
      " [ 0.08532796]\n",
      " [-1.47896869]\n",
      " [ 1.02956909]\n",
      " [-1.29941471]\n",
      " [ 0.64111278]\n",
      " [ 1.30074525]\n",
      " [-0.42867047]\n",
      " [-0.99169205]\n",
      " [ 0.4946846 ]\n",
      " [ 0.93668424]\n",
      " [-0.90593221]\n",
      " [ 0.31754898]\n",
      " [-0.96851076]\n",
      " [ 0.86080397]\n",
      " [-1.35952209]\n",
      " [ 1.11588707]\n",
      " [ 1.22685237]\n",
      " [-0.38825456]\n",
      " [-0.52024061]\n",
      " [ 0.65301016]]\n"
     ]
    }
   ],
   "source": [
    "import numpy as np\n",
    "from sklearn.preprocessing import PowerTransformer\n",
    "\n",
    "# Dados de exemplo\n",
    "dados = np.random.rand(100, 1) * 100  # 100 valores aleatórios entre 0 e 100\n",
    "\n",
    "# Aplicar PowerTransformer\n",
    "pt = PowerTransformer(method='yeo-johnson')\n",
    "dados_transformados = pt.fit_transform(dados)\n",
    "\n",
    "\n",
    "print(dados_transformados)"
   ]
  },
  {
   "cell_type": "markdown",
   "id": "0a9f129c",
   "metadata": {
    "slideshow": {
     "slide_type": "fragment"
    }
   },
   "source": [
    "## Ajuste de Escala\n",
    "- Ajustar a escala dos dados é importante para garantir que todas as features contribuam de maneira equilibrada para o modelo.\n",
    "\n",
    "\n",
    "### A.7 Utilizar a normalização Min-Max do sklearn para garantir que os dados estão na mesma faixa-dinâmica\n",
    "\n",
    "A normalização Min-Max escala os dados para que estejam dentro de um intervalo especificado, geralmente [0, 1].\n",
    "\n",
    "O escalonamento de características é uma etapa fundamental no pré-processamento de dados para muitos algoritmos de aprendizado de máquina. Ele ajuda a padronizar o intervalo dos dados para que diferentes características contribuam de maneira justa para a modelagem. As duas técnicas populares são:\n",
    "\n",
    "**MinMax Scaling:**\n",
    "- Transforma os dados para que os valores fiquem em um intervalo definido, geralmente entre 0 e 1.\n",
    "- Fórmula: $$  X_{\\text{scaled}} = \\frac{X - X_{\\text{min}}}{X_{\\text{max}} - X_{\\text{min}}} $$ \n",
    "\n",
    "**Exemplo em Python:**"
   ]
  },
  {
   "cell_type": "code",
   "execution_count": 39,
   "id": "b615ada1",
   "metadata": {
    "execution": {
     "iopub.execute_input": "2024-08-05T10:42:25.945139Z",
     "iopub.status.busy": "2024-08-05T10:42:25.944134Z",
     "iopub.status.idle": "2024-08-05T10:42:25.950140Z",
     "shell.execute_reply": "2024-08-05T10:42:25.950140Z"
    },
    "slideshow": {
     "slide_type": "slide"
    }
   },
   "outputs": [
    {
     "name": "stdout",
     "output_type": "stream",
     "text": [
      "[[0.         0.        ]\n",
      " [0.33333333 0.33333333]\n",
      " [1.         1.        ]]\n"
     ]
    }
   ],
   "source": [
    "from sklearn.preprocessing import MinMaxScaler\n",
    "\n",
    "# Dados de exemplo\n",
    "dados = np.array([[1, 2], [2, 3], [4, 5]])\n",
    "\n",
    "# Aplicar MinMaxScaler\n",
    "scaler = MinMaxScaler()\n",
    "dados_normalizados = scaler.fit_transform(dados)\n",
    "\n",
    "# Exibir os dados normalizados\n",
    "print(dados_normalizados)"
   ]
  },
  {
   "cell_type": "code",
   "execution_count": null,
   "id": "0065ed85",
   "metadata": {},
   "outputs": [
    {
     "name": "stdout",
     "output_type": "stream",
     "text": [
      "[[0.05599116 0.        ]\n",
      " [0.22857394 0.95991146]\n",
      " [0.29076317 0.21308362]\n",
      " [0.20671434 0.17790536]\n",
      " [0.94042954 0.38358675]\n",
      " [0.82125908 0.81270747]\n",
      " [0.24392851 0.19757957]\n",
      " [0.44085211 0.96260283]\n",
      " [0.03377188 0.83815342]\n",
      " [0.94462655 0.4909235 ]\n",
      " [0.333338   0.91503715]\n",
      " [0.55781708 0.16366661]\n",
      " [0.8811734  0.55663276]\n",
      " [0.3462696  0.43545456]\n",
      " [0.93299112 0.40548671]\n",
      " [0.25047145 0.70223981]\n",
      " [0.73908116 0.24145604]\n",
      " [0.94166991 0.07068302]\n",
      " [0.17802376 0.6496362 ]\n",
      " [0.39843951 0.3098238 ]\n",
      " [0.36264303 0.13590434]\n",
      " [0.68122933 0.13365361]\n",
      " [0.94651606 0.72478487]\n",
      " [0.16627025 0.3214677 ]\n",
      " [0.81519855 0.17009394]\n",
      " [0.43032578 0.26347933]\n",
      " [0.48100596 0.70579624]\n",
      " [0.27439874 0.75091953]\n",
      " [0.79888163 0.54752255]\n",
      " [0.3475474  0.72839996]\n",
      " [0.17478281 0.39232213]\n",
      " [0.52535058 0.3204416 ]\n",
      " [0.66813642 0.06768802]\n",
      " [0.53444323 0.18232382]\n",
      " [0.76180315 0.9418155 ]\n",
      " [0.83386294 0.34147325]\n",
      " [0.30202481 0.18900801]\n",
      " [0.89155617 0.32605228]\n",
      " [0.65200469 0.39278531]\n",
      " [0.16778362 0.55423534]\n",
      " [0.88701946 0.27292509]\n",
      " [0.28136498 0.96412895]\n",
      " [0.15443556 1.        ]\n",
      " [0.72185081 0.75320643]\n",
      " [0.02406575 0.4043768 ]\n",
      " [0.39552489 0.14212519]\n",
      " [0.92066036 0.06527196]\n",
      " [0.6828022  0.04550659]\n",
      " [0.64985608 0.57817662]\n",
      " [0.01461836 0.73292775]\n",
      " [0.81444887 0.24981372]\n",
      " [0.36308958 0.96759781]\n",
      " [0.24741518 0.24666806]\n",
      " [0.53078897 0.06278045]\n",
      " [0.14875705 0.09487214]\n",
      " [0.93898037 0.73194526]\n",
      " [0.320402   0.72237374]\n",
      " [0.77082363 0.81829828]\n",
      " [0.8956087  0.45448168]\n",
      " [0.30283689 0.1808722 ]\n",
      " [0.07584816 0.3271381 ]\n",
      " [0.11215758 0.30994947]\n",
      " [0.29392498 0.30353651]\n",
      " [0.38795748 0.15794559]\n",
      " [0.39678676 0.52248893]\n",
      " [0.23765784 0.53741193]\n",
      " [0.16858031 0.05063468]\n",
      " [0.40860763 0.63920235]\n",
      " [0.27512171 0.8008716 ]\n",
      " [0.55475846 0.62334573]\n",
      " [0.70318298 0.32067086]\n",
      " [0.83993822 0.29369088]\n",
      " [0.99687335 0.12342846]\n",
      " [0.54664373 0.231498  ]\n",
      " [0.94818514 0.27614067]\n",
      " [0.18771768 0.09683198]\n",
      " [0.55777563 0.18253233]\n",
      " [0.20427295 0.11202947]\n",
      " [0.71689763 0.11259634]\n",
      " [0.37908768 0.07055952]\n",
      " [0.         0.02261828]\n",
      " [0.38461484 0.89837826]\n",
      " [0.74928932 0.34779958]\n",
      " [0.08764333 0.10257095]\n",
      " [0.01714046 0.00827216]\n",
      " [0.20291851 0.12978974]\n",
      " [0.28320009 0.61094701]\n",
      " [1.         0.29236873]\n",
      " [0.49832422 0.85942552]\n",
      " [0.69310529 0.06574577]\n",
      " [0.87804122 0.44129009]\n",
      " [0.65027815 0.70228734]\n",
      " [0.66146244 0.06223228]\n",
      " [0.49132496 0.99457569]\n",
      " [0.88520364 0.02261087]\n",
      " [0.92171045 0.1180877 ]\n",
      " [0.28596167 0.27733237]\n",
      " [0.78492715 0.40243132]\n",
      " [0.01601826 0.9380903 ]\n",
      " [0.65206388 0.34629862]]\n"
     ]
    }
   ],
   "source": [
    "import numpy as np\n",
    "from sklearn.preprocessing import MinMaxScaler\n",
    "\n",
    "# Dados de exemplo\n",
    "dados = np.random.rand(100, 2) * 100  # 100 valores aleatórios entre 0 e 100\n",
    "\n",
    "# Aplicar Min-Max Scaler\n",
    "scaler = MinMaxScaler()\n",
    "dados_normalizados = scaler.fit_transform(dados)\n",
    "\n",
    "print(dados_normalizados)"
   ]
  },
  {
   "cell_type": "code",
   "execution_count": null,
   "id": "a035f650",
   "metadata": {},
   "outputs": [
    {
     "name": "stdout",
     "output_type": "stream",
     "text": [
      "[[0.5        0.         1.        ]\n",
      " [1.         0.5        0.33333333]\n",
      " [0.         1.         0.        ]]\n"
     ]
    }
   ],
   "source": [
    "from sklearn import preprocessing\n",
    "import numpy as np\n",
    "\n",
    "# Dados de exemplo\n",
    "X_train = np.array([[1., -1., 2.],\n",
    "                    [2., 0., 0.],\n",
    "                    [0., 1., -1.]])\n",
    "\n",
    "# Aplicar Min-Max Scaling\n",
    "min_max_scaler = preprocessing.MinMaxScaler()\n",
    "X_train_minmax = min_max_scaler.fit_transform(X_train)\n",
    "\n",
    "print(X_train_minmax)"
   ]
  },
  {
   "cell_type": "code",
   "execution_count": 1,
   "id": "ad103997",
   "metadata": {},
   "outputs": [
    {
     "name": "stdout",
     "output_type": "stream",
     "text": [
      "[[0.20910732 0.73965727]\n",
      " [0.03206201 0.27051212]\n",
      " [0.86087612 0.59423497]\n",
      " [0.34693995 0.49871251]\n",
      " [0.89987324 0.18820996]\n",
      " [0.27040114 0.39336815]\n",
      " [0.59273054 0.40607719]\n",
      " [0.40696168 0.30141578]\n",
      " [0.76677949 0.41751495]\n",
      " [0.94584043 0.4506106 ]\n",
      " [0.37449353 0.99320806]\n",
      " [0.99048986 0.16808314]\n",
      " [0.45808735 0.35376673]\n",
      " [0.60428117 0.63443059]\n",
      " [0.54232974 0.25303889]\n",
      " [0.18492299 0.4521966 ]\n",
      " [0.56463117 0.25577595]\n",
      " [0.78307415 0.33296075]\n",
      " [1.         0.94493962]\n",
      " [0.86960155 0.63276484]\n",
      " [0.02168494 0.33852827]\n",
      " [0.55957432 0.        ]\n",
      " [0.24339807 0.53924807]\n",
      " [0.35041591 0.57381435]\n",
      " [0.20172551 0.31602608]\n",
      " [0.04118181 0.3882013 ]\n",
      " [0.68070678 0.29069064]\n",
      " [0.86874273 0.53047162]\n",
      " [0.69645098 0.17330847]\n",
      " [0.40633642 0.22259053]\n",
      " [0.47594195 0.75870544]\n",
      " [0.10175818 0.30437883]\n",
      " [0.76109304 0.93235765]\n",
      " [0.91237653 0.87092529]\n",
      " [0.37523126 0.9877602 ]\n",
      " [0.35254266 0.06510589]\n",
      " [0.08723202 0.68966654]\n",
      " [0.94810202 0.85358139]\n",
      " [0.60683217 1.        ]\n",
      " [0.79335595 0.61124385]\n",
      " [0.78719886 0.04909736]\n",
      " [0.70522063 0.33233496]\n",
      " [0.41080953 0.93987186]\n",
      " [0.16996973 0.79980953]\n",
      " [0.         0.11543621]\n",
      " [0.76017001 0.06762082]\n",
      " [0.33555566 0.36102628]\n",
      " [0.24187894 0.04461376]\n",
      " [0.94861992 0.05809041]\n",
      " [0.09231683 0.19314775]\n",
      " [0.58513086 0.09144515]\n",
      " [0.4338536  0.87708793]\n",
      " [0.34519815 0.46180712]\n",
      " [0.73003291 0.58363585]\n",
      " [0.75736469 0.90719478]\n",
      " [0.78427779 0.11907281]\n",
      " [0.06767855 0.1004214 ]\n",
      " [0.21781649 0.98730143]\n",
      " [0.53935779 0.9658464 ]\n",
      " [0.23172092 0.31091199]\n",
      " [0.54486899 0.64899682]\n",
      " [0.7078864  0.05319134]\n",
      " [0.68193633 0.00597312]\n",
      " [0.63339673 0.54093766]\n",
      " [0.36171836 0.65758599]\n",
      " [0.58299123 0.32051057]\n",
      " [0.16951754 0.74065011]\n",
      " [0.50659749 0.00253071]\n",
      " [0.54264101 0.80993128]\n",
      " [0.45625775 0.82667405]\n",
      " [0.42835298 0.92637191]\n",
      " [0.58391708 0.74573247]\n",
      " [0.04031468 0.77213734]\n",
      " [0.18710079 0.50111016]\n",
      " [0.58498098 0.23303669]\n",
      " [0.46907361 0.12612906]\n",
      " [0.23824166 0.01048246]\n",
      " [0.14229097 0.7381625 ]\n",
      " [0.25731594 0.50530044]\n",
      " [0.07152613 0.54394519]\n",
      " [0.79358412 0.94428629]\n",
      " [0.01018633 0.43742288]\n",
      " [0.18943151 0.96755744]\n",
      " [0.64077097 0.65919451]\n",
      " [0.04968323 0.121206  ]\n",
      " [0.46519675 0.08414248]\n",
      " [0.1011186  0.55084443]\n",
      " [0.56222094 0.82120088]\n",
      " [0.6206748  0.20336379]\n",
      " [0.59296593 0.03701928]\n",
      " [0.75677662 0.41462052]\n",
      " [0.19627945 0.59490799]\n",
      " [0.39016448 0.29113699]\n",
      " [0.79053147 0.65193568]\n",
      " [0.61867271 0.95761478]\n",
      " [0.79209079 0.36570881]\n",
      " [0.24855911 0.53245984]\n",
      " [0.89281341 0.46549135]\n",
      " [0.7475012  0.57232594]\n",
      " [0.21340045 0.01064583]]\n"
     ]
    }
   ],
   "source": [
    "import numpy as np\n",
    "from sklearn.preprocessing import MinMaxScaler\n",
    "\n",
    "# Dados de exemplo\n",
    "dados = np.random.rand(100, 2) * 100  # 100 valores aleatórios entre 0 e 100\n",
    "\n",
    "# Aplicar Min-Max Scaler\n",
    "scaler = MinMaxScaler()\n",
    "dados_normalizados = scaler.fit_transform(dados)\n",
    "\n",
    "print(dados_normalizados)"
   ]
  },
  {
   "cell_type": "markdown",
   "id": "415816ff",
   "metadata": {
    "slideshow": {
     "slide_type": "fragment"
    }
   },
   "source": [
    "### A.8 Utilizar a normalização Standard Scaler\n",
    "\n",
    "A normalização `StandardScaler` padroniza os dados removendo a média e escala os dados para que tenham média igual a 0 e desvio padrão 1.\n",
    "\n",
    "**Standard (Z) Scaling:**\n",
    "\n",
    "- Fórmula: $$  X_{\\text{scaled}} = \\frac{X - \\text{mean}(X)}{\\text{std}(X)} $$ \n",
    "- Usado quando a distribuição dos dados é normal ou próxima da normal.\n",
    "\n",
    "**Exemplo em Python:**"
   ]
  },
  {
   "cell_type": "code",
   "execution_count": 40,
   "id": "22a89a4d",
   "metadata": {
    "execution": {
     "iopub.execute_input": "2024-08-05T10:42:25.954135Z",
     "iopub.status.busy": "2024-08-05T10:42:25.954135Z",
     "iopub.status.idle": "2024-08-05T10:42:25.959898Z",
     "shell.execute_reply": "2024-08-05T10:42:25.959898Z"
    },
    "slideshow": {
     "slide_type": "slide"
    }
   },
   "outputs": [
    {
     "name": "stdout",
     "output_type": "stream",
     "text": [
      "[[-1.06904497 -1.06904497]\n",
      " [-0.26726124 -0.26726124]\n",
      " [ 1.33630621  1.33630621]]\n"
     ]
    }
   ],
   "source": [
    "from sklearn.preprocessing import StandardScaler\n",
    "\n",
    "# Dados de exemplo\n",
    "dados = np.array([[1, 2], [2, 3], [4, 5]])\n",
    "\n",
    "# Aplicar StandardScaler\n",
    "scaler = StandardScaler()\n",
    "dados_normalizados = scaler.fit_transform(dados)\n",
    "\n",
    "# Exibir os dados normalizados\n",
    "print(dados_normalizados)"
   ]
  },
  {
   "cell_type": "code",
   "execution_count": null,
   "id": "deccb4ca",
   "metadata": {},
   "outputs": [
    {
     "name": "stdout",
     "output_type": "stream",
     "text": [
      "[[ 0.         -1.22474487  1.33630621]\n",
      " [ 1.22474487  0.         -0.26726124]\n",
      " [-1.22474487  1.22474487 -1.06904497]]\n"
     ]
    }
   ],
   "source": [
    "from sklearn import preprocessing\n",
    "import numpy as np\n",
    "\n",
    "# Dados de exemplo\n",
    "X = np.array([[1., -1., 2.],\n",
    "              [2., 0., 0.],\n",
    "              [0., 1., -1.]])\n",
    "\n",
    "# Aplicar a padronização\n",
    "X_scaled = preprocessing.scale(X)\n",
    "\n",
    "print(X_scaled)"
   ]
  },
  {
   "cell_type": "markdown",
   "id": "3dbfed15",
   "metadata": {
    "slideshow": {
     "slide_type": "fragment"
    }
   },
   "source": [
    "### A.9 Utilizar a regularização norma-l2\n",
    "\n",
    "A regularização L2 adiciona uma penalidade igual ao quadrado da magnitude dos coeficientes do modelo linear para evitar overfitting. Em termos de manipulação de dados, isso não afeta diretamente a transformação dos dados, mas sim o processo de ajuste do modelo."
   ]
  },
  {
   "cell_type": "markdown",
   "id": "4be0a85a",
   "metadata": {},
   "source": [
    "![alt text](0_Rw_bC-1ByKfHvELn.webp)"
   ]
  },
  {
   "cell_type": "markdown",
   "id": "52d7d149",
   "metadata": {},
   "source": [
    "$$ l1, Lasso: soma dos quadrados dos resíduos + penalidade * | inclinação | $$"
   ]
  },
  {
   "cell_type": "markdown",
   "id": "4305e9fe",
   "metadata": {},
   "source": [
    "![alt text](0_Zy-M3ejNdZxpeIv6.webp)"
   ]
  },
  {
   "cell_type": "markdown",
   "id": "06adc471",
   "metadata": {},
   "source": [
    "$$ l2, Ridge: soma dos quadrados dos resíduos + penalidade * (inclinação)² $$"
   ]
  },
  {
   "cell_type": "markdown",
   "id": "3be67914",
   "metadata": {},
   "source": [
    "![alt text](0_Sxd9ERNyv-yrKGvd.webp)"
   ]
  },
  {
   "cell_type": "markdown",
   "id": "4ffc7254",
   "metadata": {},
   "source": [
    "![alt text](0_Wlq4yf-bvJWSy7Oo.webp)"
   ]
  },
  {
   "cell_type": "markdown",
   "id": "b401ce10",
   "metadata": {},
   "source": [
    "\n",
    "**Exemplo usando `Ridge` do sklearn:**"
   ]
  },
  {
   "cell_type": "code",
   "execution_count": 41,
   "id": "693cd43a",
   "metadata": {
    "execution": {
     "iopub.execute_input": "2024-08-05T10:42:25.963900Z",
     "iopub.status.busy": "2024-08-05T10:42:25.963900Z",
     "iopub.status.idle": "2024-08-05T10:42:26.337139Z",
     "shell.execute_reply": "2024-08-05T10:42:26.337139Z"
    },
    "slideshow": {
     "slide_type": "slide"
    }
   },
   "outputs": [
    {
     "name": "stdout",
     "output_type": "stream",
     "text": [
      "[0.8 1.4]\n"
     ]
    }
   ],
   "source": [
    "from sklearn.linear_model import Ridge\n",
    "\n",
    "# Dados de exemplo (X: features, y: target)\n",
    "X = np.array([[1, 1], [1, 2], [2, 2], [2, 3]])\n",
    "y = np.dot(X, np.array([1, 2])) + 3\n",
    "\n",
    "# Aplicar Ridge Regression com regularização L2\n",
    "model = Ridge(alpha=1.0)\n",
    "model.fit(X, y)\n",
    "\n",
    "# Coeficientes do modelo\n",
    "print(model.coef_)"
   ]
  },
  {
   "cell_type": "code",
   "execution_count": null,
   "id": "06236d74",
   "metadata": {},
   "outputs": [
    {
     "name": "stdout",
     "output_type": "stream",
     "text": [
      "[-0.07038194  0.17457162]\n"
     ]
    }
   ],
   "source": [
    "import numpy as np\n",
    "from sklearn.linear_model import Ridge\n",
    "\n",
    "# Dados de exemplo\n",
    "X = np.random.rand(100, 2)  # 100 exemplos, 2 features\n",
    "y = np.random.rand(100)  # 100 valores alvo\n",
    "\n",
    "# Aplicar Ridge Regression com regularização L2\n",
    "modelo = Ridge(alpha=1.0)\n",
    "modelo.fit(X, y)\n",
    "\n",
    "print(modelo.coef_)"
   ]
  },
  {
   "cell_type": "markdown",
   "id": "13334248",
   "metadata": {},
   "source": [
    "## A.10. Selecionar as features úteis para o modelo usando uma das três técnicas: Filtragem, Wrapper e Embedding\n",
    "\n",
    "A seleção de características é um passo crítico no pré-processamento de dados para aprendizado de máquina. Reduz a complexidade do modelo, diminui o tempo de treinamento e pode melhorar o desempenho do modelo ao eliminar características irrelevantes ou redundantes. Existem três abordagens principais para a seleção de características: Filtragem, Métodos Wrapper e Métodos Embutidos.\n",
    "\n",
    "\n",
    "- **Filtragem:** Seleciona as features com base em estatísticas univariadas, como a correlação.\n",
    "- **Wrapper:** Usa um modelo de machine learning para avaliar a importância de cada subset de features.\n",
    "- **Embedding:** As features são selecionadas durante o treinamento do modelo, como nos modelos baseados em árvores.\n",
    "\n"
   ]
  },
  {
   "cell_type": "markdown",
   "id": "077997da",
   "metadata": {},
   "source": [
    "\n",
    "#### A.10.1 Filtragem\n",
    "A abordagem de filtragem envolve a avaliação de cada característica individualmente em relação à variável de resposta e a seleção das características mais relevantes. Métodos comuns incluem:\n",
    "- **Correlação:** Mede a relação linear entre a característica e a variável de resposta. Características com alta correlação positiva ou negativa podem ser selecionadas.\n",
    "- **Informação Mútua:** Mede a dependência mútua entre a característica e a variável de resposta. Características com alta informação mútua são preferidas"
   ]
  },
  {
   "cell_type": "markdown",
   "id": "ee0934b2",
   "metadata": {
    "slideshow": {
     "slide_type": "fragment"
    }
   },
   "source": [
    "1. **Filtragem**: Seleção de features baseada em métodos estatísticos. \n",
    "   \n",
    "- Exemplo com `SelectKBest`:\n"
   ]
  },
  {
   "cell_type": "code",
   "execution_count": 42,
   "id": "bc51fa32",
   "metadata": {
    "execution": {
     "iopub.execute_input": "2024-08-05T10:42:26.341086Z",
     "iopub.status.busy": "2024-08-05T10:42:26.340086Z",
     "iopub.status.idle": "2024-08-05T10:42:26.368026Z",
     "shell.execute_reply": "2024-08-05T10:42:26.368026Z"
    },
    "slideshow": {
     "slide_type": "slide"
    }
   },
   "outputs": [
    {
     "name": "stdout",
     "output_type": "stream",
     "text": [
      "(100, 5)\n"
     ]
    }
   ],
   "source": [
    "from sklearn.feature_selection import SelectKBest, f_classif\n",
    "\n",
    "# Dados de exemplo (X: features, y: target)\n",
    "X = np.random.randn(100, 10)\n",
    "y = np.random.randint(0, 2, 100)\n",
    "\n",
    "# Selecionar as 5 melhores features\n",
    "selector = SelectKBest(score_func=f_classif, k=5)\n",
    "X_new = selector.fit_transform(X, y)\n",
    "\n",
    "# Features selecionadas\n",
    "print(X_new.shape)"
   ]
  },
  {
   "cell_type": "code",
   "execution_count": null,
   "id": "39afecba",
   "metadata": {},
   "outputs": [
    {
     "name": "stdout",
     "output_type": "stream",
     "text": [
      "[[1.4 0.2]\n",
      " [1.4 0.2]\n",
      " [1.3 0.2]\n",
      " [1.5 0.2]\n",
      " [1.4 0.2]\n",
      " [1.7 0.4]\n",
      " [1.4 0.3]\n",
      " [1.5 0.2]\n",
      " [1.4 0.2]\n",
      " [1.5 0.1]\n",
      " [1.5 0.2]\n",
      " [1.6 0.2]\n",
      " [1.4 0.1]\n",
      " [1.1 0.1]\n",
      " [1.2 0.2]\n",
      " [1.5 0.4]\n",
      " [1.3 0.4]\n",
      " [1.4 0.3]\n",
      " [1.7 0.3]\n",
      " [1.5 0.3]\n",
      " [1.7 0.2]\n",
      " [1.5 0.4]\n",
      " [1.  0.2]\n",
      " [1.7 0.5]\n",
      " [1.9 0.2]\n",
      " [1.6 0.2]\n",
      " [1.6 0.4]\n",
      " [1.5 0.2]\n",
      " [1.4 0.2]\n",
      " [1.6 0.2]\n",
      " [1.6 0.2]\n",
      " [1.5 0.4]\n",
      " [1.5 0.1]\n",
      " [1.4 0.2]\n",
      " [1.5 0.2]\n",
      " [1.2 0.2]\n",
      " [1.3 0.2]\n",
      " [1.4 0.1]\n",
      " [1.3 0.2]\n",
      " [1.5 0.2]\n",
      " [1.3 0.3]\n",
      " [1.3 0.3]\n",
      " [1.3 0.2]\n",
      " [1.6 0.6]\n",
      " [1.9 0.4]\n",
      " [1.4 0.3]\n",
      " [1.6 0.2]\n",
      " [1.4 0.2]\n",
      " [1.5 0.2]\n",
      " [1.4 0.2]\n",
      " [4.7 1.4]\n",
      " [4.5 1.5]\n",
      " [4.9 1.5]\n",
      " [4.  1.3]\n",
      " [4.6 1.5]\n",
      " [4.5 1.3]\n",
      " [4.7 1.6]\n",
      " [3.3 1. ]\n",
      " [4.6 1.3]\n",
      " [3.9 1.4]\n",
      " [3.5 1. ]\n",
      " [4.2 1.5]\n",
      " [4.  1. ]\n",
      " [4.7 1.4]\n",
      " [3.6 1.3]\n",
      " [4.4 1.4]\n",
      " [4.5 1.5]\n",
      " [4.1 1. ]\n",
      " [4.5 1.5]\n",
      " [3.9 1.1]\n",
      " [4.8 1.8]\n",
      " [4.  1.3]\n",
      " [4.9 1.5]\n",
      " [4.7 1.2]\n",
      " [4.3 1.3]\n",
      " [4.4 1.4]\n",
      " [4.8 1.4]\n",
      " [5.  1.7]\n",
      " [4.5 1.5]\n",
      " [3.5 1. ]\n",
      " [3.8 1.1]\n",
      " [3.7 1. ]\n",
      " [3.9 1.2]\n",
      " [5.1 1.6]\n",
      " [4.5 1.5]\n",
      " [4.5 1.6]\n",
      " [4.7 1.5]\n",
      " [4.4 1.3]\n",
      " [4.1 1.3]\n",
      " [4.  1.3]\n",
      " [4.4 1.2]\n",
      " [4.6 1.4]\n",
      " [4.  1.2]\n",
      " [3.3 1. ]\n",
      " [4.2 1.3]\n",
      " [4.2 1.2]\n",
      " [4.2 1.3]\n",
      " [4.3 1.3]\n",
      " [3.  1.1]\n",
      " [4.1 1.3]\n",
      " [6.  2.5]\n",
      " [5.1 1.9]\n",
      " [5.9 2.1]\n",
      " [5.6 1.8]\n",
      " [5.8 2.2]\n",
      " [6.6 2.1]\n",
      " [4.5 1.7]\n",
      " [6.3 1.8]\n",
      " [5.8 1.8]\n",
      " [6.1 2.5]\n",
      " [5.1 2. ]\n",
      " [5.3 1.9]\n",
      " [5.5 2.1]\n",
      " [5.  2. ]\n",
      " [5.1 2.4]\n",
      " [5.3 2.3]\n",
      " [5.5 1.8]\n",
      " [6.7 2.2]\n",
      " [6.9 2.3]\n",
      " [5.  1.5]\n",
      " [5.7 2.3]\n",
      " [4.9 2. ]\n",
      " [6.7 2. ]\n",
      " [4.9 1.8]\n",
      " [5.7 2.1]\n",
      " [6.  1.8]\n",
      " [4.8 1.8]\n",
      " [4.9 1.8]\n",
      " [5.6 2.1]\n",
      " [5.8 1.6]\n",
      " [6.1 1.9]\n",
      " [6.4 2. ]\n",
      " [5.6 2.2]\n",
      " [5.1 1.5]\n",
      " [5.6 1.4]\n",
      " [6.1 2.3]\n",
      " [5.6 2.4]\n",
      " [5.5 1.8]\n",
      " [4.8 1.8]\n",
      " [5.4 2.1]\n",
      " [5.6 2.4]\n",
      " [5.1 2.3]\n",
      " [5.1 1.9]\n",
      " [5.9 2.3]\n",
      " [5.7 2.5]\n",
      " [5.2 2.3]\n",
      " [5.  1.9]\n",
      " [5.2 2. ]\n",
      " [5.4 2.3]\n",
      " [5.1 1.8]]\n"
     ]
    }
   ],
   "source": [
    "from sklearn.datasets import load_iris\n",
    "from sklearn.feature_selection import SelectKBest, f_classif\n",
    "\n",
    "# Carregar dados de exemplo\n",
    "iris = load_iris()\n",
    "X, y = iris.data, iris.target\n",
    "\n",
    "# Selecionar as 2 melhores features\n",
    "selector = SelectKBest(score_func=f_classif, k=2)\n",
    "X_novas = selector.fit_transform(X, y)\n",
    "\n",
    "print(X_novas)"
   ]
  },
  {
   "cell_type": "markdown",
   "id": "c2b3fe81",
   "metadata": {},
   "source": [
    "\n",
    "Exemplo de uso de correlação em Python:"
   ]
  },
  {
   "cell_type": "code",
   "execution_count": null,
   "id": "58881812",
   "metadata": {},
   "outputs": [
    {
     "name": "stdout",
     "output_type": "stream",
     "text": [
      "feature1    1.0\n",
      "target      1.0\n",
      "feature2   -1.0\n",
      "Name: target, dtype: float64\n"
     ]
    }
   ],
   "source": [
    "import pandas as pd\n",
    "\n",
    "# Dados de exemplo\n",
    "df = pd.DataFrame({\n",
    "    'feature1': [1, 2, 3, 4, 5],\n",
    "    'feature2': [5, 4, 3, 2, 1],\n",
    "    'target': [1, 2, 3, 4, 5]\n",
    "})\n",
    "\n",
    "# Calcular a correlação entre características e a variável de resposta\n",
    "correlation_matrix = df.corr()\n",
    "print(correlation_matrix['target'].sort_values(ascending=False))"
   ]
  },
  {
   "cell_type": "markdown",
   "id": "acd6ede3",
   "metadata": {},
   "source": [
    "#### A.10.2 Métodos Wrapper\n",
    "\n",
    "Os métodos wrapper avaliam várias combinações de características e selecionam a combinação que resulta no melhor desempenho do modelo. São computacionalmente caros, mas podem ser muito eficazes. Um exemplo comum é a Regressão Stepwise."
   ]
  },
  {
   "cell_type": "markdown",
   "id": "12f5d79c",
   "metadata": {
    "slideshow": {
     "slide_type": "fragment"
    }
   },
   "source": [
    "2. **Wrapper**: Seleção de features usando um modelo preditivo. Exemplo com `RFE`:"
   ]
  },
  {
   "cell_type": "code",
   "execution_count": 43,
   "id": "4e2666e5",
   "metadata": {
    "execution": {
     "iopub.execute_input": "2024-08-05T10:42:26.373025Z",
     "iopub.status.busy": "2024-08-05T10:42:26.373025Z",
     "iopub.status.idle": "2024-08-05T10:42:26.376752Z",
     "shell.execute_reply": "2024-08-05T10:42:26.376752Z"
    },
    "slideshow": {
     "slide_type": "slide"
    }
   },
   "outputs": [
    {
     "name": "stdout",
     "output_type": "stream",
     "text": [
      "(100, 5)\n"
     ]
    }
   ],
   "source": [
    "from sklearn.feature_selection import RFE\n",
    "from sklearn.linear_model import LogisticRegression\n",
    "\n",
    "# Dados de exemplo (X: features, y: target)\n",
    "X = np.random.randn(100, 10)\n",
    "y = np.random.randint(0, 2, 100)\n",
    "\n",
    "# Aplicar RFE com Logistic Regression\n",
    "model = LogisticRegression()\n",
    "rfe = RFE(model, n_features_to_select=5)\n",
    "X_new = rfe.fit_transform(X, y)\n",
    "\n",
    "# Features selecionadas\n",
    "print(X_new.shape)"
   ]
  },
  {
   "cell_type": "markdown",
   "id": "31fcf945",
   "metadata": {},
   "source": [
    "Exemplo de uso de um método wrapper em Python (Sequential Feature Selector):"
   ]
  },
  {
   "cell_type": "code",
   "execution_count": null,
   "id": "d1c3e421",
   "metadata": {},
   "outputs": [
    {
     "name": "stdout",
     "output_type": "stream",
     "text": [
      "[ True False]\n"
     ]
    },
    {
     "name": "stderr",
     "output_type": "stream",
     "text": [
      "c:\\Users\\dacio\\OneDrive\\INFNET\\machineLearning\\.venv\\Lib\\site-packages\\sklearn\\metrics\\_regression.py:1211: UndefinedMetricWarning: R^2 score is not well-defined with less than two samples.\n",
      "  warnings.warn(msg, UndefinedMetricWarning)\n",
      "c:\\Users\\dacio\\OneDrive\\INFNET\\machineLearning\\.venv\\Lib\\site-packages\\sklearn\\metrics\\_regression.py:1211: UndefinedMetricWarning: R^2 score is not well-defined with less than two samples.\n",
      "  warnings.warn(msg, UndefinedMetricWarning)\n",
      "c:\\Users\\dacio\\OneDrive\\INFNET\\machineLearning\\.venv\\Lib\\site-packages\\sklearn\\metrics\\_regression.py:1211: UndefinedMetricWarning: R^2 score is not well-defined with less than two samples.\n",
      "  warnings.warn(msg, UndefinedMetricWarning)\n",
      "c:\\Users\\dacio\\OneDrive\\INFNET\\machineLearning\\.venv\\Lib\\site-packages\\sklearn\\metrics\\_regression.py:1211: UndefinedMetricWarning: R^2 score is not well-defined with less than two samples.\n",
      "  warnings.warn(msg, UndefinedMetricWarning)\n",
      "c:\\Users\\dacio\\OneDrive\\INFNET\\machineLearning\\.venv\\Lib\\site-packages\\sklearn\\metrics\\_regression.py:1211: UndefinedMetricWarning: R^2 score is not well-defined with less than two samples.\n",
      "  warnings.warn(msg, UndefinedMetricWarning)\n",
      "c:\\Users\\dacio\\OneDrive\\INFNET\\machineLearning\\.venv\\Lib\\site-packages\\sklearn\\metrics\\_regression.py:1211: UndefinedMetricWarning: R^2 score is not well-defined with less than two samples.\n",
      "  warnings.warn(msg, UndefinedMetricWarning)\n",
      "c:\\Users\\dacio\\OneDrive\\INFNET\\machineLearning\\.venv\\Lib\\site-packages\\sklearn\\metrics\\_regression.py:1211: UndefinedMetricWarning: R^2 score is not well-defined with less than two samples.\n",
      "  warnings.warn(msg, UndefinedMetricWarning)\n",
      "c:\\Users\\dacio\\OneDrive\\INFNET\\machineLearning\\.venv\\Lib\\site-packages\\sklearn\\metrics\\_regression.py:1211: UndefinedMetricWarning: R^2 score is not well-defined with less than two samples.\n",
      "  warnings.warn(msg, UndefinedMetricWarning)\n",
      "c:\\Users\\dacio\\OneDrive\\INFNET\\machineLearning\\.venv\\Lib\\site-packages\\sklearn\\metrics\\_regression.py:1211: UndefinedMetricWarning: R^2 score is not well-defined with less than two samples.\n",
      "  warnings.warn(msg, UndefinedMetricWarning)\n",
      "c:\\Users\\dacio\\OneDrive\\INFNET\\machineLearning\\.venv\\Lib\\site-packages\\sklearn\\metrics\\_regression.py:1211: UndefinedMetricWarning: R^2 score is not well-defined with less than two samples.\n",
      "  warnings.warn(msg, UndefinedMetricWarning)\n"
     ]
    }
   ],
   "source": [
    "from sklearn.feature_selection import SequentialFeatureSelector\n",
    "from sklearn.linear_model import LinearRegression\n",
    "\n",
    "# Dados de exemplo\n",
    "X = df[['feature1', 'feature2']]\n",
    "y = df['target']\n",
    "\n",
    "# Modelo base\n",
    "model = LinearRegression()\n",
    "\n",
    "# Sequential Feature Selector\n",
    "sfs = SequentialFeatureSelector(model, n_features_to_select=1, direction='forward')\n",
    "sfs.fit(X, y)\n",
    "\n",
    "print(sfs.get_support())  # Características selecionadas"
   ]
  },
  {
   "cell_type": "markdown",
   "id": "eaf26dc8",
   "metadata": {},
   "source": [
    "#### A.10.3 Métodos Embutidos\n",
    "\n",
    "Os métodos embutidos realizam a seleção de características durante o processo de treinamento do modelo. Exemplos incluem Árvores de Decisão e Florestas Aleatórias, que calculam a importância das características durante o ajuste do modelo.\n"
   ]
  },
  {
   "cell_type": "markdown",
   "id": "7872da8f",
   "metadata": {
    "slideshow": {
     "slide_type": "fragment"
    }
   },
   "source": [
    "3. **Embedding**: Seleção de features integrada ao processo de treinamento. Exemplo com `Lasso`:"
   ]
  },
  {
   "cell_type": "code",
   "execution_count": 44,
   "id": "fa2ff81a",
   "metadata": {
    "execution": {
     "iopub.execute_input": "2024-08-05T10:42:26.381751Z",
     "iopub.status.busy": "2024-08-05T10:42:26.381751Z",
     "iopub.status.idle": "2024-08-05T10:42:26.386384Z",
     "shell.execute_reply": "2024-08-05T10:42:26.386384Z"
    },
    "slideshow": {
     "slide_type": "slide"
    }
   },
   "outputs": [
    {
     "name": "stdout",
     "output_type": "stream",
     "text": [
      "[ 0.          0.03439734  0.          0.          0.          0.08056253\n",
      "  0.          0.          0.13757697 -0.        ]\n"
     ]
    }
   ],
   "source": [
    "from sklearn.linear_model import Lasso\n",
    "\n",
    "# Dados de exemplo (X: features, y: target)\n",
    "X = np.random.randn(100, 10)\n",
    "y = np.random.randn(100)\n",
    "\n",
    "# Aplicar Lasso para seleção de features\n",
    "model = Lasso(alpha=0.1)\n",
    "model.fit(X, y)\n",
    "\n",
    "# Coeficientes do modelo\n",
    "print(model.coef_)"
   ]
  },
  {
   "cell_type": "markdown",
   "id": "7cfce186",
   "metadata": {},
   "source": [
    "Exemplo de uso de uma Árvore de Decisão em Python:"
   ]
  },
  {
   "cell_type": "code",
   "execution_count": null,
   "id": "47a94681",
   "metadata": {},
   "outputs": [
    {
     "name": "stdout",
     "output_type": "stream",
     "text": [
      "[0.95 0.05]\n"
     ]
    }
   ],
   "source": [
    "from sklearn.tree import DecisionTreeRegressor\n",
    "\n",
    "# Modelo de Árvore de Decisão\n",
    "model = DecisionTreeRegressor()\n",
    "\n",
    "# Ajuste do modelo\n",
    "model.fit(X, y)\n",
    "\n",
    "# Importâncias das características\n",
    "importances = model.feature_importances_\n",
    "print(importances)"
   ]
  },
  {
   "cell_type": "markdown",
   "id": "1fdd1b67",
   "metadata": {},
   "source": [
    "Exemplo de uso de Floresta Aleatória em Python:"
   ]
  },
  {
   "cell_type": "code",
   "execution_count": null,
   "id": "b7264894",
   "metadata": {},
   "outputs": [
    {
     "name": "stdout",
     "output_type": "stream",
     "text": [
      "[0.08491853 0.10112385 0.08774692 0.09716454 0.08359146 0.12087978\n",
      " 0.08468217 0.12909016 0.13607203 0.07473056]\n"
     ]
    }
   ],
   "source": [
    "from sklearn.ensemble import RandomForestClassifier\n",
    "import numpy as np\n",
    "\n",
    "X = np.random.rand(100, 10)\n",
    "y = np.random.randint(0, 2, 100)\n",
    "model = RandomForestClassifier()\n",
    "model.fit(X, y)\n",
    "importances = model.feature_importances_\n",
    "\n",
    "print(importances)"
   ]
  },
  {
   "cell_type": "markdown",
   "id": "67adf8f0",
   "metadata": {},
   "source": [
    "## A.11. Advanced Feature Selection (Seleção de Características Avançadas)\n",
    "\n",
    "#### A.11.1. Filtragem\n",
    "A abordagem de filtragem envolve a avaliação de cada característica individualmente em relação à variável de resposta e a seleção das características mais relevantes. Métodos comuns incluem:\n",
    "- **Correlação:** Mede a relação linear entre a característica e a variável de resposta. Características com alta correlação positiva ou negativa podem ser selecionadas.\n",
    "- **Informação Mútua:** Mede a dependência mútua entre a característica e a variável de resposta. Características com alta informação mútua são preferidas.\n",
    "\n",
    "Exemplo de uso de correlação em Python:"
   ]
  },
  {
   "cell_type": "code",
   "execution_count": null,
   "id": "bcf8a8cb",
   "metadata": {},
   "outputs": [
    {
     "name": "stdout",
     "output_type": "stream",
     "text": [
      "feature1    1.0\n",
      "target      1.0\n",
      "feature2   -1.0\n",
      "Name: target, dtype: float64\n"
     ]
    }
   ],
   "source": [
    "import pandas as pd\n",
    "\n",
    "# Dados de exemplo\n",
    "df = pd.DataFrame({\n",
    "    'feature1': [1, 2, 3, 4, 5],\n",
    "    'feature2': [5, 4, 3, 2, 1],\n",
    "    'target': [1, 2, 3, 4, 5]\n",
    "})\n",
    "\n",
    "# Calcular a correlação entre características e a variável de resposta\n",
    "correlation_matrix = df.corr()\n",
    "print(correlation_matrix['target'].sort_values(ascending=False))"
   ]
  },
  {
   "cell_type": "markdown",
   "id": "a1f66a23",
   "metadata": {},
   "source": [
    "#### A.11.2 Métodos Wrapper\n",
    "Os métodos wrapper avaliam várias combinações de características e selecionam a combinação que resulta no melhor desempenho do modelo. São computacionalmente caros, mas podem ser muito eficazes. Um exemplo comum é a Regressão Stepwise.\n",
    "\n",
    "Exemplo de uso de um método wrapper em Python (Sequential Feature Selector):"
   ]
  },
  {
   "cell_type": "code",
   "execution_count": null,
   "id": "5cf81af9",
   "metadata": {},
   "outputs": [
    {
     "name": "stdout",
     "output_type": "stream",
     "text": [
      "[ True False]\n"
     ]
    },
    {
     "name": "stderr",
     "output_type": "stream",
     "text": [
      "c:\\Users\\dacio\\OneDrive\\INFNET\\machineLearning\\.venv\\Lib\\site-packages\\sklearn\\metrics\\_regression.py:1211: UndefinedMetricWarning: R^2 score is not well-defined with less than two samples.\n",
      "  warnings.warn(msg, UndefinedMetricWarning)\n",
      "c:\\Users\\dacio\\OneDrive\\INFNET\\machineLearning\\.venv\\Lib\\site-packages\\sklearn\\metrics\\_regression.py:1211: UndefinedMetricWarning: R^2 score is not well-defined with less than two samples.\n",
      "  warnings.warn(msg, UndefinedMetricWarning)\n",
      "c:\\Users\\dacio\\OneDrive\\INFNET\\machineLearning\\.venv\\Lib\\site-packages\\sklearn\\metrics\\_regression.py:1211: UndefinedMetricWarning: R^2 score is not well-defined with less than two samples.\n",
      "  warnings.warn(msg, UndefinedMetricWarning)\n",
      "c:\\Users\\dacio\\OneDrive\\INFNET\\machineLearning\\.venv\\Lib\\site-packages\\sklearn\\metrics\\_regression.py:1211: UndefinedMetricWarning: R^2 score is not well-defined with less than two samples.\n",
      "  warnings.warn(msg, UndefinedMetricWarning)\n",
      "c:\\Users\\dacio\\OneDrive\\INFNET\\machineLearning\\.venv\\Lib\\site-packages\\sklearn\\metrics\\_regression.py:1211: UndefinedMetricWarning: R^2 score is not well-defined with less than two samples.\n",
      "  warnings.warn(msg, UndefinedMetricWarning)\n",
      "c:\\Users\\dacio\\OneDrive\\INFNET\\machineLearning\\.venv\\Lib\\site-packages\\sklearn\\metrics\\_regression.py:1211: UndefinedMetricWarning: R^2 score is not well-defined with less than two samples.\n",
      "  warnings.warn(msg, UndefinedMetricWarning)\n",
      "c:\\Users\\dacio\\OneDrive\\INFNET\\machineLearning\\.venv\\Lib\\site-packages\\sklearn\\metrics\\_regression.py:1211: UndefinedMetricWarning: R^2 score is not well-defined with less than two samples.\n",
      "  warnings.warn(msg, UndefinedMetricWarning)\n",
      "c:\\Users\\dacio\\OneDrive\\INFNET\\machineLearning\\.venv\\Lib\\site-packages\\sklearn\\metrics\\_regression.py:1211: UndefinedMetricWarning: R^2 score is not well-defined with less than two samples.\n",
      "  warnings.warn(msg, UndefinedMetricWarning)\n",
      "c:\\Users\\dacio\\OneDrive\\INFNET\\machineLearning\\.venv\\Lib\\site-packages\\sklearn\\metrics\\_regression.py:1211: UndefinedMetricWarning: R^2 score is not well-defined with less than two samples.\n",
      "  warnings.warn(msg, UndefinedMetricWarning)\n",
      "c:\\Users\\dacio\\OneDrive\\INFNET\\machineLearning\\.venv\\Lib\\site-packages\\sklearn\\metrics\\_regression.py:1211: UndefinedMetricWarning: R^2 score is not well-defined with less than two samples.\n",
      "  warnings.warn(msg, UndefinedMetricWarning)\n"
     ]
    }
   ],
   "source": [
    "from sklearn.feature_selection import SequentialFeatureSelector\n",
    "from sklearn.linear_model import LinearRegression\n",
    "\n",
    "# Dados de exemplo\n",
    "X = df[['feature1', 'feature2']]\n",
    "y = df['target']\n",
    "\n",
    "# Modelo base\n",
    "model = LinearRegression()\n",
    "\n",
    "# Sequential Feature Selector\n",
    "sfs = SequentialFeatureSelector(model, n_features_to_select=1, direction='forward')\n",
    "sfs.fit(X, y)\n",
    "\n",
    "print(sfs.get_support())  # Características selecionadas"
   ]
  },
  {
   "cell_type": "markdown",
   "id": "a9ecfbc2",
   "metadata": {},
   "source": [
    "#### A.11.3. Métodos Embutidos\n",
    "Os métodos embutidos realizam a seleção de características durante o processo de treinamento do modelo. Exemplos incluem Árvores de Decisão e Florestas Aleatórias, que calculam a importância das características durante o ajuste do modelo.\n",
    "\n",
    "Exemplo de uso de uma Árvore de Decisão em Python:"
   ]
  },
  {
   "cell_type": "code",
   "execution_count": null,
   "id": "a0c504e8",
   "metadata": {},
   "outputs": [
    {
     "name": "stdout",
     "output_type": "stream",
     "text": [
      "[0.95 0.05]\n"
     ]
    }
   ],
   "source": [
    "from sklearn.tree import DecisionTreeRegressor\n",
    "\n",
    "# Modelo de Árvore de Decisão\n",
    "model = DecisionTreeRegressor()\n",
    "\n",
    "# Ajuste do modelo\n",
    "model.fit(X, y)\n",
    "\n",
    "# Importâncias das características\n",
    "importances = model.feature_importances_\n",
    "print(importances)"
   ]
  },
  {
   "cell_type": "markdown",
   "id": "639a2e99",
   "metadata": {},
   "source": [
    "##### 5.2.1. Seleção Univariada com SelectKBest"
   ]
  },
  {
   "cell_type": "code",
   "execution_count": null,
   "id": "5565932f",
   "metadata": {},
   "outputs": [
    {
     "name": "stdout",
     "output_type": "stream",
     "text": [
      "Features Selecionadas:\n",
      " [[1.4 0.2]\n",
      " [1.4 0.2]\n",
      " [1.3 0.2]\n",
      " [1.5 0.2]\n",
      " [1.4 0.2]]\n"
     ]
    }
   ],
   "source": [
    "from sklearn.datasets import load_iris\n",
    "from sklearn.feature_selection import SelectKBest, f_classif\n",
    "\n",
    "# Carregar o dataset Iris\n",
    "iris = load_iris()\n",
    "X, y = iris.data, iris.target\n",
    "\n",
    "# Selecionar as 2 melhores features\n",
    "selector = SelectKBest(score_func=f_classif, k=2)\n",
    "X_new = selector.fit_transform(X, y)\n",
    "\n",
    "print(\"Features Selecionadas:\\n\", X_new[:5])"
   ]
  },
  {
   "cell_type": "markdown",
   "id": "a758aad4",
   "metadata": {},
   "source": [
    "##### 5.2.2. Utilizando o Método de Variância"
   ]
  },
  {
   "cell_type": "code",
   "execution_count": null,
   "id": "0c217196",
   "metadata": {},
   "outputs": [
    {
     "name": "stdout",
     "output_type": "stream",
     "text": [
      "Features Selecionadas:\n",
      " [[5.1 1.4 0.2]\n",
      " [4.9 1.4 0.2]\n",
      " [4.7 1.3 0.2]\n",
      " [4.6 1.5 0.2]\n",
      " [5.  1.4 0.2]]\n"
     ]
    }
   ],
   "source": [
    "from sklearn.feature_selection import VarianceThreshold\n",
    "\n",
    "# Carregar o dataset Iris\n",
    "iris = load_iris()\n",
    "X, y = iris.data, iris.target\n",
    "\n",
    "# Aplicar threshold de variância\n",
    "selector = VarianceThreshold(threshold=0.2)\n",
    "X_new = selector.fit_transform(X)\n",
    "\n",
    "print(\"Features Selecionadas:\\n\", X_new[:5])"
   ]
  },
  {
   "cell_type": "markdown",
   "id": "ba7e7d7f",
   "metadata": {},
   "source": [
    "#### 5.3. Wrapper\n",
    "As técnicas de Wrapper utilizam um modelo preditivo para avaliar a combinação de features, selecionando o subconjunto que resulta na melhor performance do modelo.\n",
    "\n",
    "##### 5.3.1. Recursive Feature Elimination (RFE)"
   ]
  },
  {
   "cell_type": "code",
   "execution_count": null,
   "id": "1d4928c2",
   "metadata": {},
   "outputs": [
    {
     "name": "stdout",
     "output_type": "stream",
     "text": [
      "Features Selecionadas:\n",
      " [[1.4 0.2]\n",
      " [1.4 0.2]\n",
      " [1.3 0.2]\n",
      " [1.5 0.2]\n",
      " [1.4 0.2]]\n"
     ]
    }
   ],
   "source": [
    "from sklearn.datasets import load_iris\n",
    "from sklearn.feature_selection import RFE\n",
    "from sklearn.linear_model import LogisticRegression\n",
    "\n",
    "# Carregar o dataset Iris\n",
    "iris = load_iris()\n",
    "X, y = iris.data, iris.target\n",
    "\n",
    "# Criar o modelo de Regressão Logística\n",
    "model = LogisticRegression(max_iter=200)\n",
    "\n",
    "# Aplicar RFE para selecionar 2 melhores features\n",
    "rfe = RFE(estimator=model, n_features_to_select=2)\n",
    "X_new = rfe.fit_transform(X, y)\n",
    "\n",
    "print(\"Features Selecionadas:\\n\", X_new[:5])"
   ]
  },
  {
   "cell_type": "markdown",
   "id": "297e5194",
   "metadata": {},
   "source": [
    "#### 5.4. Embedding\n",
    "As técnicas de Embedding integram a seleção de features no próprio processo de treinamento do modelo. Algoritmos como Random Forest e Lasso Regression podem ser utilizados para este propósito.\n",
    "\n",
    "##### 5.4.1. Utilizando Random Forest"
   ]
  },
  {
   "cell_type": "code",
   "execution_count": 31,
   "id": "d79746df",
   "metadata": {},
   "outputs": [
    {
     "name": "stdout",
     "output_type": "stream",
     "text": [
      "             Feature  Importance\n",
      "3   petal width (cm)    0.451180\n",
      "2  petal length (cm)    0.443655\n",
      "0  sepal length (cm)    0.084342\n",
      "1   sepal width (cm)    0.020823\n"
     ]
    }
   ],
   "source": [
    "from sklearn.datasets import load_iris\n",
    "from sklearn.ensemble import RandomForestClassifier\n",
    "import pandas as pd\n",
    "\n",
    "# Carregar o dataset Iris\n",
    "iris = load_iris()\n",
    "X, y = iris.data, iris.target\n",
    "\n",
    "# Treinar um modelo Random Forest\n",
    "model = RandomForestClassifier(n_estimators=100)\n",
    "model.fit(X, y)\n",
    "\n",
    "# Importância das features\n",
    "importances = model.feature_importances_\n",
    "feature_names = iris.feature_names\n",
    "\n",
    "# Criar um DataFrame para visualização\n",
    "importance_df = pd.DataFrame({\n",
    "    'Feature': feature_names,\n",
    "    'Importance': importances\n",
    "}).sort_values(by='Importance', ascending=False)\n",
    "\n",
    "print(importance_df)"
   ]
  }
 ],
 "metadata": {
  "kernelspec": {
   "display_name": "venv",
   "language": "python",
   "name": "python3"
  },
  "language_info": {
   "codemirror_mode": {
    "name": "ipython",
    "version": 3
   },
   "file_extension": ".py",
   "mimetype": "text/x-python",
   "name": "python",
   "nbconvert_exporter": "python",
   "pygments_lexer": "ipython3",
   "version": "3.12.5"
  }
 },
 "nbformat": 4,
 "nbformat_minor": 5
}
