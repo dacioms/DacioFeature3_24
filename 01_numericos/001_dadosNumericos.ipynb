{
 "cells": [
  {
   "cell_type": "code",
   "execution_count": null,
   "id": "b3b2adbd",
   "metadata": {
    "execution": {
     "iopub.execute_input": "2024-08-05T10:42:13.857438Z",
     "iopub.status.busy": "2024-08-05T10:42:13.857438Z",
     "iopub.status.idle": "2024-08-05T10:42:19.147063Z",
     "shell.execute_reply": "2024-08-05T10:42:19.147063Z"
    },
    "slideshow": {
     "slide_type": "slide"
    }
   },
   "outputs": [],
   "source": [
    "# !pip install -r requirements.txt"
   ]
  },
  {
   "cell_type": "markdown",
   "id": "61a5070e",
   "metadata": {},
   "source": [
    "# A. Manipular dados numéricos para algoritmos de Machine Learning\n",
    "\n"
   ]
  },
  {
   "cell_type": "markdown",
   "id": "1d47aa86",
   "metadata": {
    "slideshow": {
     "slide_type": "fragment"
    }
   },
   "source": [
    "## A.1 O que é uma feature e a sua relação com os modelos de machine learning\n",
    "\n",
    "Uma feature, ou característica, é uma propriedade individual medível ou observável de um fenômeno sendo observado. No contexto de machine learning, uma feature é uma entrada para o modelo que contribui para a tomada de decisão ou para a previsão. Em termos mais práticos, as features podem ser vistas como colunas em uma tabela de dados, onde cada coluna representa um tipo específico de informação (como altura, peso, idade, etc.) que pode ser usada para prever um resultado (como o risco de uma doença, a classificação de um documento, etc.).\n",
    "\n",
    "Features podem ser quantitativas (numéricas) ou qualitativas (categóricas). A escolha e a qualidade das features são cruciais, pois impactam diretamente a capacidade do modelo de aprender padrões e realizar previsões precisas. A engenharia de features, que envolve a criação, transformação e seleção de features, é uma etapa essencial no desenvolvimento de modelos eficazes.\n",
    "\n",
    "## A.2 Escalares, vetores e espaços\n",
    "\n",
    "1. **Escalares**: Um escalar é um único valor numérico que pode ser um número real ou complexo. Ele representa uma quantidade unidimensional. Em machine learning, um escalar pode representar uma única medida ou valor, como a temperatura em um dado dia. Em álgebra linear, é frequentemente usado para multiplicar vetores e matrizes, alterando seu tamanho mas não sua direção.\n",
    "\n",
    "2. **Vetores**: Um vetor é uma quantidade que possui tanto magnitude quanto direção. Em machine learning, um vetor é uma sequência de números (escalares) dispostos em uma determinada ordem e frequentemente usados para representar uma amostra de dados, onde cada elemento do vetor é uma feature. Por exemplo, um vetor pode representar as características (features) de um paciente, como [idade, peso, pressão arterial]. E ainda um vetor em um espaço tridimensional pode ser representado como $[x, y, z]$ .\n",
    "\n",
    "3. **Espaços**: Em matemática, um espaço é um conjunto de vetores. Um espaço, especificamente um espaço vetorial, é um conjunto de vetores que podem ser adicionados uns aos outros e multiplicados por escalares para formar novos vetores dentro do mesmo espaço. Em machine learning, um espaço de features é o conjunto de todas as possíveis combinações de valores das features. Um vetor em um espaço de features representa uma amostra de dados, e a dimensionalidade do espaço corresponde ao número de features. Em machine learning, o espaço vetorial das features é onde as operações de modelagem acontecem. Este espaço pode ser de alta dimensão dependendo do número de features usadas.\n"
   ]
  },
  {
   "cell_type": "markdown",
   "id": "e576d131",
   "metadata": {},
   "source": [
    "## Binning, discretização ou Agrupamento\n"
   ]
  },
  {
   "cell_type": "markdown",
   "id": "614527db",
   "metadata": {},
   "source": [
    "\n",
    "### A.3 Discretização de variáveis contínuas por meio de quantização com bins fixos\n",
    "\n",
    "A discretização de variáveis contínuas é o processo de converter variáveis contínuas em variáveis discretas dividindo o intervalo contínuo em partes distintas chamadas \"bins\". Isso pode ser feito de várias maneiras, uma das quais é utilizando bins de largura fixa.\n",
    "\n",
    "**Exemplo em Python usando `pd.cut`:**"
   ]
  },
  {
   "cell_type": "code",
   "execution_count": 5,
   "id": "56e6cd3c",
   "metadata": {},
   "outputs": [
    {
     "name": "stdout",
     "output_type": "stream",
     "text": [
      "['Bin 1', 'Bin 8', 'Bin 7', 'Bin 1', 'Bin 2', ..., 'Bin 4', 'Bin 3', 'Bin 2', 'Bin 1', 'Bin 1']\n",
      "Length: 100\n",
      "Categories (10, object): ['Bin 1' < 'Bin 2' < 'Bin 3' < 'Bin 4' ... 'Bin 7' < 'Bin 8' < 'Bin 9' < 'Bin 10']\n"
     ]
    }
   ],
   "source": [
    "import numpy as np\n",
    "import pandas as pd\n",
    "\n",
    "# Dados de exemplo\n",
    "dados = np.random.rand(100) * 100  # 100 valores aleatórios entre 0 e 100\n",
    "\n",
    "# Discretização com bins de largura fixa\n",
    "bins = np.linspace(0, 100, 11)  # 10 bins de largura 10\n",
    "labels = [f'Bin {i}' for i in range(1, len(bins))]\n",
    "dados_discretizados = pd.cut(dados, bins=bins, labels=labels)\n",
    "\n",
    "print(dados_discretizados)"
   ]
  },
  {
   "cell_type": "code",
   "execution_count": 10,
   "id": "d002f7b2",
   "metadata": {},
   "outputs": [
    {
     "data": {
      "image/png": "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",
      "text/plain": [
       "<Figure size 640x480 with 1 Axes>"
      ]
     },
     "metadata": {},
     "output_type": "display_data"
    }
   ],
   "source": [
    "import matplotlib.pyplot as plt\n",
    "\n",
    "bins =np.linspace(0,10,11)\n",
    "plt.hist(dados_discretizados, bins=bins, edgecolor='k', alpha=0.5)\n",
    "plt.scatter(np.linspace(1,10,100), dados/10, alpha=0.7, c='red', edgecolors='k')\n",
    "plt.show()"
   ]
  },
  {
   "cell_type": "markdown",
   "id": "4e31c8ea",
   "metadata": {},
   "source": [
    "**Exemplo em Python usando `np.digitize`:**"
   ]
  },
  {
   "cell_type": "code",
   "execution_count": 16,
   "id": "7626a8ab",
   "metadata": {
    "execution": {
     "iopub.execute_input": "2024-08-05T10:42:19.151061Z",
     "iopub.status.busy": "2024-08-05T10:42:19.151061Z",
     "iopub.status.idle": "2024-08-05T10:42:21.420942Z",
     "shell.execute_reply": "2024-08-05T10:42:21.420942Z"
    },
    "slideshow": {
     "slide_type": "slide"
    }
   },
   "outputs": [
    {
     "name": "stdout",
     "output_type": "stream",
     "text": [
      "[4 8 4 6 6 5 5 6 4 5]\n"
     ]
    }
   ],
   "source": [
    "import numpy as np\n",
    "import pandas as pd\n",
    "\n",
    "# Dados contínuos de exemplo\n",
    "dados = np.random.randn(1000)\n",
    "\n",
    "# Discretização em 10 bins fixos\n",
    "bins = np.linspace(np.min(dados), np.max(dados), 11)\n",
    "dados_discretizados = np.digitize(dados, bins)\n",
    "\n",
    "# Exibir os primeiros 10 dados discretizados\n",
    "print(dados_discretizados[:10])"
   ]
  },
  {
   "cell_type": "code",
<<<<<<< HEAD
   "execution_count": 17,
=======
   "execution_count": 10,
>>>>>>> 81e2442d2d2dac49a01875edaad733119682baea
   "id": "401a1c18",
   "metadata": {},
   "outputs": [
    {
     "name": "stdout",
     "output_type": "stream",
     "text": [
<<<<<<< HEAD
      "       Data  Digitized\n",
      "0 -1.256943          6\n",
      "1 -0.453628          9\n",
      "2 -0.307594          9\n",
      "3  0.623716         12\n",
      "4  0.058877         10\n"
=======
      "        Data  Digitized\n",
      "0   0.919052         14\n",
      "1  -0.726624          8\n",
      "2  -1.162090          7\n",
      "3   0.594868         12\n",
      "4   0.636628         13\n",
      "5  -0.396675          9\n",
      "6   0.467916         12\n",
      "7  -0.616939          8\n",
      "8  -0.119856         10\n",
      "9  -1.721784          5\n",
      "10 -1.196313          7\n",
      "11 -0.562479          9\n",
      "12 -1.028785          7\n",
      "13  0.622541         13\n",
      "14 -0.504349          9\n",
      "15 -0.569871          9\n",
      "16  0.964153         14\n",
      "17 -0.872785          8\n",
      "18  0.082293         11\n",
      "19  1.916528         17\n",
      "20  1.506173         16\n",
      "21  0.581682         12\n",
      "22 -1.000842          7\n",
      "23 -0.320716          9\n",
      "24  0.411699         12\n",
      "25  0.068944         11\n",
      "26 -0.450129          9\n",
      "27 -0.385028          9\n",
      "28 -0.670549          8\n",
      "29  0.644110         13\n",
      "30  1.104224         14\n",
      "31 -0.103621         10\n",
      "32 -1.042038          7\n",
      "33 -0.564744          9\n",
      "34 -0.419079          9\n",
      "35 -0.488802          9\n",
      "36  1.247562         15\n",
      "37 -0.936889          7\n",
      "38 -0.491801          9\n",
      "39  0.119390         11\n"
>>>>>>> 81e2442d2d2dac49a01875edaad733119682baea
     ]
    }
   ],
   "source": [
    "import numpy as np\n",
    "import pandas as pd\n",
    "\n",
    "# Gerar dados contínuos de exemplo\n",
    "data = np.random.randn(1000)\n",
    "# Discretizar os dados em bins fixos\n",
    "bins = np.linspace(-3, 3, 21)\n",
    "\n",
    "digitized = np.digitize(data, bins)\n",
    "\n",
    "df = pd.DataFrame({'Data': data, 'Digitized': digitized})\n",
    "print(df.head(40))"
   ]
  },
  {
   "cell_type": "markdown",
   "id": "169cba82",
   "metadata": {
    "slideshow": {
     "slide_type": "fragment"
    }
   },
   "source": [
    "### A.4 Discretização de variáveis contínuas por meio de quantização com bins variáveis\n",
    "\n",
    "A discretização com bins variáveis, ou \"quantiles\", divide os dados em intervalos de tal forma que cada bin contém aproximadamente o mesmo número de pontos de dados.\n",
    "\n",
    "**Exemplo em Python:**"
   ]
  },
  {
   "cell_type": "code",
   "execution_count": 36,
   "id": "d7a6d717",
   "metadata": {
    "execution": {
     "iopub.execute_input": "2024-08-05T10:42:21.425943Z",
     "iopub.status.busy": "2024-08-05T10:42:21.424947Z",
     "iopub.status.idle": "2024-08-05T10:42:21.466730Z",
     "shell.execute_reply": "2024-08-05T10:42:21.466730Z"
    },
    "slideshow": {
     "slide_type": "slide"
    }
   },
   "outputs": [
    {
     "name": "stdout",
     "output_type": "stream",
     "text": [
      "[9 0 3 0 4 9 7 1 2 3]\n"
     ]
    }
   ],
   "source": [
    "import numpy as np\n",
    "import pandas as pd\n",
    "\n",
    "# Dados contínuos de exemplo\n",
    "dados = np.random.randn(1000)\n",
    "\n",
    "# Discretização em 10 bins variáveis\n",
    "dados_discretizados, bins = pd.qcut(dados, q=10, retbins=True, labels=False)\n",
    "\n",
    "# Exibir os primeiros 10 dados discretizados\n",
    "print(dados_discretizados[:10])"
   ]
  },
  {
   "cell_type": "code",
   "execution_count": null,
   "id": "8d797ca7",
   "metadata": {},
   "outputs": [
    {
     "name": "stdout",
     "output_type": "stream",
     "text": [
      "       Data  Digitized\n",
      "0  0.585861          3\n",
      "1  1.348231          4\n",
      "2 -0.906309          1\n",
      "3 -1.374753          1\n",
      "4  0.424342          3\n"
     ]
    }
   ],
   "source": [
    "import numpy as np\n",
    "import pandas as pd\n",
    "\n",
    "# Gerar dados contínuos de exemplo\n",
    "data = np.random.randn(1000)\n",
    "# Discretizar os dados em bins variáveis (quantis)\n",
    "bins = np.percentile(data, [0, 25, 50, 75, 100])\n",
    "digitized = np.digitize(data, bins)\n",
    "\n",
    "df = pd.DataFrame({'Data': data, 'Digitized': digitized})\n",
    "print(df.head())"
   ]
  },
  {
   "cell_type": "markdown",
   "id": "9c9124dd",
   "metadata": {
    "slideshow": {
     "slide_type": "fragment"
    }
   },
   "source": [
    "### A.5 Utilizar a FunctionTransformer do sklearn em uma variável\n",
    "\n",
    "A `FunctionTransformer` permite aplicar qualquer função de transformação aos dados, aplicando uma função customizada. Pode ser útil para aplicar transformações que não estão diretamente disponíveis nas outras classes de transformação do scikit-learn.\n",
    "\n",
    "**Exemplo em Python:**"
   ]
  },
  {
   "cell_type": "code",
   "execution_count": null,
   "id": "2c4055d3",
   "metadata": {},
   "outputs": [
    {
     "name": "stdout",
     "output_type": "stream",
     "text": [
      "[[ 1  4]\n",
      " [ 9 16]\n",
      " [25 36]]\n"
     ]
    }
   ],
   "source": [
    "import numpy as np\n",
    "from sklearn.preprocessing import FunctionTransformer\n",
    "\n",
    "# Dados de exemplo\n",
    "dados = np.array([[1, 2], [3, 4], [5, 6]])\n",
    "\n",
    "# Função customizada: quadrado dos valores\n",
    "transformer = FunctionTransformer(np.square)\n",
    "dados_transformados = transformer.transform(dados)\n",
    "\n",
    "print(dados_transformados)"
   ]
  },
  {
   "cell_type": "code",
   "execution_count": 37,
   "id": "384efd7e",
   "metadata": {
    "execution": {
     "iopub.execute_input": "2024-08-05T10:42:21.470725Z",
     "iopub.status.busy": "2024-08-05T10:42:21.469723Z",
     "iopub.status.idle": "2024-08-05T10:42:25.927320Z",
     "shell.execute_reply": "2024-08-05T10:42:25.926321Z"
    },
    "slideshow": {
     "slide_type": "slide"
    }
   },
   "outputs": [
    {
     "name": "stdout",
     "output_type": "stream",
     "text": [
      "[[0.         0.69314718]\n",
      " [1.09861229 1.38629436]\n",
      " [1.60943791 1.79175947]]\n"
     ]
    }
   ],
   "source": [
    "from sklearn.preprocessing import FunctionTransformer\n",
    "\n",
    "# Dados de exemplo\n",
    "dados = np.array([[0, 1], [2, 3], [4, 5]])\n",
    "\n",
    "# Função de transformação: logaritmo natural\n",
    "transformer = FunctionTransformer(np.log1p, validate=True)\n",
    "dados_transformados = transformer.transform(dados)\n",
    "\n",
    "# Exibir os dados transformados\n",
    "print(dados_transformados)"
   ]
  },
  {
   "cell_type": "markdown",
   "id": "a1cade97",
   "metadata": {},
   "source": [
    "\n",
    "#### A.5.1. Transformações Logarítmicas\n",
    "Transformações logarítmicas podem ajudar a lidar com distribuições altamente assimétricas e reduzir a variabilidade dos dados.\n",
    "\n",
    "Comprime o intervalo de números grandes e expande o intervalo de números pequenos."
   ]
  },
  {
   "cell_type": "code",
   "execution_count": null,
   "id": "04da42e1",
   "metadata": {},
   "outputs": [
    {
     "name": "stdout",
     "output_type": "stream",
     "text": [
      "   feature  log_feature\n",
      "0        1     0.693147\n",
      "1       10     2.397895\n",
      "2      100     4.615121\n",
      "3     1000     6.908755\n",
      "4    10000     9.210440\n"
     ]
    }
   ],
   "source": [
    "import numpy as np\n",
    "import pandas as pd\n",
    "\n",
    "# Exemplo de dados com distribuição assimétrica\n",
    "data = pd.DataFrame({'feature': [1, 10, 100, 1000, 10000]})\n",
    "\n",
    "# Aplicar transformação logarítmica\n",
    "data['log_feature'] = np.log1p(data['feature'])\n",
    "\n",
    "print(data)"
   ]
  },
  {
   "cell_type": "markdown",
   "id": "99a4083d",
   "metadata": {},
   "source": [
    "#### A.5.2. Transformações de Raiz Quadrada\n",
    "A transformação de raiz quadrada pode estabilizar variâncias em conjuntos de dados com distribuições assimétricas."
   ]
  },
  {
   "cell_type": "code",
   "execution_count": null,
   "id": "0ec92fd9",
   "metadata": {},
   "outputs": [
    {
     "name": "stdout",
     "output_type": "stream",
     "text": [
      "   feature  sqrt_feature\n",
      "0        1      1.000000\n",
      "1       10      3.162278\n",
      "2      100     10.000000\n",
      "3     1000     31.622777\n",
      "4    10000    100.000000\n"
     ]
    }
   ],
   "source": [
    "import numpy as np\n",
    "import pandas as pd\n",
    "\n",
    "# Exemplo de dados\n",
    "data = pd.DataFrame({'feature': [1, 10, 100, 1000, 10000]})\n",
    "\n",
    "# Aplicar transformação de raiz quadrada\n",
    "data['sqrt_feature'] = np.sqrt(data['feature'])\n",
    "\n",
    "print(data)"
   ]
  },
  {
   "cell_type": "markdown",
   "id": "4671bb13",
   "metadata": {},
   "source": [
    "### A.6. Utilizar a PowerTransformer do sklearn em uma variável\n",
    "\n",
    "A `PowerTransformer` aplica uma transformação de potência (Box-Cox ou Yeo-Johnson) para estabilizar a variância e tornar os dados mais gaussianos.\n",
    "\n",
    "**Exemplo em Python:**"
   ]
  },
  {
   "cell_type": "code",
   "execution_count": null,
   "id": "63fab609",
   "metadata": {},
   "outputs": [
    {
     "name": "stdout",
     "output_type": "stream",
     "text": [
      "[[-1.02693441]\n",
      " [ 0.37888406]\n",
      " [-0.64599735]\n",
      " [-0.96359036]\n",
      " [ 0.67860112]\n",
      " [-1.05379402]\n",
      " [-0.79307006]\n",
      " [-0.55396466]\n",
      " [-0.35281005]\n",
      " [-1.68541661]\n",
      " [ 1.29062762]\n",
      " [-1.26860522]\n",
      " [ 0.74600449]\n",
      " [-1.80954146]\n",
      " [ 1.4816037 ]\n",
      " [ 0.18633441]\n",
      " [-0.41323715]\n",
      " [-0.09164059]\n",
      " [ 0.42524267]\n",
      " [ 0.54998104]\n",
      " [ 0.74223127]\n",
      " [ 1.49743481]\n",
      " [-1.4287893 ]\n",
      " [ 0.49663459]\n",
      " [-0.2205635 ]\n",
      " [ 1.44124431]\n",
      " [-0.12763698]\n",
      " [ 1.0505485 ]\n",
      " [ 0.88843743]\n",
      " [-0.57974605]\n",
      " [-2.11571562]\n",
      " [-1.18681118]\n",
      " [-0.96414228]\n",
      " [ 0.79313986]\n",
      " [ 0.8632204 ]\n",
      " [ 0.9244199 ]\n",
      " [-0.96101203]\n",
      " [ 0.71495988]\n",
      " [-0.20104715]\n",
      " [-0.5488158 ]\n",
      " [-0.34738251]\n",
      " [-0.96822851]\n",
      " [ 1.36863448]\n",
      " [-1.17118311]\n",
      " [ 1.39102445]\n",
      " [-1.95649876]\n",
      " [ 0.72986378]\n",
      " [ 1.26289645]\n",
      " [ 0.62491932]\n",
      " [-0.97880458]\n",
      " [ 0.5047095 ]\n",
      " [ 1.42467179]\n",
      " [ 0.72206158]\n",
      " [-1.41599623]\n",
      " [-0.24749114]\n",
      " [ 1.25867409]\n",
      " [-1.04390295]\n",
      " [-1.44476772]\n",
      " [-1.81092933]\n",
      " [ 1.02606603]\n",
      " [-1.02222391]\n",
      " [ 0.15608939]\n",
      " [ 0.29198206]\n",
      " [-0.84363885]\n",
      " [ 0.84819734]\n",
      " [-0.69607395]\n",
      " [ 0.41307363]\n",
      " [-0.54338773]\n",
      " [ 1.2922986 ]\n",
      " [-0.77345206]\n",
      " [ 0.27691522]\n",
      " [ 1.36075695]\n",
      " [-1.91241446]\n",
      " [ 0.8979406 ]\n",
      " [ 0.35662818]\n",
      " [ 1.12017112]\n",
      " [ 0.33216422]\n",
      " [ 1.10204921]\n",
      " [ 1.11788757]\n",
      " [ 0.81901168]\n",
      " [ 0.08532796]\n",
      " [-1.47896869]\n",
      " [ 1.02956909]\n",
      " [-1.29941471]\n",
      " [ 0.64111278]\n",
      " [ 1.30074525]\n",
      " [-0.42867047]\n",
      " [-0.99169205]\n",
      " [ 0.4946846 ]\n",
      " [ 0.93668424]\n",
      " [-0.90593221]\n",
      " [ 0.31754898]\n",
      " [-0.96851076]\n",
      " [ 0.86080397]\n",
      " [-1.35952209]\n",
      " [ 1.11588707]\n",
      " [ 1.22685237]\n",
      " [-0.38825456]\n",
      " [-0.52024061]\n",
      " [ 0.65301016]]\n"
     ]
    }
   ],
   "source": [
    "import numpy as np\n",
    "from sklearn.preprocessing import PowerTransformer\n",
    "\n",
    "# Dados de exemplo\n",
    "dados = np.random.rand(100, 1) * 100  # 100 valores aleatórios entre 0 e 100\n",
    "\n",
    "# Aplicar PowerTransformer\n",
    "pt = PowerTransformer(method='yeo-johnson')\n",
    "dados_transformados = pt.fit_transform(dados)\n",
    "\n",
    "\n",
    "print(dados_transformados)"
   ]
  },
  {
   "cell_type": "markdown",
   "id": "0a9f129c",
   "metadata": {
    "slideshow": {
     "slide_type": "fragment"
    }
   },
   "source": [
    "## Ajuste de Escala\n",
    "- Ajustar a escala dos dados é importante para garantir que todas as features contribuam de maneira equilibrada para o modelo.\n",
    "\n",
    "\n",
    "### A.7 Utilizar a normalização Min-Max do sklearn para garantir que os dados estão na mesma faixa-dinâmica\n",
    "\n",
    "A normalização Min-Max escala os dados para que estejam dentro de um intervalo especificado, geralmente [0, 1].\n",
    "\n",
    "O escalonamento de características é uma etapa fundamental no pré-processamento de dados para muitos algoritmos de aprendizado de máquina. Ele ajuda a padronizar o intervalo dos dados para que diferentes características contribuam de maneira justa para a modelagem. As duas técnicas populares são:\n",
    "\n",
    "**MinMax Scaling:**\n",
    "- Transforma os dados para que os valores fiquem em um intervalo definido, geralmente entre 0 e 1.\n",
    "- Fórmula: $$  X_{\\text{scaled}} = \\frac{X - X_{\\text{min}}}{X_{\\text{max}} - X_{\\text{min}}} $$ \n",
    "\n",
    "**Exemplo em Python:**"
   ]
  },
  {
   "cell_type": "code",
   "execution_count": 39,
   "id": "b615ada1",
   "metadata": {
    "execution": {
     "iopub.execute_input": "2024-08-05T10:42:25.945139Z",
     "iopub.status.busy": "2024-08-05T10:42:25.944134Z",
     "iopub.status.idle": "2024-08-05T10:42:25.950140Z",
     "shell.execute_reply": "2024-08-05T10:42:25.950140Z"
    },
    "slideshow": {
     "slide_type": "slide"
    }
   },
   "outputs": [
    {
     "name": "stdout",
     "output_type": "stream",
     "text": [
      "[[0.         0.        ]\n",
      " [0.33333333 0.33333333]\n",
      " [1.         1.        ]]\n"
     ]
    }
   ],
   "source": [
    "from sklearn.preprocessing import MinMaxScaler\n",
    "\n",
    "# Dados de exemplo\n",
    "dados = np.array([[1, 2], [2, 3], [4, 5]])\n",
    "\n",
    "# Aplicar MinMaxScaler\n",
    "scaler = MinMaxScaler()\n",
    "dados_normalizados = scaler.fit_transform(dados)\n",
    "\n",
    "# Exibir os dados normalizados\n",
    "print(dados_normalizados)"
   ]
  },
  {
   "cell_type": "code",
   "execution_count": null,
   "id": "0065ed85",
   "metadata": {},
   "outputs": [
    {
     "name": "stdout",
     "output_type": "stream",
     "text": [
      "[[0.05599116 0.        ]\n",
      " [0.22857394 0.95991146]\n",
      " [0.29076317 0.21308362]\n",
      " [0.20671434 0.17790536]\n",
      " [0.94042954 0.38358675]\n",
      " [0.82125908 0.81270747]\n",
      " [0.24392851 0.19757957]\n",
      " [0.44085211 0.96260283]\n",
      " [0.03377188 0.83815342]\n",
      " [0.94462655 0.4909235 ]\n",
      " [0.333338   0.91503715]\n",
      " [0.55781708 0.16366661]\n",
      " [0.8811734  0.55663276]\n",
      " [0.3462696  0.43545456]\n",
      " [0.93299112 0.40548671]\n",
      " [0.25047145 0.70223981]\n",
      " [0.73908116 0.24145604]\n",
      " [0.94166991 0.07068302]\n",
      " [0.17802376 0.6496362 ]\n",
      " [0.39843951 0.3098238 ]\n",
      " [0.36264303 0.13590434]\n",
      " [0.68122933 0.13365361]\n",
      " [0.94651606 0.72478487]\n",
      " [0.16627025 0.3214677 ]\n",
      " [0.81519855 0.17009394]\n",
      " [0.43032578 0.26347933]\n",
      " [0.48100596 0.70579624]\n",
      " [0.27439874 0.75091953]\n",
      " [0.79888163 0.54752255]\n",
      " [0.3475474  0.72839996]\n",
      " [0.17478281 0.39232213]\n",
      " [0.52535058 0.3204416 ]\n",
      " [0.66813642 0.06768802]\n",
      " [0.53444323 0.18232382]\n",
      " [0.76180315 0.9418155 ]\n",
      " [0.83386294 0.34147325]\n",
      " [0.30202481 0.18900801]\n",
      " [0.89155617 0.32605228]\n",
      " [0.65200469 0.39278531]\n",
      " [0.16778362 0.55423534]\n",
      " [0.88701946 0.27292509]\n",
      " [0.28136498 0.96412895]\n",
      " [0.15443556 1.        ]\n",
      " [0.72185081 0.75320643]\n",
      " [0.02406575 0.4043768 ]\n",
      " [0.39552489 0.14212519]\n",
      " [0.92066036 0.06527196]\n",
      " [0.6828022  0.04550659]\n",
      " [0.64985608 0.57817662]\n",
      " [0.01461836 0.73292775]\n",
      " [0.81444887 0.24981372]\n",
      " [0.36308958 0.96759781]\n",
      " [0.24741518 0.24666806]\n",
      " [0.53078897 0.06278045]\n",
      " [0.14875705 0.09487214]\n",
      " [0.93898037 0.73194526]\n",
      " [0.320402   0.72237374]\n",
      " [0.77082363 0.81829828]\n",
      " [0.8956087  0.45448168]\n",
      " [0.30283689 0.1808722 ]\n",
      " [0.07584816 0.3271381 ]\n",
      " [0.11215758 0.30994947]\n",
      " [0.29392498 0.30353651]\n",
      " [0.38795748 0.15794559]\n",
      " [0.39678676 0.52248893]\n",
      " [0.23765784 0.53741193]\n",
      " [0.16858031 0.05063468]\n",
      " [0.40860763 0.63920235]\n",
      " [0.27512171 0.8008716 ]\n",
      " [0.55475846 0.62334573]\n",
      " [0.70318298 0.32067086]\n",
      " [0.83993822 0.29369088]\n",
      " [0.99687335 0.12342846]\n",
      " [0.54664373 0.231498  ]\n",
      " [0.94818514 0.27614067]\n",
      " [0.18771768 0.09683198]\n",
      " [0.55777563 0.18253233]\n",
      " [0.20427295 0.11202947]\n",
      " [0.71689763 0.11259634]\n",
      " [0.37908768 0.07055952]\n",
      " [0.         0.02261828]\n",
      " [0.38461484 0.89837826]\n",
      " [0.74928932 0.34779958]\n",
      " [0.08764333 0.10257095]\n",
      " [0.01714046 0.00827216]\n",
      " [0.20291851 0.12978974]\n",
      " [0.28320009 0.61094701]\n",
      " [1.         0.29236873]\n",
      " [0.49832422 0.85942552]\n",
      " [0.69310529 0.06574577]\n",
      " [0.87804122 0.44129009]\n",
      " [0.65027815 0.70228734]\n",
      " [0.66146244 0.06223228]\n",
      " [0.49132496 0.99457569]\n",
      " [0.88520364 0.02261087]\n",
      " [0.92171045 0.1180877 ]\n",
      " [0.28596167 0.27733237]\n",
      " [0.78492715 0.40243132]\n",
      " [0.01601826 0.9380903 ]\n",
      " [0.65206388 0.34629862]]\n"
     ]
    }
   ],
   "source": [
    "import numpy as np\n",
    "from sklearn.preprocessing import MinMaxScaler\n",
    "\n",
    "# Dados de exemplo\n",
    "dados = np.random.rand(100, 2) * 100  # 100 valores aleatórios entre 0 e 100\n",
    "\n",
    "# Aplicar Min-Max Scaler\n",
    "scaler = MinMaxScaler()\n",
    "dados_normalizados = scaler.fit_transform(dados)\n",
    "\n",
    "print(dados_normalizados)"
   ]
  },
  {
   "cell_type": "code",
   "execution_count": null,
   "id": "a035f650",
   "metadata": {},
   "outputs": [
    {
     "name": "stdout",
     "output_type": "stream",
     "text": [
      "[[0.5        0.         1.        ]\n",
      " [1.         0.5        0.33333333]\n",
      " [0.         1.         0.        ]]\n"
     ]
    }
   ],
   "source": [
    "from sklearn import preprocessing\n",
    "import numpy as np\n",
    "\n",
    "# Dados de exemplo\n",
    "X_train = np.array([[1., -1., 2.],\n",
    "                    [2., 0., 0.],\n",
    "                    [0., 1., -1.]])\n",
    "\n",
    "# Aplicar Min-Max Scaling\n",
    "min_max_scaler = preprocessing.MinMaxScaler()\n",
    "X_train_minmax = min_max_scaler.fit_transform(X_train)\n",
    "\n",
    "print(X_train_minmax)"
   ]
  },
  {
   "cell_type": "code",
   "execution_count": 1,
   "id": "ad103997",
   "metadata": {},
   "outputs": [
    {
     "name": "stdout",
     "output_type": "stream",
     "text": [
      "[[0.20910732 0.73965727]\n",
      " [0.03206201 0.27051212]\n",
      " [0.86087612 0.59423497]\n",
      " [0.34693995 0.49871251]\n",
      " [0.89987324 0.18820996]\n",
      " [0.27040114 0.39336815]\n",
      " [0.59273054 0.40607719]\n",
      " [0.40696168 0.30141578]\n",
      " [0.76677949 0.41751495]\n",
      " [0.94584043 0.4506106 ]\n",
      " [0.37449353 0.99320806]\n",
      " [0.99048986 0.16808314]\n",
      " [0.45808735 0.35376673]\n",
      " [0.60428117 0.63443059]\n",
      " [0.54232974 0.25303889]\n",
      " [0.18492299 0.4521966 ]\n",
      " [0.56463117 0.25577595]\n",
      " [0.78307415 0.33296075]\n",
      " [1.         0.94493962]\n",
      " [0.86960155 0.63276484]\n",
      " [0.02168494 0.33852827]\n",
      " [0.55957432 0.        ]\n",
      " [0.24339807 0.53924807]\n",
      " [0.35041591 0.57381435]\n",
      " [0.20172551 0.31602608]\n",
      " [0.04118181 0.3882013 ]\n",
      " [0.68070678 0.29069064]\n",
      " [0.86874273 0.53047162]\n",
      " [0.69645098 0.17330847]\n",
      " [0.40633642 0.22259053]\n",
      " [0.47594195 0.75870544]\n",
      " [0.10175818 0.30437883]\n",
      " [0.76109304 0.93235765]\n",
      " [0.91237653 0.87092529]\n",
      " [0.37523126 0.9877602 ]\n",
      " [0.35254266 0.06510589]\n",
      " [0.08723202 0.68966654]\n",
      " [0.94810202 0.85358139]\n",
      " [0.60683217 1.        ]\n",
      " [0.79335595 0.61124385]\n",
      " [0.78719886 0.04909736]\n",
      " [0.70522063 0.33233496]\n",
      " [0.41080953 0.93987186]\n",
      " [0.16996973 0.79980953]\n",
      " [0.         0.11543621]\n",
      " [0.76017001 0.06762082]\n",
      " [0.33555566 0.36102628]\n",
      " [0.24187894 0.04461376]\n",
      " [0.94861992 0.05809041]\n",
      " [0.09231683 0.19314775]\n",
      " [0.58513086 0.09144515]\n",
      " [0.4338536  0.87708793]\n",
      " [0.34519815 0.46180712]\n",
      " [0.73003291 0.58363585]\n",
      " [0.75736469 0.90719478]\n",
      " [0.78427779 0.11907281]\n",
      " [0.06767855 0.1004214 ]\n",
      " [0.21781649 0.98730143]\n",
      " [0.53935779 0.9658464 ]\n",
      " [0.23172092 0.31091199]\n",
      " [0.54486899 0.64899682]\n",
      " [0.7078864  0.05319134]\n",
      " [0.68193633 0.00597312]\n",
      " [0.63339673 0.54093766]\n",
      " [0.36171836 0.65758599]\n",
      " [0.58299123 0.32051057]\n",
      " [0.16951754 0.74065011]\n",
      " [0.50659749 0.00253071]\n",
      " [0.54264101 0.80993128]\n",
      " [0.45625775 0.82667405]\n",
      " [0.42835298 0.92637191]\n",
      " [0.58391708 0.74573247]\n",
      " [0.04031468 0.77213734]\n",
      " [0.18710079 0.50111016]\n",
      " [0.58498098 0.23303669]\n",
      " [0.46907361 0.12612906]\n",
      " [0.23824166 0.01048246]\n",
      " [0.14229097 0.7381625 ]\n",
      " [0.25731594 0.50530044]\n",
      " [0.07152613 0.54394519]\n",
      " [0.79358412 0.94428629]\n",
      " [0.01018633 0.43742288]\n",
      " [0.18943151 0.96755744]\n",
      " [0.64077097 0.65919451]\n",
      " [0.04968323 0.121206  ]\n",
      " [0.46519675 0.08414248]\n",
      " [0.1011186  0.55084443]\n",
      " [0.56222094 0.82120088]\n",
      " [0.6206748  0.20336379]\n",
      " [0.59296593 0.03701928]\n",
      " [0.75677662 0.41462052]\n",
      " [0.19627945 0.59490799]\n",
      " [0.39016448 0.29113699]\n",
      " [0.79053147 0.65193568]\n",
      " [0.61867271 0.95761478]\n",
      " [0.79209079 0.36570881]\n",
      " [0.24855911 0.53245984]\n",
      " [0.89281341 0.46549135]\n",
      " [0.7475012  0.57232594]\n",
      " [0.21340045 0.01064583]]\n"
     ]
    }
   ],
   "source": [
    "import numpy as np\n",
    "from sklearn.preprocessing import MinMaxScaler\n",
    "\n",
    "# Dados de exemplo\n",
    "dados = np.random.rand(100, 2) * 100  # 100 valores aleatórios entre 0 e 100\n",
    "\n",
    "# Aplicar Min-Max Scaler\n",
    "scaler = MinMaxScaler()\n",
    "dados_normalizados = scaler.fit_transform(dados)\n",
    "\n",
    "print(dados_normalizados)"
   ]
  },
  {
   "cell_type": "markdown",
   "id": "415816ff",
   "metadata": {
    "slideshow": {
     "slide_type": "fragment"
    }
   },
   "source": [
    "### A.8 Utilizar a normalização Standard Scaler\n",
    "\n",
    "A normalização `StandardScaler` padroniza os dados removendo a média e escala os dados para que tenham média igual a 0 e desvio padrão 1.\n",
    "\n",
    "**Standard (Z) Scaling:**\n",
    "\n",
    "- Fórmula: $$  X_{\\text{scaled}} = \\frac{X - \\text{mean}(X)}{\\text{std}(X)} $$ \n",
    "- Usado quando a distribuição dos dados é normal ou próxima da normal.\n",
    "\n",
    "**Exemplo em Python:**"
   ]
  },
  {
   "cell_type": "code",
   "execution_count": 40,
   "id": "22a89a4d",
   "metadata": {
    "execution": {
     "iopub.execute_input": "2024-08-05T10:42:25.954135Z",
     "iopub.status.busy": "2024-08-05T10:42:25.954135Z",
     "iopub.status.idle": "2024-08-05T10:42:25.959898Z",
     "shell.execute_reply": "2024-08-05T10:42:25.959898Z"
    },
    "slideshow": {
     "slide_type": "slide"
    }
   },
   "outputs": [
    {
     "name": "stdout",
     "output_type": "stream",
     "text": [
      "[[-1.06904497 -1.06904497]\n",
      " [-0.26726124 -0.26726124]\n",
      " [ 1.33630621  1.33630621]]\n"
     ]
    }
   ],
   "source": [
    "from sklearn.preprocessing import StandardScaler\n",
    "\n",
    "# Dados de exemplo\n",
    "dados = np.array([[1, 2], [2, 3], [4, 5]])\n",
    "\n",
    "# Aplicar StandardScaler\n",
    "scaler = StandardScaler()\n",
    "dados_normalizados = scaler.fit_transform(dados)\n",
    "\n",
    "# Exibir os dados normalizados\n",
    "print(dados_normalizados)"
   ]
  },
  {
   "cell_type": "code",
   "execution_count": null,
   "id": "deccb4ca",
   "metadata": {},
   "outputs": [
    {
     "name": "stdout",
     "output_type": "stream",
     "text": [
      "[[ 0.         -1.22474487  1.33630621]\n",
      " [ 1.22474487  0.         -0.26726124]\n",
      " [-1.22474487  1.22474487 -1.06904497]]\n"
     ]
    }
   ],
   "source": [
    "from sklearn import preprocessing\n",
    "import numpy as np\n",
    "\n",
    "# Dados de exemplo\n",
    "X = np.array([[1., -1., 2.],\n",
    "              [2., 0., 0.],\n",
    "              [0., 1., -1.]])\n",
    "\n",
    "# Aplicar a padronização\n",
    "X_scaled = preprocessing.scale(X)\n",
    "\n",
    "print(X_scaled)"
   ]
  },
  {
   "cell_type": "markdown",
   "id": "3dbfed15",
   "metadata": {
    "slideshow": {
     "slide_type": "fragment"
    }
   },
   "source": [
    "### A.9 Utilizar a regularização norma-l2\n",
    "\n",
    "A regularização L2 adiciona uma penalidade igual ao quadrado da magnitude dos coeficientes do modelo linear para evitar overfitting. Em termos de manipulação de dados, isso não afeta diretamente a transformação dos dados, mas sim o processo de ajuste do modelo."
   ]
  },
  {
   "cell_type": "markdown",
   "id": "4be0a85a",
   "metadata": {},
   "source": [
    "![alt text](0_Rw_bC-1ByKfHvELn.webp)"
   ]
  },
  {
   "cell_type": "markdown",
   "id": "52d7d149",
   "metadata": {},
   "source": [
    "$$ l1, Lasso: soma dos quadrados dos resíduos + penalidade * | inclinação | $$"
   ]
  },
  {
   "cell_type": "markdown",
   "id": "4305e9fe",
   "metadata": {},
   "source": [
    "![alt text](0_Zy-M3ejNdZxpeIv6.webp)"
   ]
  },
  {
   "cell_type": "markdown",
   "id": "06adc471",
   "metadata": {},
   "source": [
    "$$ l2, Ridge: soma dos quadrados dos resíduos + penalidade * (inclinação)² $$"
   ]
  },
  {
   "cell_type": "markdown",
   "id": "3be67914",
   "metadata": {},
   "source": [
    "![alt text](0_Sxd9ERNyv-yrKGvd.webp)"
   ]
  },
  {
   "cell_type": "markdown",
   "id": "4ffc7254",
   "metadata": {},
   "source": [
    "![alt text](0_Wlq4yf-bvJWSy7Oo.webp)"
   ]
  },
  {
   "cell_type": "markdown",
   "id": "b401ce10",
   "metadata": {},
   "source": [
    "\n",
    "**Exemplo usando `Ridge` do sklearn:**"
   ]
  },
  {
   "cell_type": "code",
   "execution_count": 41,
   "id": "693cd43a",
   "metadata": {
    "execution": {
     "iopub.execute_input": "2024-08-05T10:42:25.963900Z",
     "iopub.status.busy": "2024-08-05T10:42:25.963900Z",
     "iopub.status.idle": "2024-08-05T10:42:26.337139Z",
     "shell.execute_reply": "2024-08-05T10:42:26.337139Z"
    },
    "slideshow": {
     "slide_type": "slide"
    }
   },
   "outputs": [
    {
     "name": "stdout",
     "output_type": "stream",
     "text": [
      "[0.8 1.4]\n"
     ]
    }
   ],
   "source": [
    "from sklearn.linear_model import Ridge\n",
    "\n",
    "# Dados de exemplo (X: features, y: target)\n",
    "X = np.array([[1, 1], [1, 2], [2, 2], [2, 3]])\n",
    "y = np.dot(X, np.array([1, 2])) + 3\n",
    "\n",
    "# Aplicar Ridge Regression com regularização L2\n",
    "model = Ridge(alpha=1.0)\n",
    "model.fit(X, y)\n",
    "\n",
    "# Coeficientes do modelo\n",
    "print(model.coef_)"
   ]
  },
  {
   "cell_type": "code",
   "execution_count": null,
   "id": "06236d74",
   "metadata": {},
   "outputs": [
    {
     "name": "stdout",
     "output_type": "stream",
     "text": [
      "[-0.07038194  0.17457162]\n"
     ]
    }
   ],
   "source": [
    "import numpy as np\n",
    "from sklearn.linear_model import Ridge\n",
    "\n",
    "# Dados de exemplo\n",
    "X = np.random.rand(100, 2)  # 100 exemplos, 2 features\n",
    "y = np.random.rand(100)  # 100 valores alvo\n",
    "\n",
    "# Aplicar Ridge Regression com regularização L2\n",
    "modelo = Ridge(alpha=1.0)\n",
    "modelo.fit(X, y)\n",
    "\n",
    "print(modelo.coef_)"
   ]
  },
  {
   "cell_type": "markdown",
   "id": "13334248",
   "metadata": {},
   "source": [
    "## A.10. Selecionar as features úteis para o modelo usando uma das três técnicas: Filtragem, Wrapper e Embedding\n",
    "\n",
    "A seleção de características é um passo crítico no pré-processamento de dados para aprendizado de máquina. Reduz a complexidade do modelo, diminui o tempo de treinamento e pode melhorar o desempenho do modelo ao eliminar características irrelevantes ou redundantes. Existem três abordagens principais para a seleção de características: Filtragem, Métodos Wrapper e Métodos Embutidos.\n",
    "\n",
    "\n",
    "- **Filtragem:** Seleciona as features com base em estatísticas univariadas, como a correlação.\n",
    "- **Wrapper:** Usa um modelo de machine learning para avaliar a importância de cada subset de features.\n",
    "- **Embedding:** As features são selecionadas durante o treinamento do modelo, como nos modelos baseados em árvores.\n",
    "\n"
   ]
  },
  {
   "cell_type": "markdown",
   "id": "077997da",
   "metadata": {},
   "source": [
    "\n",
    "#### A.10.1 Filtragem\n",
    "A abordagem de filtragem envolve a avaliação de cada característica individualmente em relação à variável de resposta e a seleção das características mais relevantes. Métodos comuns incluem:\n",
    "- **Correlação:** Mede a relação linear entre a característica e a variável de resposta. Características com alta correlação positiva ou negativa podem ser selecionadas.\n",
    "- **Informação Mútua:** Mede a dependência mútua entre a característica e a variável de resposta. Características com alta informação mútua são preferidas"
   ]
  },
  {
   "cell_type": "markdown",
   "id": "ee0934b2",
   "metadata": {
    "slideshow": {
     "slide_type": "fragment"
    }
   },
   "source": [
    "1. **Filtragem**: Seleção de features baseada em métodos estatísticos. \n",
    "   \n",
    "- Exemplo com `SelectKBest`:\n"
   ]
  },
  {
   "cell_type": "code",
   "execution_count": 42,
   "id": "bc51fa32",
   "metadata": {
    "execution": {
     "iopub.execute_input": "2024-08-05T10:42:26.341086Z",
     "iopub.status.busy": "2024-08-05T10:42:26.340086Z",
     "iopub.status.idle": "2024-08-05T10:42:26.368026Z",
     "shell.execute_reply": "2024-08-05T10:42:26.368026Z"
    },
    "slideshow": {
     "slide_type": "slide"
    }
   },
   "outputs": [
    {
     "name": "stdout",
     "output_type": "stream",
     "text": [
      "(100, 5)\n"
     ]
    }
   ],
   "source": [
    "from sklearn.feature_selection import SelectKBest, f_classif\n",
    "\n",
    "# Dados de exemplo (X: features, y: target)\n",
    "X = np.random.randn(100, 10)\n",
    "y = np.random.randint(0, 2, 100)\n",
    "\n",
    "# Selecionar as 5 melhores features\n",
    "selector = SelectKBest(score_func=f_classif, k=5)\n",
    "X_new = selector.fit_transform(X, y)\n",
    "\n",
    "# Features selecionadas\n",
    "print(X_new.shape)"
   ]
  },
  {
   "cell_type": "code",
   "execution_count": null,
   "id": "39afecba",
   "metadata": {},
   "outputs": [
    {
     "name": "stdout",
     "output_type": "stream",
     "text": [
      "[[1.4 0.2]\n",
      " [1.4 0.2]\n",
      " [1.3 0.2]\n",
      " [1.5 0.2]\n",
      " [1.4 0.2]\n",
      " [1.7 0.4]\n",
      " [1.4 0.3]\n",
      " [1.5 0.2]\n",
      " [1.4 0.2]\n",
      " [1.5 0.1]\n",
      " [1.5 0.2]\n",
      " [1.6 0.2]\n",
      " [1.4 0.1]\n",
      " [1.1 0.1]\n",
      " [1.2 0.2]\n",
      " [1.5 0.4]\n",
      " [1.3 0.4]\n",
      " [1.4 0.3]\n",
      " [1.7 0.3]\n",
      " [1.5 0.3]\n",
      " [1.7 0.2]\n",
      " [1.5 0.4]\n",
      " [1.  0.2]\n",
      " [1.7 0.5]\n",
      " [1.9 0.2]\n",
      " [1.6 0.2]\n",
      " [1.6 0.4]\n",
      " [1.5 0.2]\n",
      " [1.4 0.2]\n",
      " [1.6 0.2]\n",
      " [1.6 0.2]\n",
      " [1.5 0.4]\n",
      " [1.5 0.1]\n",
      " [1.4 0.2]\n",
      " [1.5 0.2]\n",
      " [1.2 0.2]\n",
      " [1.3 0.2]\n",
      " [1.4 0.1]\n",
      " [1.3 0.2]\n",
      " [1.5 0.2]\n",
      " [1.3 0.3]\n",
      " [1.3 0.3]\n",
      " [1.3 0.2]\n",
      " [1.6 0.6]\n",
      " [1.9 0.4]\n",
      " [1.4 0.3]\n",
      " [1.6 0.2]\n",
      " [1.4 0.2]\n",
      " [1.5 0.2]\n",
      " [1.4 0.2]\n",
      " [4.7 1.4]\n",
      " [4.5 1.5]\n",
      " [4.9 1.5]\n",
      " [4.  1.3]\n",
      " [4.6 1.5]\n",
      " [4.5 1.3]\n",
      " [4.7 1.6]\n",
      " [3.3 1. ]\n",
      " [4.6 1.3]\n",
      " [3.9 1.4]\n",
      " [3.5 1. ]\n",
      " [4.2 1.5]\n",
      " [4.  1. ]\n",
      " [4.7 1.4]\n",
      " [3.6 1.3]\n",
      " [4.4 1.4]\n",
      " [4.5 1.5]\n",
      " [4.1 1. ]\n",
      " [4.5 1.5]\n",
      " [3.9 1.1]\n",
      " [4.8 1.8]\n",
      " [4.  1.3]\n",
      " [4.9 1.5]\n",
      " [4.7 1.2]\n",
      " [4.3 1.3]\n",
      " [4.4 1.4]\n",
      " [4.8 1.4]\n",
      " [5.  1.7]\n",
      " [4.5 1.5]\n",
      " [3.5 1. ]\n",
      " [3.8 1.1]\n",
      " [3.7 1. ]\n",
      " [3.9 1.2]\n",
      " [5.1 1.6]\n",
      " [4.5 1.5]\n",
      " [4.5 1.6]\n",
      " [4.7 1.5]\n",
      " [4.4 1.3]\n",
      " [4.1 1.3]\n",
      " [4.  1.3]\n",
      " [4.4 1.2]\n",
      " [4.6 1.4]\n",
      " [4.  1.2]\n",
      " [3.3 1. ]\n",
      " [4.2 1.3]\n",
      " [4.2 1.2]\n",
      " [4.2 1.3]\n",
      " [4.3 1.3]\n",
      " [3.  1.1]\n",
      " [4.1 1.3]\n",
      " [6.  2.5]\n",
      " [5.1 1.9]\n",
      " [5.9 2.1]\n",
      " [5.6 1.8]\n",
      " [5.8 2.2]\n",
      " [6.6 2.1]\n",
      " [4.5 1.7]\n",
      " [6.3 1.8]\n",
      " [5.8 1.8]\n",
      " [6.1 2.5]\n",
      " [5.1 2. ]\n",
      " [5.3 1.9]\n",
      " [5.5 2.1]\n",
      " [5.  2. ]\n",
      " [5.1 2.4]\n",
      " [5.3 2.3]\n",
      " [5.5 1.8]\n",
      " [6.7 2.2]\n",
      " [6.9 2.3]\n",
      " [5.  1.5]\n",
      " [5.7 2.3]\n",
      " [4.9 2. ]\n",
      " [6.7 2. ]\n",
      " [4.9 1.8]\n",
      " [5.7 2.1]\n",
      " [6.  1.8]\n",
      " [4.8 1.8]\n",
      " [4.9 1.8]\n",
      " [5.6 2.1]\n",
      " [5.8 1.6]\n",
      " [6.1 1.9]\n",
      " [6.4 2. ]\n",
      " [5.6 2.2]\n",
      " [5.1 1.5]\n",
      " [5.6 1.4]\n",
      " [6.1 2.3]\n",
      " [5.6 2.4]\n",
      " [5.5 1.8]\n",
      " [4.8 1.8]\n",
      " [5.4 2.1]\n",
      " [5.6 2.4]\n",
      " [5.1 2.3]\n",
      " [5.1 1.9]\n",
      " [5.9 2.3]\n",
      " [5.7 2.5]\n",
      " [5.2 2.3]\n",
      " [5.  1.9]\n",
      " [5.2 2. ]\n",
      " [5.4 2.3]\n",
      " [5.1 1.8]]\n"
     ]
    }
   ],
   "source": [
    "from sklearn.datasets import load_iris\n",
    "from sklearn.feature_selection import SelectKBest, f_classif\n",
    "\n",
    "# Carregar dados de exemplo\n",
    "iris = load_iris()\n",
    "X, y = iris.data, iris.target\n",
    "\n",
    "# Selecionar as 2 melhores features\n",
    "selector = SelectKBest(score_func=f_classif, k=2)\n",
    "X_novas = selector.fit_transform(X, y)\n",
    "\n",
    "print(X_novas)"
   ]
  },
  {
   "cell_type": "markdown",
   "id": "c2b3fe81",
   "metadata": {},
   "source": [
    "\n",
    "Exemplo de uso de correlação em Python:"
   ]
  },
  {
   "cell_type": "code",
   "execution_count": null,
   "id": "58881812",
   "metadata": {},
   "outputs": [
    {
     "name": "stdout",
     "output_type": "stream",
     "text": [
      "feature1    1.0\n",
      "target      1.0\n",
      "feature2   -1.0\n",
      "Name: target, dtype: float64\n"
     ]
    }
   ],
   "source": [
    "import pandas as pd\n",
    "\n",
    "# Dados de exemplo\n",
    "df = pd.DataFrame({\n",
    "    'feature1': [1, 2, 3, 4, 5],\n",
    "    'feature2': [5, 4, 3, 2, 1],\n",
    "    'target': [1, 2, 3, 4, 5]\n",
    "})\n",
    "\n",
    "# Calcular a correlação entre características e a variável de resposta\n",
    "correlation_matrix = df.corr()\n",
    "print(correlation_matrix['target'].sort_values(ascending=False))"
   ]
  },
  {
   "cell_type": "markdown",
   "id": "acd6ede3",
   "metadata": {},
   "source": [
    "#### A.10.2 Métodos Wrapper\n",
    "\n",
    "Os métodos wrapper avaliam várias combinações de características e selecionam a combinação que resulta no melhor desempenho do modelo. São computacionalmente caros, mas podem ser muito eficazes. Um exemplo comum é a Regressão Stepwise."
   ]
  },
  {
   "cell_type": "markdown",
   "id": "12f5d79c",
   "metadata": {
    "slideshow": {
     "slide_type": "fragment"
    }
   },
   "source": [
    "2. **Wrapper**: Seleção de features usando um modelo preditivo. Exemplo com `RFE`:"
   ]
  },
  {
   "cell_type": "code",
   "execution_count": 43,
   "id": "4e2666e5",
   "metadata": {
    "execution": {
     "iopub.execute_input": "2024-08-05T10:42:26.373025Z",
     "iopub.status.busy": "2024-08-05T10:42:26.373025Z",
     "iopub.status.idle": "2024-08-05T10:42:26.376752Z",
     "shell.execute_reply": "2024-08-05T10:42:26.376752Z"
    },
    "slideshow": {
     "slide_type": "slide"
    }
   },
   "outputs": [
    {
     "name": "stdout",
     "output_type": "stream",
     "text": [
      "(100, 5)\n"
     ]
    }
   ],
   "source": [
    "from sklearn.feature_selection import RFE\n",
    "from sklearn.linear_model import LogisticRegression\n",
    "\n",
    "# Dados de exemplo (X: features, y: target)\n",
    "X = np.random.randn(100, 10)\n",
    "y = np.random.randint(0, 2, 100)\n",
    "\n",
    "# Aplicar RFE com Logistic Regression\n",
    "model = LogisticRegression()\n",
    "rfe = RFE(model, n_features_to_select=5)\n",
    "X_new = rfe.fit_transform(X, y)\n",
    "\n",
    "# Features selecionadas\n",
    "print(X_new.shape)"
   ]
  },
  {
   "cell_type": "markdown",
   "id": "31fcf945",
   "metadata": {},
   "source": [
    "Exemplo de uso de um método wrapper em Python (Sequential Feature Selector):"
   ]
  },
  {
   "cell_type": "code",
   "execution_count": null,
   "id": "d1c3e421",
   "metadata": {},
   "outputs": [
    {
     "name": "stdout",
     "output_type": "stream",
     "text": [
      "[ True False]\n"
     ]
    },
    {
     "name": "stderr",
     "output_type": "stream",
     "text": [
      "c:\\Users\\dacio\\OneDrive\\INFNET\\machineLearning\\.venv\\Lib\\site-packages\\sklearn\\metrics\\_regression.py:1211: UndefinedMetricWarning: R^2 score is not well-defined with less than two samples.\n",
      "  warnings.warn(msg, UndefinedMetricWarning)\n",
      "c:\\Users\\dacio\\OneDrive\\INFNET\\machineLearning\\.venv\\Lib\\site-packages\\sklearn\\metrics\\_regression.py:1211: UndefinedMetricWarning: R^2 score is not well-defined with less than two samples.\n",
      "  warnings.warn(msg, UndefinedMetricWarning)\n",
      "c:\\Users\\dacio\\OneDrive\\INFNET\\machineLearning\\.venv\\Lib\\site-packages\\sklearn\\metrics\\_regression.py:1211: UndefinedMetricWarning: R^2 score is not well-defined with less than two samples.\n",
      "  warnings.warn(msg, UndefinedMetricWarning)\n",
      "c:\\Users\\dacio\\OneDrive\\INFNET\\machineLearning\\.venv\\Lib\\site-packages\\sklearn\\metrics\\_regression.py:1211: UndefinedMetricWarning: R^2 score is not well-defined with less than two samples.\n",
      "  warnings.warn(msg, UndefinedMetricWarning)\n",
      "c:\\Users\\dacio\\OneDrive\\INFNET\\machineLearning\\.venv\\Lib\\site-packages\\sklearn\\metrics\\_regression.py:1211: UndefinedMetricWarning: R^2 score is not well-defined with less than two samples.\n",
      "  warnings.warn(msg, UndefinedMetricWarning)\n",
      "c:\\Users\\dacio\\OneDrive\\INFNET\\machineLearning\\.venv\\Lib\\site-packages\\sklearn\\metrics\\_regression.py:1211: UndefinedMetricWarning: R^2 score is not well-defined with less than two samples.\n",
      "  warnings.warn(msg, UndefinedMetricWarning)\n",
      "c:\\Users\\dacio\\OneDrive\\INFNET\\machineLearning\\.venv\\Lib\\site-packages\\sklearn\\metrics\\_regression.py:1211: UndefinedMetricWarning: R^2 score is not well-defined with less than two samples.\n",
      "  warnings.warn(msg, UndefinedMetricWarning)\n",
      "c:\\Users\\dacio\\OneDrive\\INFNET\\machineLearning\\.venv\\Lib\\site-packages\\sklearn\\metrics\\_regression.py:1211: UndefinedMetricWarning: R^2 score is not well-defined with less than two samples.\n",
      "  warnings.warn(msg, UndefinedMetricWarning)\n",
      "c:\\Users\\dacio\\OneDrive\\INFNET\\machineLearning\\.venv\\Lib\\site-packages\\sklearn\\metrics\\_regression.py:1211: UndefinedMetricWarning: R^2 score is not well-defined with less than two samples.\n",
      "  warnings.warn(msg, UndefinedMetricWarning)\n",
      "c:\\Users\\dacio\\OneDrive\\INFNET\\machineLearning\\.venv\\Lib\\site-packages\\sklearn\\metrics\\_regression.py:1211: UndefinedMetricWarning: R^2 score is not well-defined with less than two samples.\n",
      "  warnings.warn(msg, UndefinedMetricWarning)\n"
     ]
    }
   ],
   "source": [
    "from sklearn.feature_selection import SequentialFeatureSelector\n",
    "from sklearn.linear_model import LinearRegression\n",
    "\n",
    "# Dados de exemplo\n",
    "X = df[['feature1', 'feature2']]\n",
    "y = df['target']\n",
    "\n",
    "# Modelo base\n",
    "model = LinearRegression()\n",
    "\n",
    "# Sequential Feature Selector\n",
    "sfs = SequentialFeatureSelector(model, n_features_to_select=1, direction='forward')\n",
    "sfs.fit(X, y)\n",
    "\n",
    "print(sfs.get_support())  # Características selecionadas"
   ]
  },
  {
   "cell_type": "markdown",
   "id": "eaf26dc8",
   "metadata": {},
   "source": [
    "#### A.10.3 Métodos Embutidos\n",
    "\n",
    "Os métodos embutidos realizam a seleção de características durante o processo de treinamento do modelo. Exemplos incluem Árvores de Decisão e Florestas Aleatórias, que calculam a importância das características durante o ajuste do modelo.\n"
   ]
  },
  {
   "cell_type": "markdown",
   "id": "7872da8f",
   "metadata": {
    "slideshow": {
     "slide_type": "fragment"
    }
   },
   "source": [
    "3. **Embedding**: Seleção de features integrada ao processo de treinamento. Exemplo com `Lasso`:"
   ]
  },
  {
   "cell_type": "code",
   "execution_count": 44,
   "id": "fa2ff81a",
   "metadata": {
    "execution": {
     "iopub.execute_input": "2024-08-05T10:42:26.381751Z",
     "iopub.status.busy": "2024-08-05T10:42:26.381751Z",
     "iopub.status.idle": "2024-08-05T10:42:26.386384Z",
     "shell.execute_reply": "2024-08-05T10:42:26.386384Z"
    },
    "slideshow": {
     "slide_type": "slide"
    }
   },
   "outputs": [
    {
     "name": "stdout",
     "output_type": "stream",
     "text": [
      "[ 0.          0.03439734  0.          0.          0.          0.08056253\n",
      "  0.          0.          0.13757697 -0.        ]\n"
     ]
    }
   ],
   "source": [
    "from sklearn.linear_model import Lasso\n",
    "\n",
    "# Dados de exemplo (X: features, y: target)\n",
    "X = np.random.randn(100, 10)\n",
    "y = np.random.randn(100)\n",
    "\n",
    "# Aplicar Lasso para seleção de features\n",
    "model = Lasso(alpha=0.1)\n",
    "model.fit(X, y)\n",
    "\n",
    "# Coeficientes do modelo\n",
    "print(model.coef_)"
   ]
  },
  {
   "cell_type": "markdown",
   "id": "7cfce186",
   "metadata": {},
   "source": [
    "Exemplo de uso de uma Árvore de Decisão em Python:"
   ]
  },
  {
   "cell_type": "code",
   "execution_count": null,
   "id": "47a94681",
   "metadata": {},
   "outputs": [
    {
     "name": "stdout",
     "output_type": "stream",
     "text": [
      "[0.95 0.05]\n"
     ]
    }
   ],
   "source": [
    "from sklearn.tree import DecisionTreeRegressor\n",
    "\n",
    "# Modelo de Árvore de Decisão\n",
    "model = DecisionTreeRegressor()\n",
    "\n",
    "# Ajuste do modelo\n",
    "model.fit(X, y)\n",
    "\n",
    "# Importâncias das características\n",
    "importances = model.feature_importances_\n",
    "print(importances)"
   ]
  },
  {
   "cell_type": "markdown",
   "id": "1fdd1b67",
   "metadata": {},
   "source": [
    "Exemplo de uso de Floresta Aleatória em Python:"
   ]
  },
  {
   "cell_type": "code",
   "execution_count": null,
   "id": "b7264894",
   "metadata": {},
   "outputs": [
    {
     "name": "stdout",
     "output_type": "stream",
     "text": [
      "[0.08491853 0.10112385 0.08774692 0.09716454 0.08359146 0.12087978\n",
      " 0.08468217 0.12909016 0.13607203 0.07473056]\n"
     ]
    }
   ],
   "source": [
    "from sklearn.ensemble import RandomForestClassifier\n",
    "import numpy as np\n",
    "\n",
    "X = np.random.rand(100, 10)\n",
    "y = np.random.randint(0, 2, 100)\n",
    "model = RandomForestClassifier()\n",
    "model.fit(X, y)\n",
    "importances = model.feature_importances_\n",
    "\n",
    "print(importances)"
   ]
  },
  {
   "cell_type": "markdown",
   "id": "67adf8f0",
   "metadata": {},
   "source": [
    "## A.11. Advanced Feature Selection (Seleção de Características Avançadas)\n",
    "\n",
    "#### A.11.1. Filtragem\n",
    "A abordagem de filtragem envolve a avaliação de cada característica individualmente em relação à variável de resposta e a seleção das características mais relevantes. Métodos comuns incluem:\n",
    "- **Correlação:** Mede a relação linear entre a característica e a variável de resposta. Características com alta correlação positiva ou negativa podem ser selecionadas.\n",
    "- **Informação Mútua:** Mede a dependência mútua entre a característica e a variável de resposta. Características com alta informação mútua são preferidas.\n",
    "\n",
    "Exemplo de uso de correlação em Python:"
   ]
  },
  {
   "cell_type": "code",
   "execution_count": null,
   "id": "bcf8a8cb",
   "metadata": {},
   "outputs": [
    {
     "name": "stdout",
     "output_type": "stream",
     "text": [
      "feature1    1.0\n",
      "target      1.0\n",
      "feature2   -1.0\n",
      "Name: target, dtype: float64\n"
     ]
    }
   ],
   "source": [
    "import pandas as pd\n",
    "\n",
    "# Dados de exemplo\n",
    "df = pd.DataFrame({\n",
    "    'feature1': [1, 2, 3, 4, 5],\n",
    "    'feature2': [5, 4, 3, 2, 1],\n",
    "    'target': [1, 2, 3, 4, 5]\n",
    "})\n",
    "\n",
    "# Calcular a correlação entre características e a variável de resposta\n",
    "correlation_matrix = df.corr()\n",
    "print(correlation_matrix['target'].sort_values(ascending=False))"
   ]
  },
  {
   "cell_type": "markdown",
   "id": "a1f66a23",
   "metadata": {},
   "source": [
    "#### A.11.2 Métodos Wrapper\n",
    "Os métodos wrapper avaliam várias combinações de características e selecionam a combinação que resulta no melhor desempenho do modelo. São computacionalmente caros, mas podem ser muito eficazes. Um exemplo comum é a Regressão Stepwise.\n",
    "\n",
    "Exemplo de uso de um método wrapper em Python (Sequential Feature Selector):"
   ]
  },
  {
   "cell_type": "code",
   "execution_count": null,
   "id": "5cf81af9",
   "metadata": {},
   "outputs": [
    {
     "name": "stdout",
     "output_type": "stream",
     "text": [
      "[ True False]\n"
     ]
    },
    {
     "name": "stderr",
     "output_type": "stream",
     "text": [
      "c:\\Users\\dacio\\OneDrive\\INFNET\\machineLearning\\.venv\\Lib\\site-packages\\sklearn\\metrics\\_regression.py:1211: UndefinedMetricWarning: R^2 score is not well-defined with less than two samples.\n",
      "  warnings.warn(msg, UndefinedMetricWarning)\n",
      "c:\\Users\\dacio\\OneDrive\\INFNET\\machineLearning\\.venv\\Lib\\site-packages\\sklearn\\metrics\\_regression.py:1211: UndefinedMetricWarning: R^2 score is not well-defined with less than two samples.\n",
      "  warnings.warn(msg, UndefinedMetricWarning)\n",
      "c:\\Users\\dacio\\OneDrive\\INFNET\\machineLearning\\.venv\\Lib\\site-packages\\sklearn\\metrics\\_regression.py:1211: UndefinedMetricWarning: R^2 score is not well-defined with less than two samples.\n",
      "  warnings.warn(msg, UndefinedMetricWarning)\n",
      "c:\\Users\\dacio\\OneDrive\\INFNET\\machineLearning\\.venv\\Lib\\site-packages\\sklearn\\metrics\\_regression.py:1211: UndefinedMetricWarning: R^2 score is not well-defined with less than two samples.\n",
      "  warnings.warn(msg, UndefinedMetricWarning)\n",
      "c:\\Users\\dacio\\OneDrive\\INFNET\\machineLearning\\.venv\\Lib\\site-packages\\sklearn\\metrics\\_regression.py:1211: UndefinedMetricWarning: R^2 score is not well-defined with less than two samples.\n",
      "  warnings.warn(msg, UndefinedMetricWarning)\n",
      "c:\\Users\\dacio\\OneDrive\\INFNET\\machineLearning\\.venv\\Lib\\site-packages\\sklearn\\metrics\\_regression.py:1211: UndefinedMetricWarning: R^2 score is not well-defined with less than two samples.\n",
      "  warnings.warn(msg, UndefinedMetricWarning)\n",
      "c:\\Users\\dacio\\OneDrive\\INFNET\\machineLearning\\.venv\\Lib\\site-packages\\sklearn\\metrics\\_regression.py:1211: UndefinedMetricWarning: R^2 score is not well-defined with less than two samples.\n",
      "  warnings.warn(msg, UndefinedMetricWarning)\n",
      "c:\\Users\\dacio\\OneDrive\\INFNET\\machineLearning\\.venv\\Lib\\site-packages\\sklearn\\metrics\\_regression.py:1211: UndefinedMetricWarning: R^2 score is not well-defined with less than two samples.\n",
      "  warnings.warn(msg, UndefinedMetricWarning)\n",
      "c:\\Users\\dacio\\OneDrive\\INFNET\\machineLearning\\.venv\\Lib\\site-packages\\sklearn\\metrics\\_regression.py:1211: UndefinedMetricWarning: R^2 score is not well-defined with less than two samples.\n",
      "  warnings.warn(msg, UndefinedMetricWarning)\n",
      "c:\\Users\\dacio\\OneDrive\\INFNET\\machineLearning\\.venv\\Lib\\site-packages\\sklearn\\metrics\\_regression.py:1211: UndefinedMetricWarning: R^2 score is not well-defined with less than two samples.\n",
      "  warnings.warn(msg, UndefinedMetricWarning)\n"
     ]
    }
   ],
   "source": [
    "from sklearn.feature_selection import SequentialFeatureSelector\n",
    "from sklearn.linear_model import LinearRegression\n",
    "\n",
    "# Dados de exemplo\n",
    "X = df[['feature1', 'feature2']]\n",
    "y = df['target']\n",
    "\n",
    "# Modelo base\n",
    "model = LinearRegression()\n",
    "\n",
    "# Sequential Feature Selector\n",
    "sfs = SequentialFeatureSelector(model, n_features_to_select=1, direction='forward')\n",
    "sfs.fit(X, y)\n",
    "\n",
    "print(sfs.get_support())  # Características selecionadas"
   ]
  },
  {
   "cell_type": "markdown",
   "id": "a9ecfbc2",
   "metadata": {},
   "source": [
    "#### A.11.3. Métodos Embutidos\n",
    "Os métodos embutidos realizam a seleção de características durante o processo de treinamento do modelo. Exemplos incluem Árvores de Decisão e Florestas Aleatórias, que calculam a importância das características durante o ajuste do modelo.\n",
    "\n",
    "Exemplo de uso de uma Árvore de Decisão em Python:"
   ]
  },
  {
   "cell_type": "code",
   "execution_count": null,
   "id": "a0c504e8",
   "metadata": {},
   "outputs": [
    {
     "name": "stdout",
     "output_type": "stream",
     "text": [
      "[0.95 0.05]\n"
     ]
    }
   ],
   "source": [
    "from sklearn.tree import DecisionTreeRegressor\n",
    "\n",
    "# Modelo de Árvore de Decisão\n",
    "model = DecisionTreeRegressor()\n",
    "\n",
    "# Ajuste do modelo\n",
    "model.fit(X, y)\n",
    "\n",
    "# Importâncias das características\n",
    "importances = model.feature_importances_\n",
    "print(importances)"
   ]
  },
  {
   "cell_type": "markdown",
   "id": "639a2e99",
   "metadata": {},
   "source": [
    "##### 5.2.1. Seleção Univariada com SelectKBest"
   ]
  },
  {
   "cell_type": "code",
   "execution_count": null,
   "id": "5565932f",
   "metadata": {},
   "outputs": [
    {
     "name": "stdout",
     "output_type": "stream",
     "text": [
      "Features Selecionadas:\n",
      " [[1.4 0.2]\n",
      " [1.4 0.2]\n",
      " [1.3 0.2]\n",
      " [1.5 0.2]\n",
      " [1.4 0.2]]\n"
     ]
    }
   ],
   "source": [
    "from sklearn.datasets import load_iris\n",
    "from sklearn.feature_selection import SelectKBest, f_classif\n",
    "\n",
    "# Carregar o dataset Iris\n",
    "iris = load_iris()\n",
    "X, y = iris.data, iris.target\n",
    "\n",
    "# Selecionar as 2 melhores features\n",
    "selector = SelectKBest(score_func=f_classif, k=2)\n",
    "X_new = selector.fit_transform(X, y)\n",
    "\n",
    "print(\"Features Selecionadas:\\n\", X_new[:5])"
   ]
  },
  {
   "cell_type": "markdown",
   "id": "a758aad4",
   "metadata": {},
   "source": [
    "##### 5.2.2. Utilizando o Método de Variância"
   ]
  },
  {
   "cell_type": "code",
   "execution_count": null,
   "id": "0c217196",
   "metadata": {},
   "outputs": [
    {
     "name": "stdout",
     "output_type": "stream",
     "text": [
      "Features Selecionadas:\n",
      " [[5.1 1.4 0.2]\n",
      " [4.9 1.4 0.2]\n",
      " [4.7 1.3 0.2]\n",
      " [4.6 1.5 0.2]\n",
      " [5.  1.4 0.2]]\n"
     ]
    }
   ],
   "source": [
    "from sklearn.feature_selection import VarianceThreshold\n",
    "\n",
    "# Carregar o dataset Iris\n",
    "iris = load_iris()\n",
    "X, y = iris.data, iris.target\n",
    "\n",
    "# Aplicar threshold de variância\n",
    "selector = VarianceThreshold(threshold=0.2)\n",
    "X_new = selector.fit_transform(X)\n",
    "\n",
    "print(\"Features Selecionadas:\\n\", X_new[:5])"
   ]
  },
  {
   "cell_type": "markdown",
   "id": "ba7e7d7f",
   "metadata": {},
   "source": [
    "#### 5.3. Wrapper\n",
    "As técnicas de Wrapper utilizam um modelo preditivo para avaliar a combinação de features, selecionando o subconjunto que resulta na melhor performance do modelo.\n",
    "\n",
    "##### 5.3.1. Recursive Feature Elimination (RFE)"
   ]
  },
  {
   "cell_type": "code",
   "execution_count": null,
   "id": "1d4928c2",
   "metadata": {},
   "outputs": [
    {
     "name": "stdout",
     "output_type": "stream",
     "text": [
      "Features Selecionadas:\n",
      " [[1.4 0.2]\n",
      " [1.4 0.2]\n",
      " [1.3 0.2]\n",
      " [1.5 0.2]\n",
      " [1.4 0.2]]\n"
     ]
    }
   ],
   "source": [
    "from sklearn.datasets import load_iris\n",
    "from sklearn.feature_selection import RFE\n",
    "from sklearn.linear_model import LogisticRegression\n",
    "\n",
    "# Carregar o dataset Iris\n",
    "iris = load_iris()\n",
    "X, y = iris.data, iris.target\n",
    "\n",
    "# Criar o modelo de Regressão Logística\n",
    "model = LogisticRegression(max_iter=200)\n",
    "\n",
    "# Aplicar RFE para selecionar 2 melhores features\n",
    "rfe = RFE(estimator=model, n_features_to_select=2)\n",
    "X_new = rfe.fit_transform(X, y)\n",
    "\n",
    "print(\"Features Selecionadas:\\n\", X_new[:5])"
   ]
  },
  {
   "cell_type": "markdown",
   "id": "297e5194",
   "metadata": {},
   "source": [
    "#### 5.4. Embedding\n",
    "As técnicas de Embedding integram a seleção de features no próprio processo de treinamento do modelo. Algoritmos como Random Forest e Lasso Regression podem ser utilizados para este propósito.\n",
    "\n",
    "##### 5.4.1. Utilizando Random Forest"
   ]
  },
  {
   "cell_type": "code",
   "execution_count": 31,
   "id": "d79746df",
   "metadata": {},
   "outputs": [
    {
     "name": "stdout",
     "output_type": "stream",
     "text": [
      "             Feature  Importance\n",
      "3   petal width (cm)    0.451180\n",
      "2  petal length (cm)    0.443655\n",
      "0  sepal length (cm)    0.084342\n",
      "1   sepal width (cm)    0.020823\n"
     ]
    }
   ],
   "source": [
    "from sklearn.datasets import load_iris\n",
    "from sklearn.ensemble import RandomForestClassifier\n",
    "import pandas as pd\n",
    "\n",
    "# Carregar o dataset Iris\n",
    "iris = load_iris()\n",
    "X, y = iris.data, iris.target\n",
    "\n",
    "# Treinar um modelo Random Forest\n",
    "model = RandomForestClassifier(n_estimators=100)\n",
    "model.fit(X, y)\n",
    "\n",
    "# Importância das features\n",
    "importances = model.feature_importances_\n",
    "feature_names = iris.feature_names\n",
    "\n",
    "# Criar um DataFrame para visualização\n",
    "importance_df = pd.DataFrame({\n",
    "    'Feature': feature_names,\n",
    "    'Importance': importances\n",
    "}).sort_values(by='Importance', ascending=False)\n",
    "\n",
    "print(importance_df)"
   ]
  }
 ],
 "metadata": {
  "kernelspec": {
   "display_name": "venv",
   "language": "python",
   "name": "python3"
  },
  "language_info": {
   "codemirror_mode": {
    "name": "ipython",
    "version": 3
   },
   "file_extension": ".py",
   "mimetype": "text/x-python",
   "name": "python",
   "nbconvert_exporter": "python",
   "pygments_lexer": "ipython3",
   "version": "3.12.1"
  }
 },
 "nbformat": 4,
 "nbformat_minor": 5
}
