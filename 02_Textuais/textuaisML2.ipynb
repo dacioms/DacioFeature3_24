{
 "cells": [
  {
   "cell_type": "code",
   "execution_count": null,
   "metadata": {},
   "outputs": [],
   "source": []
  },
  {
   "cell_type": "markdown",
   "metadata": {},
   "source": [
    "## B. Manipular dados textuais para algoritmos de Machine Learning\n",
    "\n",
    "B.1. Utilizar a técnica de Bag-of-Words para transformar textos em vetores\n",
    "\n",
    "**Definição:**\n",
    "A técnica Bag-of-Words representa textos como a frequência de palavras, ignorando a ordem.\n",
    "\n",
    "**Exemplo em Python:**"
   ]
  },
  {
   "cell_type": "code",
   "execution_count": null,
   "metadata": {},
   "outputs": [
    {
     "name": "stdout",
     "output_type": "stream",
     "text": [
      "['documento' 'este' 'primeiro' 'segundo' 'terceiro']\n",
      "[[1 1 1 0 0]\n",
      " [2 1 0 1 0]\n",
      " [0 1 0 0 1]]\n"
     ]
    }
   ],
   "source": [
    "from sklearn.feature_extraction.text import CountVectorizer\n",
    "\n",
    "# Documentos de exemplo\n",
    "documentos = [\"Este é o primeiro documento.\", \"Este documento é o segundo documento.\", \"E este é o terceiro.\"]\n",
    "\n",
    "# Aplicar Bag-of-Words\n",
    "vectorizer = CountVectorizer()\n",
    "X = vectorizer.fit_transform(documentos)\n",
    "\n",
    "print(vectorizer.get_feature_names_out())\n",
    "print(X.toarray())"
   ]
  },
  {
   "cell_type": "markdown",
   "metadata": {},
   "source": [
    "**Exercício Prático:**\n",
    "1. Colete 10 textos de notícias de diferentes fontes.\n",
    "2. Aplique a técnica de Bag-of-Words para transformar os textos em vetores.\n",
    "3. Verifique as palavras mais frequentes em cada documento e no conjunto total.\n",
    "\n",
    "B.2. Utilizar a técnica de Bag-of-nGrams para transformar textos em vetores\n",
    "\n",
    "**Definição:**\n",
    "Bag-of-nGrams é uma extensão do Bag-of-Words que considera sequências de n palavras.\n",
    "\n",
    "**Exemplo em Python:**"
   ]
  },
  {
   "cell_type": "code",
   "execution_count": null,
   "metadata": {},
   "outputs": [
    {
     "name": "stdout",
     "output_type": "stream",
     "text": [
      "['documento segundo' 'este documento' 'este primeiro' 'este terceiro'\n",
      " 'primeiro documento' 'segundo documento']\n",
      "[[0 0 1 0 1 0]\n",
      " [1 1 0 0 0 1]\n",
      " [0 0 0 1 0 0]]\n"
     ]
    }
   ],
   "source": [
    "from sklearn.feature_extraction.text import CountVectorizer\n",
    "\n",
    "# Documentos de exemplo\n",
    "documentos = [\"Este é o primeiro documento.\", \"Este documento é o segundo documento.\", \"E este é o terceiro.\"]\n",
    "\n",
    "# Aplicar Bag-of-nGrams\n",
    "vectorizer = CountVectorizer(ngram_range=(2, 2))\n",
    "X = vectorizer.fit_transform(documentos)\n",
    "\n",
    "print(vectorizer.get_feature_names_out())\n",
    "print(X.toarray())"
   ]
  },
  {
   "cell_type": "markdown",
   "metadata": {},
   "source": [
    "**Exercício Prático:**\n",
    "1. Utilize os mesmos textos do exercício anterior.\n",
    "2. Aplique a técnica de Bag-of-nGrams considerando n=2.\n",
    "3. Compare os resultados com a técnica de Bag-of-Words.\n",
    "\n",
    "B.3. Remover as stopwords para ter features mais significativas\n",
    "\n",
    "**Definição:**\n",
    "Stopwords são palavras comuns que são removidas para focar nas palavras mais importantes.\n",
    "\n",
    "**Exemplo em Python:**"
   ]
  },
  {
   "cell_type": "code",
   "execution_count": null,
   "metadata": {},
   "outputs": [
    {
     "name": "stdout",
     "output_type": "stream",
     "text": [
      "['documento' 'este' 'primeiro' 'segundo' 'terceiro']\n",
      "[[1 1 1 0 0]\n",
      " [2 1 0 1 0]\n",
      " [0 1 0 0 1]]\n"
     ]
    }
   ],
   "source": [
    "from sklearn.feature_extraction.text import CountVectorizer\n",
    "\n",
    "# Documentos de exemplo\n",
    "documentos = [\"Este é o primeiro documento.\", \"Este documento é o segundo documento.\", \"E este é o terceiro.\"]\n",
    "\n",
    "# Aplicar Bag-of-Words com remoção de stopwords\n",
    "vectorizer = CountVectorizer(stop_words='english')\n",
    "X = vectorizer.fit_transform(documentos)\n",
    "\n",
    "print(vectorizer.get_feature_names_out())\n",
    "print(X.toarray())"
   ]
  },
  {
   "cell_type": "markdown",
   "metadata": {},
   "source": [
    "**Exercício Prático:**\n",
    "1. Utilize os textos do exercício anterior.\n",
    "2. Aplique a técnica de Bag-of-Words removendo stopwords.\n",
    "3. Compare os resultados antes e depois da remoção de stopwords.\n",
    "\n",
    "B.4. Realizar stemming e lemmatization de expressões usando a biblioteca nltk\n",
    "\n",
    "**Definição:**\n",
    "Stemming e lemmatization são técnicas para reduzir palavras às suas formas base ou raiz.\n",
    "\n",
    "**Exemplo em Python:**"
   ]
  },
  {
   "cell_type": "code",
   "execution_count": null,
   "metadata": {},
   "outputs": [
    {
     "name": "stdout",
     "output_type": "stream",
     "text": [
      "['run', 'run', 'easili', 'fairli']\n",
      "['running', 'run', 'easily', 'fairly']\n"
     ]
    },
    {
     "name": "stderr",
     "output_type": "stream",
     "text": [
      "[nltk_data] Downloading package wordnet to\n",
      "[nltk_data]     C:\\Users\\dacio\\AppData\\Roaming\\nltk_data...\n",
      "[nltk_data]   Package wordnet is already up-to-date!\n"
     ]
    }
   ],
   "source": [
    "from nltk.stem import PorterStemmer, WordNetLemmatizer\n",
    "import nltk\n",
    "nltk.download('wordnet')\n",
    "\n",
    "# Exemplo de frases\n",
    "frases = [\"running\", \"runs\", \"easily\", \"fairly\"]\n",
    "\n",
    "# Aplicar stemming\n",
    "stemmer = PorterStemmer()\n",
    "stemmed_words = [stemmer.stem(word) for word in frases]\n",
    "\n",
    "# Aplicar lemmatization\n",
    "lemmatizer = WordNetLemmatizer()\n",
    "lemmatized_words = [lemmatizer.lemmatize(word) for word in frases]\n",
    "\n",
    "print(stemmed_words)\n",
    "print(lemmatized_words)"
   ]
  },
  {
   "cell_type": "markdown",
   "metadata": {},
   "source": [
    "**Exercício Prático:**\n",
    "1. Colete um conjunto de 20 palavras variadas (verbos, advérbios, substantivos).\n",
    "2. Aplique o stemming utilizando o `PorterStemmer`.\n",
    "3. Aplique a lemmatization utilizando o `WordNetLemmatizer`.\n",
    "4. Compare os resultados e discuta as diferenças entre as duas técnicas.\n",
    "\n",
    "B.5. Calcular Tf-Idf das palavras em uma base de documentos\n",
    "\n",
    "**Definição:**\n",
    "TF-IDF é uma técnica que pondera a frequência das palavras pela inversa da frequência nos documentos.\n",
    "\n",
    "**Exemplo em Python:**"
   ]
  },
  {
   "cell_type": "code",
   "execution_count": null,
   "metadata": {},
   "outputs": [
    {
     "name": "stdout",
     "output_type": "stream",
     "text": [
      "['documento' 'este' 'primeiro' 'segundo' 'terceiro']\n",
      "[[0.54783215 0.42544054 0.72033345 0.         0.        ]\n",
      " [0.7948031  0.30861775 0.         0.52253528 0.        ]\n",
      " [0.         0.50854232 0.         0.         0.861037  ]]\n"
     ]
    }
   ],
   "source": [
    "from sklearn.feature_extraction.text import TfidfVectorizer\n",
    "\n",
    "# Documentos de exemplo\n",
    "documentos = [\"Este é o primeiro documento.\", \"Este documento é o segundo documento.\", \"E este é o terceiro.\"]\n",
    "\n",
    "# Aplicar TF-IDF\n",
    "vectorizer = TfidfVectorizer()\n",
    "X = vectorizer.fit_transform(documentos)\n",
    "\n",
    "print(vectorizer.get_feature_names_out())\n",
    "print(X.toarray())"
   ]
  },
  {
   "cell_type": "markdown",
   "metadata": {},
   "source": [
    "**Exercício Prático:**\n",
    "1. Utilize os textos dos exercícios anteriores.\n",
    "2. Aplique a técnica TF-IDF para calcular a importância das palavras.\n",
    "3. Compare os vetores TF-IDF com os vetores de Bag-of-Words e Bag-of-nGrams.\n",
    "\n",
    "B.6. Criar um modelo de classificação simples usando uma base codificada por TF-IDF\n",
    "\n",
    "**Exemplo em Python:**"
   ]
  },
  {
   "cell_type": "code",
   "execution_count": null,
   "metadata": {},
   "outputs": [
    {
     "name": "stdout",
     "output_type": "stream",
     "text": [
      "Acurácia: 0.0\n"
     ]
    }
   ],
   "source": [
    "from sklearn.feature_extraction.text import TfidfVectorizer\n",
    "from sklearn.naive_bayes import MultinomialNB\n",
    "from sklearn.model_selection import train_test_split\n",
    "from sklearn.metrics import accuracy_score\n",
    "\n",
    "# Documentos de exemplo\n",
    "documentos = [\"Este é um bom filme.\", \"Eu não gostei deste filme.\", \"Filme excelente, recomendo!\", \"Não foi um bom filme.\"]\n",
    "labels = [1, 0, 1, 0]  # 1 = positivo, 0 = negativo\n",
    "\n",
    "# Aplicar TF-IDF\n",
    "vectorizer = TfidfVectorizer()\n",
    "X = vectorizer.fit_transform(documentos)\n",
    "\n",
    "# Dividir em treino e teste\n",
    "X_train, X_test, y_train, y_test = train_test_split(X, labels, test_size=0.25, random_state=42)\n",
    "\n",
    "# Treinar modelo de classificação\n",
    "modelo = MultinomialNB()\n",
    "modelo.fit(X_train, y_train)\n",
    "\n",
    "# Avaliar modelo\n",
    "y_pred = modelo.predict(X_test)\n",
    "print(\"Acurácia:\", accuracy_score(y_test, y_pred))"
   ]
  },
  {
   "cell_type": "markdown",
   "metadata": {},
   "source": [
    "**Exercício Prático:**\n",
    "1. Colete um conjunto de 50 reviews de filmes, classificando-os como positivos ou negativos.\n",
    "2. Utilize a técnica TF-IDF para transformar os textos em vetores.\n",
    "3. Treine um modelo de classificação utilizando `MultinomialNB`.\n",
    "4. Avalie a performance do modelo utilizando métricas como acurácia, precisão e recall.\n",
    "\n"
   ]
  },
  {
   "cell_type": "markdown",
   "metadata": {},
   "source": [
    "## Exercícios\n",
    "\n",
    "**Exercícios Práticos para Alunos sobre Vetorização de Dados Textuais**\n",
    "\n",
    "### Exercício 1: Utilizar a técnica de Bag-of-Words para transformar textos em vetores\n",
    "\n",
    "**Objetivo:**\n",
    "Aplicar a técnica Bag-of-Words em um conjunto de textos e entender como transformar textos em vetores de frequência de palavras.\n",
    "\n",
    "**Instruções:**\n",
    "1. Colete 10 textos de notícias de diferentes fontes. Cada texto deve ter entre 50 e 100 palavras.\n",
    "2. Importe a biblioteca `CountVectorizer` do scikit-learn.\n",
    "3. Aplique a técnica Bag-of-Words nos textos coletados.\n",
    "4. Liste as palavras mais frequentes em cada documento e no conjunto total.\n",
    "\n",
    "**Código Exemplo:**"
   ]
  },
  {
   "cell_type": "code",
   "execution_count": null,
   "metadata": {},
   "outputs": [
    {
     "name": "stdout",
     "output_type": "stream",
     "text": [
      "Palavras: ['10' 'texto']\n",
      "Matriz de Frequência:\n",
      " [[0 1]\n",
      " [0 1]\n",
      " [0 1]\n",
      " [0 1]\n",
      " [0 1]\n",
      " [0 1]\n",
      " [0 1]\n",
      " [0 1]\n",
      " [0 1]\n",
      " [1 1]]\n"
     ]
    }
   ],
   "source": [
    "from sklearn.feature_extraction.text import CountVectorizer\n",
    "\n",
    "# Textos de exemplo (substitua pelos textos coletados)\n",
    "documentos = [\"Texto 1...\", \"Texto 2...\", \"Texto 3...\", \"Texto 4...\", \"Texto 5...\",\n",
    "              \"Texto 6...\", \"Texto 7...\", \"Texto 8...\", \"Texto 9...\", \"Texto 10...\"]\n",
    "\n",
    "# Aplicar Bag-of-Words\n",
    "vectorizer = CountVectorizer()\n",
    "X = vectorizer.fit_transform(documentos)\n",
    "\n",
    "print(\"Palavras:\", vectorizer.get_feature_names_out())\n",
    "print(\"Matriz de Frequência:\\n\", X.toarray())"
   ]
  },
  {
   "cell_type": "markdown",
   "metadata": {},
   "source": [
    "### Exercício 2: Utilizar a técnica de Bag-of-nGrams para transformar textos em vetores\n",
    "\n",
    "**Objetivo:**\n",
    "Explorar a técnica Bag-of-nGrams e compreender como a sequência de palavras pode influenciar a representação dos textos.\n",
    "\n",
    "**Instruções:**\n",
    "1. Utilize os mesmos textos do exercício anterior.\n",
    "2. Importe a biblioteca `CountVectorizer` do scikit-learn.\n",
    "3. Aplique a técnica Bag-of-nGrams considerando n=2.\n",
    "4. Compare os resultados com a técnica Bag-of-Words.\n",
    "\n",
    "**Código Exemplo:**"
   ]
  },
  {
   "cell_type": "code",
   "execution_count": null,
   "metadata": {},
   "outputs": [
    {
     "name": "stdout",
     "output_type": "stream",
     "text": [
      "nGrams: ['texto 10']\n",
      "Matriz de Frequência:\n",
      " [[0]\n",
      " [0]\n",
      " [0]\n",
      " [0]\n",
      " [0]\n",
      " [0]\n",
      " [0]\n",
      " [0]\n",
      " [0]\n",
      " [1]]\n"
     ]
    }
   ],
   "source": [
    "from sklearn.feature_extraction.text import CountVectorizer\n",
    "\n",
    "# Textos de exemplo (substitua pelos textos coletados)\n",
    "documentos = [\"Texto 1...\", \"Texto 2...\", \"Texto 3...\", \"Texto 4...\", \"Texto 5...\",\n",
    "              \"Texto 6...\", \"Texto 7...\", \"Texto 8...\", \"Texto 9...\", \"Texto 10...\"]\n",
    "\n",
    "# Aplicar Bag-of-nGrams\n",
    "vectorizer = CountVectorizer(ngram_range=(2, 2))\n",
    "X = vectorizer.fit_transform(documentos)\n",
    "\n",
    "print(\"nGrams:\", vectorizer.get_feature_names_out())\n",
    "print(\"Matriz de Frequência:\\n\", X.toarray())"
   ]
  },
  {
   "cell_type": "markdown",
   "metadata": {},
   "source": [
    "### Exercício 3: Remover as stopwords para ter features mais significativas\n",
    "\n",
    "**Objetivo:**\n",
    "Remover palavras comuns (stopwords) para focar nas palavras mais importantes e significativas dos textos.\n",
    "\n",
    "**Instruções:**\n",
    "1. Utilize os textos do exercício anterior.\n",
    "2. Importe a biblioteca `CountVectorizer` do scikit-learn.\n",
    "3. Aplique a técnica Bag-of-Words removendo as stopwords.\n",
    "4. Compare os resultados antes e depois da remoção de stopwords.\n",
    "\n",
    "**Código Exemplo:**"
   ]
  },
  {
   "cell_type": "code",
   "execution_count": null,
   "metadata": {},
   "outputs": [
    {
     "name": "stdout",
     "output_type": "stream",
     "text": [
      "Palavras sem Stopwords: ['10' 'texto']\n",
      "Matriz de Frequência sem Stopwords:\n",
      " [[0 1]\n",
      " [0 1]\n",
      " [0 1]\n",
      " [0 1]\n",
      " [0 1]\n",
      " [0 1]\n",
      " [0 1]\n",
      " [0 1]\n",
      " [0 1]\n",
      " [1 1]]\n"
     ]
    }
   ],
   "source": [
    "from sklearn.feature_extraction.text import CountVectorizer\n",
    "\n",
    "# Textos de exemplo (substitua pelos textos coletados)\n",
    "documentos = [\"Texto 1...\", \"Texto 2...\", \"Texto 3...\", \"Texto 4...\", \"Texto 5...\",\n",
    "              \"Texto 6...\", \"Texto 7...\", \"Texto 8...\", \"Texto 9...\", \"Texto 10...\"]\n",
    "\n",
    "# Aplicar Bag-of-Words com remoção de stopwords\n",
    "vectorizer = CountVectorizer(stop_words='english')\n",
    "X = vectorizer.fit_transform(documentos)\n",
    "\n",
    "print(\"Palavras sem Stopwords:\", vectorizer.get_feature_names_out())\n",
    "print(\"Matriz de Frequência sem Stopwords:\\n\", X.toarray())"
   ]
  },
  {
   "cell_type": "markdown",
   "metadata": {},
   "source": [
    "### Exercício 4: Realizar stemming e lemmatization de expressões usando a biblioteca nltk\n",
    "\n",
    "**Objetivo:**\n",
    "Aplicar as técnicas de stemming e lemmatization para reduzir palavras às suas formas base ou raiz.\n",
    "\n",
    "**Instruções:**\n",
    "1. Colete um conjunto de 20 palavras variadas (verbos, advérbios, substantivos).\n",
    "2. Importe as bibliotecas `PorterStemmer` e `WordNetLemmatizer` da nltk.\n",
    "3. Aplique o stemming utilizando o `PorterStemmer`.\n",
    "4. Aplique a lemmatization utilizando o `WordNetLemmatizer`.\n",
    "5. Compare os resultados e discuta as diferenças entre as duas técnicas.\n",
    "\n",
    "**Código Exemplo:**"
   ]
  },
  {
   "cell_type": "code",
   "execution_count": null,
   "metadata": {},
   "outputs": [
    {
     "name": "stdout",
     "output_type": "stream",
     "text": [
      "Stemming: ['run', 'run', 'easili', 'fairli', 'drive', 'drove', 'better', 'good', 'dog', 'fli']\n",
      "Lemmatization: ['running', 'run', 'easily', 'fairly', 'driving', 'drove', 'better', 'good', 'dog', 'flying']\n"
     ]
    },
    {
     "name": "stderr",
     "output_type": "stream",
     "text": [
      "[nltk_data] Downloading package wordnet to\n",
      "[nltk_data]     C:\\Users\\dacio\\AppData\\Roaming\\nltk_data...\n",
      "[nltk_data]   Package wordnet is already up-to-date!\n"
     ]
    }
   ],
   "source": [
    "from nltk.stem import PorterStemmer, WordNetLemmatizer\n",
    "import nltk\n",
    "nltk.download('wordnet')\n",
    "\n",
    "# Exemplo de palavras\n",
    "palavras = [\"running\", \"runs\", \"easily\", \"fairly\", \"driving\", \"drove\", \"better\", \"good\", \"dogs\", \"flying\"]\n",
    "\n",
    "# Aplicar stemming\n",
    "stemmer = PorterStemmer()\n",
    "stemmed_words = [stemmer.stem(word) for word in palavras]\n",
    "\n",
    "# Aplicar lemmatization\n",
    "lemmatizer = WordNetLemmatizer()\n",
    "lemmatized_words = [lemmatizer.lemmatize(word) for word in palavras]\n",
    "\n",
    "print(\"Stemming:\", stemmed_words)\n",
    "print(\"Lemmatization:\", lemmatized_words)"
   ]
  },
  {
   "cell_type": "markdown",
   "metadata": {},
   "source": [
    "### Exercício 5: Calcular Tf-Idf das palavras em uma base de documentos\n",
    "\n",
    "**Objetivo:**\n",
    "Aplicar a técnica TF-IDF para calcular a importância das palavras em um conjunto de textos.\n",
    "\n",
    "**Instruções:**\n",
    "1. Utilize os textos dos exercícios anteriores.\n",
    "2. Importe a biblioteca `TfidfVectorizer` do scikit-learn.\n",
    "3. Aplique a técnica TF-IDF para calcular a importância das palavras.\n",
    "4. Compare os vetores TF-IDF com os vetores de Bag-of-Words e Bag-of-nGrams.\n",
    "\n",
    "**Código Exemplo:**"
   ]
  },
  {
   "cell_type": "code",
   "execution_count": null,
   "metadata": {},
   "outputs": [
    {
     "name": "stdout",
     "output_type": "stream",
     "text": [
      "Palavras com TF-IDF: ['10' 'texto']\n",
      "Matriz TF-IDF:\n",
      " [[0.         1.        ]\n",
      " [0.         1.        ]\n",
      " [0.         1.        ]\n",
      " [0.         1.        ]\n",
      " [0.         1.        ]\n",
      " [0.         1.        ]\n",
      " [0.         1.        ]\n",
      " [0.         1.        ]\n",
      " [0.         1.        ]\n",
      " [0.93794722 0.34677803]]\n"
     ]
    }
   ],
   "source": [
    "from sklearn.feature_extraction.text import TfidfVectorizer\n",
    "\n",
    "# Textos de exemplo (substitua pelos textos coletados)\n",
    "documentos = [\"Texto 1...\", \"Texto 2...\", \"Texto 3...\", \"Texto 4...\", \"Texto 5...\",\n",
    "              \"Texto 6...\", \"Texto 7...\", \"Texto 8...\", \"Texto 9...\", \"Texto 10...\"]\n",
    "\n",
    "# Aplicar TF-IDF\n",
    "vectorizer = TfidfVectorizer()\n",
    "X = vectorizer.fit_transform(documentos)\n",
    "\n",
    "print(\"Palavras com TF-IDF:\", vectorizer.get_feature_names_out())\n",
    "print(\"Matriz TF-IDF:\\n\", X.toarray())"
   ]
  },
  {
   "cell_type": "markdown",
   "metadata": {},
   "source": [
    "### Exercício 6: Criar um modelo de classificação simples usando uma base codificada por TF-IDF\n",
    "\n",
    "**Objetivo:**\n",
    "Treinar e avaliar um modelo de classificação utilizando a técnica TF-IDF para codificar os textos.\n",
    "\n",
    "**Instruções:**\n",
    "1. Colete um conjunto de 50 reviews de filmes, classificando-os como positivos ou negativos.\n",
    "2. Utilize a técnica TF-IDF para transformar os textos em vetores.\n",
    "3. Treine um modelo de classificação utilizando `MultinomialNB`.\n",
    "4. Avalie a performance do modelo utilizando métricas como acurácia, precisão e recall.\n",
    "\n",
    "**Código Exemplo:**"
   ]
  },
  {
   "cell_type": "code",
   "execution_count": null,
   "metadata": {},
   "outputs": [
    {
     "name": "stdout",
     "output_type": "stream",
     "text": [
      "Acurácia: 0.3333333333333333\n",
      "Precisão: 0.3333333333333333\n",
      "Recall: 1.0\n"
     ]
    }
   ],
   "source": [
    "from sklearn.feature_extraction.text import TfidfVectorizer\n",
    "from sklearn.naive_bayes import MultinomialNB\n",
    "from sklearn.model_selection import train_test_split\n",
    "from sklearn.metrics import accuracy_score, precision_score, recall_score\n",
    "\n",
    "# Reviews de exemplo (substitua pelos reviews coletados)\n",
    "documentos = [\"Este é um bom filme.\", \"Eu não gostei deste filme.\", \"Filme excelente, recomendo!\", \"Não foi um bom filme.\",\n",
    "              \"Ótima atuação e enredo.\", \"Muito chato e previsível.\", \"Uma obra-prima.\", \"Não vale a pena assistir.\",\n",
    "              \"Simplesmente adorável.\", \"Terrível e decepcionante.\"]\n",
    "labels = [1, 0, 1, 0, 1, 0, 1, 0, 1, 0]  # 1 = positivo, 0 = negativo\n",
    "\n",
    "# Aplicar TF-IDF\n",
    "vectorizer = TfidfVectorizer()\n",
    "X = vectorizer.fit_transform(documentos)\n",
    "\n",
    "# Dividir em treino e teste\n",
    "X_train, X_test, y_train, y_test = train_test_split(X, labels, test_size=0.25, random_state=42)\n",
    "\n",
    "# Treinar modelo de classificação\n",
    "modelo = MultinomialNB()\n",
    "modelo.fit(X_train, y_train)\n",
    "\n",
    "# Avaliar modelo\n",
    "y_pred = modelo.predict(X_test)\n",
    "print(\"Acurácia:\", accuracy_score(y_test, y_pred))\n",
    "print(\"Precisão:\", precision_score(y_test, y_pred))\n",
    "print(\"Recall:\", recall_score(y_test, y_pred))"
   ]
  }
 ],
 "metadata": {
  "language_info": {
   "name": "python"
  }
 },
 "nbformat": 4,
 "nbformat_minor": 2
}
