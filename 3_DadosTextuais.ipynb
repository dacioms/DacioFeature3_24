{
 "cells": [
  {
   "cell_type": "code",
   "execution_count": null,
   "metadata": {},
   "outputs": [],
   "source": []
  },
  {
   "cell_type": "markdown",
   "metadata": {},
   "source": [
    "B. Manipular dados textuais para algoritmos de Machine Learning\n",
    "\n",
    "B.1. Utilizar a técnica de Bag-of-Words para transformar textos em vetores\n",
    "\n",
    "A técnica Bag-of-Words representa textos como a frequência de palavras, ignorando a ordem.\n",
    "\n",
    "**Exemplo em Python:**"
   ]
  },
  {
   "cell_type": "code",
   "execution_count": null,
   "metadata": {},
   "outputs": [
    {
     "name": "stdout",
     "output_type": "stream",
     "text": [
      "['documento' 'este' 'primeiro' 'segundo' 'terceiro']\n",
      "[[1 1 1 0 0]\n",
      " [2 1 0 1 0]\n",
      " [0 1 0 0 1]]\n"
     ]
    }
   ],
   "source": [
    "from sklearn.feature_extraction.text import CountVectorizer\n",
    "\n",
    "# Documentos de exemplo\n",
    "documentos = [\"Este é o primeiro documento.\", \"Este documento é o segundo documento.\", \"E este é o terceiro.\"]\n",
    "\n",
    "# Aplicar Bag-of-Words\n",
    "vectorizer = CountVectorizer()\n",
    "X = vectorizer.fit_transform(documentos)\n",
    "\n",
    "print(vectorizer.get_feature_names_out())\n",
    "print(X.toarray())"
   ]
  },
  {
   "cell_type": "markdown",
   "metadata": {},
   "source": [
    "B.2. Utilizar a técnica de Bag-of-nGrams para transformar textos em vetores\n",
    "\n",
    "Bag-of-nGrams é uma extensão do Bag-of-Words que considera sequências de n palavras.\n",
    "\n",
    "**Exemplo em Python:**"
   ]
  },
  {
   "cell_type": "code",
   "execution_count": null,
   "metadata": {},
   "outputs": [
    {
     "name": "stdout",
     "output_type": "stream",
     "text": [
      "['documento segundo' 'este documento' 'este primeiro' 'este terceiro'\n",
      " 'primeiro documento' 'segundo documento']\n",
      "[[0 0 1 0 1 0]\n",
      " [1 1 0 0 0 1]\n",
      " [0 0 0 1 0 0]]\n"
     ]
    }
   ],
   "source": [
    "from sklearn.feature_extraction.text import CountVectorizer\n",
    "\n",
    "# Documentos de exemplo\n",
    "documentos = [\"Este é o primeiro documento.\", \"Este documento é o segundo documento.\", \"E este é o terceiro.\"]\n",
    "\n",
    "# Aplicar Bag-of-nGrams\n",
    "vectorizer = CountVectorizer(ngram_range=(2, 2))\n",
    "X = vectorizer.fit_transform(documentos)\n",
    "\n",
    "print(vectorizer.get_feature_names_out())\n",
    "print(X.toarray())"
   ]
  },
  {
   "cell_type": "markdown",
   "metadata": {},
   "source": [
    "B.3. Remover as stopwords para ter features mais significativas\n",
    "\n",
    "Stopwords são palavras comuns que são removidas para focar nas palavras mais importantes.\n",
    "\n",
    "**Exemplo em Python:**"
   ]
  },
  {
   "cell_type": "code",
   "execution_count": null,
   "metadata": {},
   "outputs": [
    {
     "name": "stdout",
     "output_type": "stream",
     "text": [
      "['documento' 'este' 'primeiro' 'segundo' 'terceiro']\n",
      "[[1 1 1 0 0]\n",
      " [2 1 0 1 0]\n",
      " [0 1 0 0 1]]\n"
     ]
    }
   ],
   "source": [
    "from sklearn.feature_extraction.text import CountVectorizer\n",
    "\n",
    "# Documentos de exemplo\n",
    "documentos = [\"Este é o primeiro documento.\", \"Este documento é o segundo documento.\", \"E este é o terceiro.\"]\n",
    "\n",
    "# Aplicar Bag-of-Words com remoção de stopwords\n",
    "vectorizer = CountVectorizer(stop_words='english')\n",
    "X = vectorizer.fit_transform(documentos)\n",
    "\n",
    "print(vectorizer.get_feature_names_out())\n",
    "print(X.toarray())"
   ]
  },
  {
   "cell_type": "markdown",
   "metadata": {},
   "source": [
    "B.4. Realizar stemming e lemmatization de expressões usando a biblioteca nltk\n",
    "\n",
    "Stemming e lemmat\n",
    "\n",
    "ization são técnicas para reduzir palavras às suas formas base ou raiz.\n",
    "\n",
    "**Exemplo em Python:**"
   ]
  },
  {
   "cell_type": "code",
   "execution_count": null,
   "metadata": {},
   "outputs": [
    {
     "ename": "ModuleNotFoundError",
     "evalue": "No module named 'nltk'",
     "output_type": "error",
     "traceback": [
      "\u001b[1;31m---------------------------------------------------------------------------\u001b[0m\n",
      "\u001b[1;31mModuleNotFoundError\u001b[0m                       Traceback (most recent call last)\n",
      "Cell \u001b[1;32mIn[13], line 1\u001b[0m\n",
      "\u001b[1;32m----> 1\u001b[0m \u001b[38;5;28;01mfrom\u001b[39;00m \u001b[38;5;21;01mnltk\u001b[39;00m\u001b[38;5;21;01m.\u001b[39;00m\u001b[38;5;21;01mstem\u001b[39;00m \u001b[38;5;28;01mimport\u001b[39;00m PorterStemmer, WordNetLemmatizer\n",
      "\u001b[0;32m      2\u001b[0m \u001b[38;5;28;01mimport\u001b[39;00m \u001b[38;5;21;01mnltk\u001b[39;00m\n",
      "\u001b[0;32m      3\u001b[0m nltk\u001b[38;5;241m.\u001b[39mdownload(\u001b[38;5;124m'\u001b[39m\u001b[38;5;124mwordnet\u001b[39m\u001b[38;5;124m'\u001b[39m)\n",
      "\n",
      "\u001b[1;31mModuleNotFoundError\u001b[0m: No module named 'nltk'"
     ]
    }
   ],
   "source": [
    "from nltk.stem import PorterStemmer, WordNetLemmatizer\n",
    "import nltk\n",
    "nltk.download('wordnet')\n",
    "\n",
    "# Exemplo de frases\n",
    "frases = [\"running\", \"runs\", \"easily\", \"fairly\"]\n",
    "\n",
    "# Aplicar stemming\n",
    "stemmer = PorterStemmer()\n",
    "stemmed_words = [stemmer.stem(word) for word in frases]\n",
    "\n",
    "# Aplicar lemmatization\n",
    "lemmatizer = WordNetLemmatizer()\n",
    "lemmatized_words = [lemmatizer.lemmatize(word) for word in frases]\n",
    "\n",
    "print(stemmed_words)\n",
    "print(lemmatized_words)"
   ]
  },
  {
   "cell_type": "markdown",
   "metadata": {},
   "source": [
    "B.5. Calcular Tf-Idf das palavras em uma base de documentos\n",
    "\n",
    "TF-IDF é uma técnica que pondera a frequência das palavras pela inversa da frequência nos documentos.\n",
    "\n",
    "**Exemplo em Python:**"
   ]
  },
  {
   "cell_type": "code",
   "execution_count": null,
   "metadata": {},
   "outputs": [],
   "source": [
    "from sklearn.feature_extraction.text import TfidfVectorizer\n",
    "\n",
    "# Documentos de exemplo\n",
    "documentos = [\"Este é o primeiro documento.\", \"Este documento é o segundo documento.\", \"E este é o terceiro.\"]\n",
    "\n",
    "# Aplicar TF-IDF\n",
    "vectorizer = TfidfVectorizer()\n",
    "X = vectorizer.fit_transform(documentos)\n",
    "\n",
    "print(vectorizer.get_feature_names_out())\n",
    "print(X.toarray())"
   ]
  },
  {
   "cell_type": "markdown",
   "metadata": {},
   "source": [
    "B.6. Criar um modelo de classificação simples usando uma base codificada por TF-IDF\n",
    "\n",
    "**Exemplo em Python:**"
   ]
  },
  {
   "cell_type": "code",
   "execution_count": null,
   "metadata": {},
   "outputs": [],
   "source": [
    "from sklearn.feature_extraction.text import TfidfVectorizer\n",
    "from sklearn.naive_bayes import MultinomialNB\n",
    "from sklearn.model_selection import train_test_split\n",
    "from sklearn.metrics import accuracy_score\n",
    "\n",
    "# Documentos de exemplo\n",
    "documentos = [\"Este é um bom filme.\", \"Eu não gostei deste filme.\", \"Filme excelente, recomendo!\", \"Não foi um bom filme.\"]\n",
    "labels = [1, 0, 1, 0]  # 1 = positivo, 0 = negativo\n",
    "\n",
    "# Aplicar TF-IDF\n",
    "vectorizer = TfidfVectorizer()\n",
    "X = vectorizer.fit_transform(documentos)\n",
    "\n",
    "# Dividir em treino e teste\n",
    "X_train, X_test, y_train, y_test = train_test_split(X, labels, test_size=0.25, random_state=42)\n",
    "\n",
    "# Treinar modelo de classificação\n",
    "modelo = MultinomialNB()\n",
    "modelo.fit(X_train, y_train)\n",
    "\n",
    "# Avaliar modelo\n",
    "y_pred = modelo.predict(X_test)\n",
    "print(\"Acurácia:\", accuracy_score(y_test, y_pred))"
   ]
  },
  {
   "cell_type": "markdown",
   "metadata": {},
   "source": [
    "B. Manipular dados textuais para algoritmos de Machine Learning\n",
    "\n",
    "B.1. Utilizar a técnica de Bag-of-Words para transformar textos em vetores\n",
    "\n",
    "A técnica Bag-of-Words representa textos como a frequência de palavras, ignorando a ordem.\n",
    "\n",
    "**Exemplo em Python:**"
   ]
  },
  {
   "cell_type": "code",
   "execution_count": null,
   "metadata": {},
   "outputs": [
    {
     "name": "stdout",
     "output_type": "stream",
     "text": [
      "['documento' 'este' 'primeiro' 'segundo' 'terceiro']\n",
      "[[1 1 1 0 0]\n",
      " [2 1 0 1 0]\n",
      " [0 1 0 0 1]]\n"
     ]
    }
   ],
   "source": [
    "from sklearn.feature_extraction.text import CountVectorizer\n",
    "\n",
    "# Documentos de exemplo\n",
    "documentos = [\"Este é o primeiro documento.\", \"Este documento é o segundo documento.\", \"E este é o terceiro.\"]\n",
    "\n",
    "# Aplicar Bag-of-Words\n",
    "vectorizer = CountVectorizer()\n",
    "X = vectorizer.fit_transform(documentos)\n",
    "\n",
    "print(vectorizer.get_feature_names_out())\n",
    "print(X.toarray())"
   ]
  },
  {
   "cell_type": "markdown",
   "metadata": {},
   "source": [
    "B.2. Utilizar a técnica de Bag-of-nGrams para transformar textos em vetores\n",
    "\n",
    "Bag-of-nGrams é uma extensão do Bag-of-Words que considera sequências de n palavras.\n",
    "\n",
    "**Exemplo em Python:**"
   ]
  },
  {
   "cell_type": "code",
   "execution_count": null,
   "metadata": {},
   "outputs": [
    {
     "name": "stdout",
     "output_type": "stream",
     "text": [
      "['documento segundo' 'este documento' 'este primeiro' 'este terceiro'\n",
      " 'primeiro documento' 'segundo documento']\n",
      "[[0 0 1 0 1 0]\n",
      " [1 1 0 0 0 1]\n",
      " [0 0 0 1 0 0]]\n"
     ]
    }
   ],
   "source": [
    "from sklearn.feature_extraction.text import CountVectorizer\n",
    "\n",
    "# Documentos de exemplo\n",
    "documentos = [\"Este é o primeiro documento.\", \"Este documento é o segundo documento.\", \"E este é o terceiro.\"]\n",
    "\n",
    "# Aplicar Bag-of-nGrams\n",
    "vectorizer = CountVectorizer(ngram_range=(2, 2))\n",
    "X = vectorizer.fit_transform(documentos)\n",
    "\n",
    "print(vectorizer.get_feature_names_out())\n",
    "print(X.toarray())"
   ]
  },
  {
   "cell_type": "markdown",
   "metadata": {},
   "source": [
    "B.3. Remover as stopwords para ter features mais significativas\n",
    "\n",
    "Stopwords são palavras comuns que são removidas para focar nas palavras mais importantes.\n",
    "\n",
    "**Exemplo em Python:**"
   ]
  },
  {
   "cell_type": "code",
   "execution_count": null,
   "metadata": {},
   "outputs": [
    {
     "name": "stdout",
     "output_type": "stream",
     "text": [
      "['documento' 'este' 'primeiro' 'segundo' 'terceiro']\n",
      "[[1 1 1 0 0]\n",
      " [2 1 0 1 0]\n",
      " [0 1 0 0 1]]\n"
     ]
    }
   ],
   "source": [
    "from sklearn.feature_extraction.text import CountVectorizer\n",
    "\n",
    "# Documentos de exemplo\n",
    "documentos = [\"Este é o primeiro documento.\", \"Este documento é o segundo documento.\", \"E este é o terceiro.\"]\n",
    "\n",
    "# Aplicar Bag-of-Words com remoção de stopwords\n",
    "vectorizer = CountVectorizer(stop_words='english')\n",
    "X = vectorizer.fit_transform(documentos)\n",
    "\n",
    "print(vectorizer.get_feature_names_out())\n",
    "print(X.toarray())"
   ]
  },
  {
   "cell_type": "markdown",
   "metadata": {},
   "source": [
    "B.4. Realizar stemming e lemmatization de expressões usando a biblioteca nltk\n",
    "\n",
    "Stemming e lemmat\n",
    "\n",
    "ization são técnicas para reduzir palavras às suas formas base ou raiz.\n",
    "\n",
    "**Exemplo em Python:**"
   ]
  },
  {
   "cell_type": "code",
   "execution_count": null,
   "metadata": {},
   "outputs": [
    {
     "ename": "ModuleNotFoundError",
     "evalue": "No module named 'nltk'",
     "output_type": "error",
     "traceback": [
      "\u001b[1;31m---------------------------------------------------------------------------\u001b[0m\n",
      "\u001b[1;31mModuleNotFoundError\u001b[0m                       Traceback (most recent call last)\n",
      "Cell \u001b[1;32mIn[13], line 1\u001b[0m\n",
      "\u001b[1;32m----> 1\u001b[0m \u001b[38;5;28;01mfrom\u001b[39;00m \u001b[38;5;21;01mnltk\u001b[39;00m\u001b[38;5;21;01m.\u001b[39;00m\u001b[38;5;21;01mstem\u001b[39;00m \u001b[38;5;28;01mimport\u001b[39;00m PorterStemmer, WordNetLemmatizer\n",
      "\u001b[0;32m      2\u001b[0m \u001b[38;5;28;01mimport\u001b[39;00m \u001b[38;5;21;01mnltk\u001b[39;00m\n",
      "\u001b[0;32m      3\u001b[0m nltk\u001b[38;5;241m.\u001b[39mdownload(\u001b[38;5;124m'\u001b[39m\u001b[38;5;124mwordnet\u001b[39m\u001b[38;5;124m'\u001b[39m)\n",
      "\n",
      "\u001b[1;31mModuleNotFoundError\u001b[0m: No module named 'nltk'"
     ]
    }
   ],
   "source": [
    "from nltk.stem import PorterStemmer, WordNetLemmatizer\n",
    "import nltk\n",
    "nltk.download('wordnet')\n",
    "\n",
    "# Exemplo de frases\n",
    "frases = [\"running\", \"runs\", \"easily\", \"fairly\"]\n",
    "\n",
    "# Aplicar stemming\n",
    "stemmer = PorterStemmer()\n",
    "stemmed_words = [stemmer.stem(word) for word in frases]\n",
    "\n",
    "# Aplicar lemmatization\n",
    "lemmatizer = WordNetLemmatizer()\n",
    "lemmatized_words = [lemmatizer.lemmatize(word) for word in frases]\n",
    "\n",
    "print(stemmed_words)\n",
    "print(lemmatized_words)"
   ]
  },
  {
   "cell_type": "markdown",
   "metadata": {},
   "source": [
    "B.5. Calcular Tf-Idf das palavras em uma base de documentos\n",
    "\n",
    "TF-IDF é uma técnica que pondera a frequência das palavras pela inversa da frequência nos documentos.\n",
    "\n",
    "**Exemplo em Python:**"
   ]
  },
  {
   "cell_type": "code",
   "execution_count": null,
   "metadata": {},
   "outputs": [],
   "source": [
    "from sklearn.feature_extraction.text import TfidfVectorizer\n",
    "\n",
    "# Documentos de exemplo\n",
    "documentos = [\"Este é o primeiro documento.\", \"Este documento é o segundo documento.\", \"E este é o terceiro.\"]\n",
    "\n",
    "# Aplicar TF-IDF\n",
    "vectorizer = TfidfVectorizer()\n",
    "X = vectorizer.fit_transform(documentos)\n",
    "\n",
    "print(vectorizer.get_feature_names_out())\n",
    "print(X.toarray())"
   ]
  },
  {
   "cell_type": "markdown",
   "metadata": {},
   "source": [
    "B.6. Criar um modelo de classificação simples usando uma base codificada por TF-IDF\n",
    "\n",
    "**Exemplo em Python:**"
   ]
  },
  {
   "cell_type": "code",
   "execution_count": null,
   "metadata": {},
   "outputs": [],
   "source": [
    "from sklearn.feature_extraction.text import TfidfVectorizer\n",
    "from sklearn.naive_bayes import MultinomialNB\n",
    "from sklearn.model_selection import train_test_split\n",
    "from sklearn.metrics import accuracy_score\n",
    "\n",
    "# Documentos de exemplo\n",
    "documentos = [\"Este é um bom filme.\", \"Eu não gostei deste filme.\", \"Filme excelente, recomendo!\", \"Não foi um bom filme.\"]\n",
    "labels = [1, 0, 1, 0]  # 1 = positivo, 0 = negativo\n",
    "\n",
    "# Aplicar TF-IDF\n",
    "vectorizer = TfidfVectorizer()\n",
    "X = vectorizer.fit_transform(documentos)\n",
    "\n",
    "# Dividir em treino e teste\n",
    "X_train, X_test, y_train, y_test = train_test_split(X, labels, test_size=0.25, random_state=42)\n",
    "\n",
    "# Treinar modelo de classificação\n",
    "modelo = MultinomialNB()\n",
    "modelo.fit(X_train, y_train)\n",
    "\n",
    "# Avaliar modelo\n",
    "y_pred = modelo.predict(X_test)\n",
    "print(\"Acurácia:\", accuracy_score(y_test, y_pred))"
   ]
  }
 ],
 "metadata": {
  "language_info": {
   "name": "python"
  }
 },
 "nbformat": 4,
 "nbformat_minor": 2
}
